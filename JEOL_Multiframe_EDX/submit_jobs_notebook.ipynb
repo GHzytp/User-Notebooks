{
 "cells": [
  {
   "cell_type": "markdown",
   "metadata": {},
   "source": [
    "# Multiframe EDX Spectrum Images Data Analsyis workflow"
   ]
  },
  {
   "cell_type": "markdown",
   "metadata": {},
   "source": [
    "***This notebook is to be run with python/epsic3.7 - not in Jupyterhub***\n",
    "\n",
    "Finds the pts / APB files in a visit and submit conversion jobs to DLS Science cluster.<br/>\n",
    "Output of the convserion code:\n",
    "- HDF5 file with the EDX and image stacks, along with a basic shifts vectors to align\n",
    "- Sum image\n",
    "- Sum spectrum\n",
    "- Plot of the estimated shifts X/Y\n",
    "- Plot of the evolution of elemental composition through the stack"
   ]
  },
  {
   "cell_type": "code",
   "execution_count": 1,
   "metadata": {},
   "outputs": [
    {
     "name": "stderr",
     "output_type": "stream",
     "text": [
      "/dls_sw/apps/python/anaconda/4.6.14/64/envs/epsic3.7/lib/python3.7/site-packages/pyUSID/viz/__init__.py:18: FutureWarning: Please use sidpy.viz.plot_utils instead of pyUSID.viz.plot_utils. pyUSID.plot_utils will be removed in a future release of pyUSID\n",
      "  FutureWarning)\n"
     ]
    }
   ],
   "source": [
    "%load_ext autoreload\n",
    "%autoreload 2\n",
    "\n",
    "%matplotlib notebook\n",
    "import os\n",
    "import h5py\n",
    "import hyperspy.api as hs"
   ]
  },
  {
   "cell_type": "code",
   "execution_count": 2,
   "metadata": {},
   "outputs": [],
   "source": [
    "root_path = '/dls/e01/data/2022/mg28816-3/EDX'"
   ]
  },
  {
   "cell_type": "code",
   "execution_count": 3,
   "metadata": {},
   "outputs": [],
   "source": [
    "all_files = [os.path.join(root,f) for root,dirs,files in os.walk(root_path) for f in files]"
   ]
  },
  {
   "cell_type": "code",
   "execution_count": 4,
   "metadata": {},
   "outputs": [
    {
     "name": "stderr",
     "output_type": "stream",
     "text": [
      "\t\n",
      "\n",
      "\t Welcome to the DLS compute cluster\n",
      "\n",
      "\t For MPI jobs, please use 'module load openmpi'.\n",
      "\n",
      "\t If using a different OpenMPI installation,\n",
      "\t or manually specifying path to OpenMPI, option\n",
      "\t '-mca orte_forward_job_control 1'\n",
      "\t must be added to mpirun to ensure cluster functionality.\n",
      "\n",
      "\t To use a GPU node, the consumable 'gpu' must be requested,\n",
      "\t including the number of GPUs required (e.g. 'qrsh -l gpu=2').\n",
      "\n",
      "\t Grid Engine documentation (e.g. User Guide) can be found in\n",
      "\t /dls_sw/cluster/docs and on Confluence.\n",
      "\n",
      "\t Interactive jobs are limited to 12 hours with a one hour default.\n",
      "\t To request more than one hour, use '-l h_rt=hh:mm:ss.\n",
      "\n",
      "\t Please report any issues to itsupport@diamond.ac.uk\n",
      "\n"
     ]
    },
    {
     "name": "stdout",
     "output_type": "stream",
     "text": [
      "Your job 42251833 (\"submit_conversion.sh\") has been submitted\n"
     ]
    },
    {
     "name": "stderr",
     "output_type": "stream",
     "text": [
      "\t\n",
      "\n",
      "\t Welcome to the DLS compute cluster\n",
      "\n",
      "\t For MPI jobs, please use 'module load openmpi'.\n",
      "\n",
      "\t If using a different OpenMPI installation,\n",
      "\t or manually specifying path to OpenMPI, option\n",
      "\t '-mca orte_forward_job_control 1'\n",
      "\t must be added to mpirun to ensure cluster functionality.\n",
      "\n",
      "\t To use a GPU node, the consumable 'gpu' must be requested,\n",
      "\t including the number of GPUs required (e.g. 'qrsh -l gpu=2').\n",
      "\n",
      "\t Grid Engine documentation (e.g. User Guide) can be found in\n",
      "\t /dls_sw/cluster/docs and on Confluence.\n",
      "\n",
      "\t Interactive jobs are limited to 12 hours with a one hour default.\n",
      "\t To request more than one hour, use '-l h_rt=hh:mm:ss.\n",
      "\n",
      "\t Please report any issues to itsupport@diamond.ac.uk\n",
      "\n"
     ]
    },
    {
     "name": "stdout",
     "output_type": "stream",
     "text": [
      "Your job 42251834 (\"submit_conversion.sh\") has been submitted\n"
     ]
    },
    {
     "name": "stderr",
     "output_type": "stream",
     "text": [
      "\t\n",
      "\n",
      "\t Welcome to the DLS compute cluster\n",
      "\n",
      "\t For MPI jobs, please use 'module load openmpi'.\n",
      "\n",
      "\t If using a different OpenMPI installation,\n",
      "\t or manually specifying path to OpenMPI, option\n",
      "\t '-mca orte_forward_job_control 1'\n",
      "\t must be added to mpirun to ensure cluster functionality.\n",
      "\n",
      "\t To use a GPU node, the consumable 'gpu' must be requested,\n",
      "\t including the number of GPUs required (e.g. 'qrsh -l gpu=2').\n",
      "\n",
      "\t Grid Engine documentation (e.g. User Guide) can be found in\n",
      "\t /dls_sw/cluster/docs and on Confluence.\n",
      "\n",
      "\t Interactive jobs are limited to 12 hours with a one hour default.\n",
      "\t To request more than one hour, use '-l h_rt=hh:mm:ss.\n",
      "\n",
      "\t Please report any issues to itsupport@diamond.ac.uk\n",
      "\n"
     ]
    },
    {
     "name": "stdout",
     "output_type": "stream",
     "text": [
      "Your job 42251835 (\"submit_conversion.sh\") has been submitted\n"
     ]
    },
    {
     "name": "stderr",
     "output_type": "stream",
     "text": [
      "\t\n",
      "\n",
      "\t Welcome to the DLS compute cluster\n",
      "\n",
      "\t For MPI jobs, please use 'module load openmpi'.\n",
      "\n",
      "\t If using a different OpenMPI installation,\n",
      "\t or manually specifying path to OpenMPI, option\n",
      "\t '-mca orte_forward_job_control 1'\n",
      "\t must be added to mpirun to ensure cluster functionality.\n",
      "\n",
      "\t To use a GPU node, the consumable 'gpu' must be requested,\n",
      "\t including the number of GPUs required (e.g. 'qrsh -l gpu=2').\n",
      "\n",
      "\t Grid Engine documentation (e.g. User Guide) can be found in\n",
      "\t /dls_sw/cluster/docs and on Confluence.\n",
      "\n",
      "\t Interactive jobs are limited to 12 hours with a one hour default.\n",
      "\t To request more than one hour, use '-l h_rt=hh:mm:ss.\n",
      "\n",
      "\t Please report any issues to itsupport@diamond.ac.uk\n",
      "\n"
     ]
    },
    {
     "name": "stdout",
     "output_type": "stream",
     "text": [
      "Your job 42251836 (\"submit_conversion.sh\") has been submitted\n"
     ]
    },
    {
     "name": "stderr",
     "output_type": "stream",
     "text": [
      "\t\n",
      "\n",
      "\t Welcome to the DLS compute cluster\n",
      "\n",
      "\t For MPI jobs, please use 'module load openmpi'.\n",
      "\n",
      "\t If using a different OpenMPI installation,\n",
      "\t or manually specifying path to OpenMPI, option\n",
      "\t '-mca orte_forward_job_control 1'\n",
      "\t must be added to mpirun to ensure cluster functionality.\n",
      "\n",
      "\t To use a GPU node, the consumable 'gpu' must be requested,\n",
      "\t including the number of GPUs required (e.g. 'qrsh -l gpu=2').\n",
      "\n",
      "\t Grid Engine documentation (e.g. User Guide) can be found in\n",
      "\t /dls_sw/cluster/docs and on Confluence.\n",
      "\n",
      "\t Interactive jobs are limited to 12 hours with a one hour default.\n",
      "\t To request more than one hour, use '-l h_rt=hh:mm:ss.\n",
      "\n",
      "\t Please report any issues to itsupport@diamond.ac.uk\n",
      "\n"
     ]
    },
    {
     "name": "stdout",
     "output_type": "stream",
     "text": [
      "Your job 42251837 (\"submit_conversion.sh\") has been submitted\n"
     ]
    },
    {
     "name": "stderr",
     "output_type": "stream",
     "text": [
      "\t\n",
      "\n",
      "\t Welcome to the DLS compute cluster\n",
      "\n",
      "\t For MPI jobs, please use 'module load openmpi'.\n",
      "\n",
      "\t If using a different OpenMPI installation,\n",
      "\t or manually specifying path to OpenMPI, option\n",
      "\t '-mca orte_forward_job_control 1'\n",
      "\t must be added to mpirun to ensure cluster functionality.\n",
      "\n",
      "\t To use a GPU node, the consumable 'gpu' must be requested,\n",
      "\t including the number of GPUs required (e.g. 'qrsh -l gpu=2').\n",
      "\n",
      "\t Grid Engine documentation (e.g. User Guide) can be found in\n",
      "\t /dls_sw/cluster/docs and on Confluence.\n",
      "\n",
      "\t Interactive jobs are limited to 12 hours with a one hour default.\n",
      "\t To request more than one hour, use '-l h_rt=hh:mm:ss.\n",
      "\n",
      "\t Please report any issues to itsupport@diamond.ac.uk\n",
      "\n"
     ]
    },
    {
     "name": "stdout",
     "output_type": "stream",
     "text": [
      "Your job 42251838 (\"submit_conversion.sh\") has been submitted\n"
     ]
    },
    {
     "name": "stderr",
     "output_type": "stream",
     "text": [
      "\t\n",
      "\n",
      "\t Welcome to the DLS compute cluster\n",
      "\n",
      "\t For MPI jobs, please use 'module load openmpi'.\n",
      "\n",
      "\t If using a different OpenMPI installation,\n",
      "\t or manually specifying path to OpenMPI, option\n",
      "\t '-mca orte_forward_job_control 1'\n",
      "\t must be added to mpirun to ensure cluster functionality.\n",
      "\n",
      "\t To use a GPU node, the consumable 'gpu' must be requested,\n",
      "\t including the number of GPUs required (e.g. 'qrsh -l gpu=2').\n",
      "\n",
      "\t Grid Engine documentation (e.g. User Guide) can be found in\n",
      "\t /dls_sw/cluster/docs and on Confluence.\n",
      "\n",
      "\t Interactive jobs are limited to 12 hours with a one hour default.\n",
      "\t To request more than one hour, use '-l h_rt=hh:mm:ss.\n",
      "\n",
      "\t Please report any issues to itsupport@diamond.ac.uk\n",
      "\n"
     ]
    },
    {
     "name": "stdout",
     "output_type": "stream",
     "text": [
      "Your job 42251839 (\"submit_conversion.sh\") has been submitted\n"
     ]
    },
    {
     "name": "stderr",
     "output_type": "stream",
     "text": [
      "\t\n",
      "\n",
      "\t Welcome to the DLS compute cluster\n",
      "\n",
      "\t For MPI jobs, please use 'module load openmpi'.\n",
      "\n",
      "\t If using a different OpenMPI installation,\n",
      "\t or manually specifying path to OpenMPI, option\n",
      "\t '-mca orte_forward_job_control 1'\n",
      "\t must be added to mpirun to ensure cluster functionality.\n",
      "\n",
      "\t To use a GPU node, the consumable 'gpu' must be requested,\n",
      "\t including the number of GPUs required (e.g. 'qrsh -l gpu=2').\n",
      "\n",
      "\t Grid Engine documentation (e.g. User Guide) can be found in\n",
      "\t /dls_sw/cluster/docs and on Confluence.\n",
      "\n",
      "\t Interactive jobs are limited to 12 hours with a one hour default.\n",
      "\t To request more than one hour, use '-l h_rt=hh:mm:ss.\n",
      "\n",
      "\t Please report any issues to itsupport@diamond.ac.uk\n",
      "\n"
     ]
    },
    {
     "name": "stdout",
     "output_type": "stream",
     "text": [
      "Your job 42251840 (\"submit_conversion.sh\") has been submitted\n"
     ]
    },
    {
     "name": "stderr",
     "output_type": "stream",
     "text": [
      "\t\n",
      "\n",
      "\t Welcome to the DLS compute cluster\n",
      "\n",
      "\t For MPI jobs, please use 'module load openmpi'.\n",
      "\n",
      "\t If using a different OpenMPI installation,\n",
      "\t or manually specifying path to OpenMPI, option\n",
      "\t '-mca orte_forward_job_control 1'\n",
      "\t must be added to mpirun to ensure cluster functionality.\n",
      "\n",
      "\t To use a GPU node, the consumable 'gpu' must be requested,\n",
      "\t including the number of GPUs required (e.g. 'qrsh -l gpu=2').\n",
      "\n",
      "\t Grid Engine documentation (e.g. User Guide) can be found in\n",
      "\t /dls_sw/cluster/docs and on Confluence.\n",
      "\n",
      "\t Interactive jobs are limited to 12 hours with a one hour default.\n",
      "\t To request more than one hour, use '-l h_rt=hh:mm:ss.\n",
      "\n",
      "\t Please report any issues to itsupport@diamond.ac.uk\n",
      "\n"
     ]
    },
    {
     "name": "stdout",
     "output_type": "stream",
     "text": [
      "Your job 42251841 (\"submit_conversion.sh\") has been submitted\n"
     ]
    },
    {
     "name": "stderr",
     "output_type": "stream",
     "text": [
      "\t\n",
      "\n",
      "\t Welcome to the DLS compute cluster\n",
      "\n",
      "\t For MPI jobs, please use 'module load openmpi'.\n",
      "\n",
      "\t If using a different OpenMPI installation,\n",
      "\t or manually specifying path to OpenMPI, option\n",
      "\t '-mca orte_forward_job_control 1'\n",
      "\t must be added to mpirun to ensure cluster functionality.\n",
      "\n",
      "\t To use a GPU node, the consumable 'gpu' must be requested,\n",
      "\t including the number of GPUs required (e.g. 'qrsh -l gpu=2').\n",
      "\n",
      "\t Grid Engine documentation (e.g. User Guide) can be found in\n",
      "\t /dls_sw/cluster/docs and on Confluence.\n",
      "\n",
      "\t Interactive jobs are limited to 12 hours with a one hour default.\n",
      "\t To request more than one hour, use '-l h_rt=hh:mm:ss.\n",
      "\n",
      "\t Please report any issues to itsupport@diamond.ac.uk\n",
      "\n"
     ]
    },
    {
     "name": "stdout",
     "output_type": "stream",
     "text": [
      "Your job 42251842 (\"submit_conversion.sh\") has been submitted\n"
     ]
    },
    {
     "name": "stderr",
     "output_type": "stream",
     "text": [
      "\t\n",
      "\n",
      "\t Welcome to the DLS compute cluster\n",
      "\n",
      "\t For MPI jobs, please use 'module load openmpi'.\n",
      "\n",
      "\t If using a different OpenMPI installation,\n",
      "\t or manually specifying path to OpenMPI, option\n",
      "\t '-mca orte_forward_job_control 1'\n",
      "\t must be added to mpirun to ensure cluster functionality.\n",
      "\n",
      "\t To use a GPU node, the consumable 'gpu' must be requested,\n",
      "\t including the number of GPUs required (e.g. 'qrsh -l gpu=2').\n",
      "\n",
      "\t Grid Engine documentation (e.g. User Guide) can be found in\n",
      "\t /dls_sw/cluster/docs and on Confluence.\n",
      "\n",
      "\t Interactive jobs are limited to 12 hours with a one hour default.\n",
      "\t To request more than one hour, use '-l h_rt=hh:mm:ss.\n",
      "\n",
      "\t Please report any issues to itsupport@diamond.ac.uk\n",
      "\n"
     ]
    },
    {
     "name": "stdout",
     "output_type": "stream",
     "text": [
      "Your job 42251843 (\"submit_conversion.sh\") has been submitted\n"
     ]
    },
    {
     "name": "stderr",
     "output_type": "stream",
     "text": [
      "\t\n",
      "\n",
      "\t Welcome to the DLS compute cluster\n",
      "\n",
      "\t For MPI jobs, please use 'module load openmpi'.\n",
      "\n",
      "\t If using a different OpenMPI installation,\n",
      "\t or manually specifying path to OpenMPI, option\n",
      "\t '-mca orte_forward_job_control 1'\n",
      "\t must be added to mpirun to ensure cluster functionality.\n",
      "\n",
      "\t To use a GPU node, the consumable 'gpu' must be requested,\n",
      "\t including the number of GPUs required (e.g. 'qrsh -l gpu=2').\n",
      "\n",
      "\t Grid Engine documentation (e.g. User Guide) can be found in\n",
      "\t /dls_sw/cluster/docs and on Confluence.\n",
      "\n",
      "\t Interactive jobs are limited to 12 hours with a one hour default.\n",
      "\t To request more than one hour, use '-l h_rt=hh:mm:ss.\n",
      "\n",
      "\t Please report any issues to itsupport@diamond.ac.uk\n",
      "\n"
     ]
    },
    {
     "name": "stdout",
     "output_type": "stream",
     "text": [
      "Your job 42251844 (\"submit_conversion.sh\") has been submitted\n"
     ]
    },
    {
     "name": "stderr",
     "output_type": "stream",
     "text": [
      "\t\n",
      "\n",
      "\t Welcome to the DLS compute cluster\n",
      "\n",
      "\t For MPI jobs, please use 'module load openmpi'.\n",
      "\n",
      "\t If using a different OpenMPI installation,\n",
      "\t or manually specifying path to OpenMPI, option\n",
      "\t '-mca orte_forward_job_control 1'\n",
      "\t must be added to mpirun to ensure cluster functionality.\n",
      "\n",
      "\t To use a GPU node, the consumable 'gpu' must be requested,\n",
      "\t including the number of GPUs required (e.g. 'qrsh -l gpu=2').\n",
      "\n",
      "\t Grid Engine documentation (e.g. User Guide) can be found in\n",
      "\t /dls_sw/cluster/docs and on Confluence.\n",
      "\n",
      "\t Interactive jobs are limited to 12 hours with a one hour default.\n",
      "\t To request more than one hour, use '-l h_rt=hh:mm:ss.\n",
      "\n",
      "\t Please report any issues to itsupport@diamond.ac.uk\n",
      "\n"
     ]
    },
    {
     "name": "stdout",
     "output_type": "stream",
     "text": [
      "Your job 42251845 (\"submit_conversion.sh\") has been submitted\n"
     ]
    },
    {
     "name": "stderr",
     "output_type": "stream",
     "text": [
      "\t\n",
      "\n",
      "\t Welcome to the DLS compute cluster\n",
      "\n",
      "\t For MPI jobs, please use 'module load openmpi'.\n",
      "\n",
      "\t If using a different OpenMPI installation,\n",
      "\t or manually specifying path to OpenMPI, option\n",
      "\t '-mca orte_forward_job_control 1'\n",
      "\t must be added to mpirun to ensure cluster functionality.\n",
      "\n",
      "\t To use a GPU node, the consumable 'gpu' must be requested,\n",
      "\t including the number of GPUs required (e.g. 'qrsh -l gpu=2').\n",
      "\n",
      "\t Grid Engine documentation (e.g. User Guide) can be found in\n",
      "\t /dls_sw/cluster/docs and on Confluence.\n",
      "\n",
      "\t Interactive jobs are limited to 12 hours with a one hour default.\n",
      "\t To request more than one hour, use '-l h_rt=hh:mm:ss.\n",
      "\n",
      "\t Please report any issues to itsupport@diamond.ac.uk\n",
      "\n"
     ]
    },
    {
     "name": "stdout",
     "output_type": "stream",
     "text": [
      "Your job 42251846 (\"submit_conversion.sh\") has been submitted\n"
     ]
    },
    {
     "name": "stderr",
     "output_type": "stream",
     "text": [
      "\t\n",
      "\n",
      "\t Welcome to the DLS compute cluster\n",
      "\n",
      "\t For MPI jobs, please use 'module load openmpi'.\n",
      "\n",
      "\t If using a different OpenMPI installation,\n",
      "\t or manually specifying path to OpenMPI, option\n",
      "\t '-mca orte_forward_job_control 1'\n",
      "\t must be added to mpirun to ensure cluster functionality.\n",
      "\n",
      "\t To use a GPU node, the consumable 'gpu' must be requested,\n",
      "\t including the number of GPUs required (e.g. 'qrsh -l gpu=2').\n",
      "\n",
      "\t Grid Engine documentation (e.g. User Guide) can be found in\n",
      "\t /dls_sw/cluster/docs and on Confluence.\n",
      "\n",
      "\t Interactive jobs are limited to 12 hours with a one hour default.\n",
      "\t To request more than one hour, use '-l h_rt=hh:mm:ss.\n",
      "\n",
      "\t Please report any issues to itsupport@diamond.ac.uk\n",
      "\n"
     ]
    },
    {
     "name": "stdout",
     "output_type": "stream",
     "text": [
      "Your job 42251847 (\"submit_conversion.sh\") has been submitted\n"
     ]
    },
    {
     "name": "stderr",
     "output_type": "stream",
     "text": [
      "\t\n",
      "\n",
      "\t Welcome to the DLS compute cluster\n",
      "\n",
      "\t For MPI jobs, please use 'module load openmpi'.\n",
      "\n",
      "\t If using a different OpenMPI installation,\n",
      "\t or manually specifying path to OpenMPI, option\n",
      "\t '-mca orte_forward_job_control 1'\n",
      "\t must be added to mpirun to ensure cluster functionality.\n",
      "\n",
      "\t To use a GPU node, the consumable 'gpu' must be requested,\n",
      "\t including the number of GPUs required (e.g. 'qrsh -l gpu=2').\n",
      "\n",
      "\t Grid Engine documentation (e.g. User Guide) can be found in\n",
      "\t /dls_sw/cluster/docs and on Confluence.\n",
      "\n",
      "\t Interactive jobs are limited to 12 hours with a one hour default.\n",
      "\t To request more than one hour, use '-l h_rt=hh:mm:ss.\n",
      "\n",
      "\t Please report any issues to itsupport@diamond.ac.uk\n",
      "\n"
     ]
    },
    {
     "name": "stdout",
     "output_type": "stream",
     "text": [
      "Your job 42251848 (\"submit_conversion.sh\") has been submitted\n"
     ]
    },
    {
     "name": "stderr",
     "output_type": "stream",
     "text": [
      "\t\n",
      "\n",
      "\t Welcome to the DLS compute cluster\n",
      "\n",
      "\t For MPI jobs, please use 'module load openmpi'.\n",
      "\n",
      "\t If using a different OpenMPI installation,\n",
      "\t or manually specifying path to OpenMPI, option\n",
      "\t '-mca orte_forward_job_control 1'\n",
      "\t must be added to mpirun to ensure cluster functionality.\n",
      "\n",
      "\t To use a GPU node, the consumable 'gpu' must be requested,\n",
      "\t including the number of GPUs required (e.g. 'qrsh -l gpu=2').\n",
      "\n",
      "\t Grid Engine documentation (e.g. User Guide) can be found in\n",
      "\t /dls_sw/cluster/docs and on Confluence.\n",
      "\n",
      "\t Interactive jobs are limited to 12 hours with a one hour default.\n",
      "\t To request more than one hour, use '-l h_rt=hh:mm:ss.\n",
      "\n",
      "\t Please report any issues to itsupport@diamond.ac.uk\n",
      "\n"
     ]
    },
    {
     "name": "stdout",
     "output_type": "stream",
     "text": [
      "Your job 42251849 (\"submit_conversion.sh\") has been submitted\n"
     ]
    },
    {
     "name": "stderr",
     "output_type": "stream",
     "text": [
      "\t\n",
      "\n",
      "\t Welcome to the DLS compute cluster\n",
      "\n",
      "\t For MPI jobs, please use 'module load openmpi'.\n",
      "\n",
      "\t If using a different OpenMPI installation,\n",
      "\t or manually specifying path to OpenMPI, option\n",
      "\t '-mca orte_forward_job_control 1'\n",
      "\t must be added to mpirun to ensure cluster functionality.\n",
      "\n",
      "\t To use a GPU node, the consumable 'gpu' must be requested,\n",
      "\t including the number of GPUs required (e.g. 'qrsh -l gpu=2').\n",
      "\n",
      "\t Grid Engine documentation (e.g. User Guide) can be found in\n",
      "\t /dls_sw/cluster/docs and on Confluence.\n",
      "\n",
      "\t Interactive jobs are limited to 12 hours with a one hour default.\n",
      "\t To request more than one hour, use '-l h_rt=hh:mm:ss.\n",
      "\n",
      "\t Please report any issues to itsupport@diamond.ac.uk\n",
      "\n"
     ]
    },
    {
     "name": "stdout",
     "output_type": "stream",
     "text": [
      "Your job 42251850 (\"submit_conversion.sh\") has been submitted\n"
     ]
    },
    {
     "name": "stderr",
     "output_type": "stream",
     "text": [
      "\t\n",
      "\n",
      "\t Welcome to the DLS compute cluster\n",
      "\n",
      "\t For MPI jobs, please use 'module load openmpi'.\n",
      "\n",
      "\t If using a different OpenMPI installation,\n",
      "\t or manually specifying path to OpenMPI, option\n",
      "\t '-mca orte_forward_job_control 1'\n",
      "\t must be added to mpirun to ensure cluster functionality.\n",
      "\n",
      "\t To use a GPU node, the consumable 'gpu' must be requested,\n",
      "\t including the number of GPUs required (e.g. 'qrsh -l gpu=2').\n",
      "\n",
      "\t Grid Engine documentation (e.g. User Guide) can be found in\n",
      "\t /dls_sw/cluster/docs and on Confluence.\n",
      "\n",
      "\t Interactive jobs are limited to 12 hours with a one hour default.\n",
      "\t To request more than one hour, use '-l h_rt=hh:mm:ss.\n",
      "\n",
      "\t Please report any issues to itsupport@diamond.ac.uk\n",
      "\n"
     ]
    },
    {
     "name": "stdout",
     "output_type": "stream",
     "text": [
      "Your job 42251851 (\"submit_conversion.sh\") has been submitted\n"
     ]
    },
    {
     "name": "stderr",
     "output_type": "stream",
     "text": [
      "\t\n",
      "\n",
      "\t Welcome to the DLS compute cluster\n",
      "\n",
      "\t For MPI jobs, please use 'module load openmpi'.\n",
      "\n",
      "\t If using a different OpenMPI installation,\n",
      "\t or manually specifying path to OpenMPI, option\n",
      "\t '-mca orte_forward_job_control 1'\n",
      "\t must be added to mpirun to ensure cluster functionality.\n",
      "\n",
      "\t To use a GPU node, the consumable 'gpu' must be requested,\n",
      "\t including the number of GPUs required (e.g. 'qrsh -l gpu=2').\n",
      "\n",
      "\t Grid Engine documentation (e.g. User Guide) can be found in\n",
      "\t /dls_sw/cluster/docs and on Confluence.\n",
      "\n",
      "\t Interactive jobs are limited to 12 hours with a one hour default.\n",
      "\t To request more than one hour, use '-l h_rt=hh:mm:ss.\n",
      "\n",
      "\t Please report any issues to itsupport@diamond.ac.uk\n",
      "\n"
     ]
    },
    {
     "name": "stdout",
     "output_type": "stream",
     "text": [
      "Your job 42251852 (\"submit_conversion.sh\") has been submitted\n"
     ]
    },
    {
     "name": "stderr",
     "output_type": "stream",
     "text": [
      "\t\n",
      "\n",
      "\t Welcome to the DLS compute cluster\n",
      "\n",
      "\t For MPI jobs, please use 'module load openmpi'.\n",
      "\n",
      "\t If using a different OpenMPI installation,\n",
      "\t or manually specifying path to OpenMPI, option\n",
      "\t '-mca orte_forward_job_control 1'\n",
      "\t must be added to mpirun to ensure cluster functionality.\n",
      "\n",
      "\t To use a GPU node, the consumable 'gpu' must be requested,\n",
      "\t including the number of GPUs required (e.g. 'qrsh -l gpu=2').\n",
      "\n",
      "\t Grid Engine documentation (e.g. User Guide) can be found in\n",
      "\t /dls_sw/cluster/docs and on Confluence.\n",
      "\n",
      "\t Interactive jobs are limited to 12 hours with a one hour default.\n",
      "\t To request more than one hour, use '-l h_rt=hh:mm:ss.\n",
      "\n",
      "\t Please report any issues to itsupport@diamond.ac.uk\n",
      "\n"
     ]
    },
    {
     "name": "stdout",
     "output_type": "stream",
     "text": [
      "Your job 42251853 (\"submit_conversion.sh\") has been submitted\n"
     ]
    },
    {
     "name": "stderr",
     "output_type": "stream",
     "text": [
      "\t\n",
      "\n",
      "\t Welcome to the DLS compute cluster\n",
      "\n",
      "\t For MPI jobs, please use 'module load openmpi'.\n",
      "\n",
      "\t If using a different OpenMPI installation,\n",
      "\t or manually specifying path to OpenMPI, option\n",
      "\t '-mca orte_forward_job_control 1'\n",
      "\t must be added to mpirun to ensure cluster functionality.\n",
      "\n",
      "\t To use a GPU node, the consumable 'gpu' must be requested,\n",
      "\t including the number of GPUs required (e.g. 'qrsh -l gpu=2').\n",
      "\n",
      "\t Grid Engine documentation (e.g. User Guide) can be found in\n",
      "\t /dls_sw/cluster/docs and on Confluence.\n",
      "\n",
      "\t Interactive jobs are limited to 12 hours with a one hour default.\n",
      "\t To request more than one hour, use '-l h_rt=hh:mm:ss.\n",
      "\n",
      "\t Please report any issues to itsupport@diamond.ac.uk\n",
      "\n"
     ]
    },
    {
     "name": "stdout",
     "output_type": "stream",
     "text": [
      "Your job 42251854 (\"submit_conversion.sh\") has been submitted\n"
     ]
    },
    {
     "name": "stderr",
     "output_type": "stream",
     "text": [
      "\t\n",
      "\n",
      "\t Welcome to the DLS compute cluster\n",
      "\n",
      "\t For MPI jobs, please use 'module load openmpi'.\n",
      "\n",
      "\t If using a different OpenMPI installation,\n",
      "\t or manually specifying path to OpenMPI, option\n",
      "\t '-mca orte_forward_job_control 1'\n",
      "\t must be added to mpirun to ensure cluster functionality.\n",
      "\n",
      "\t To use a GPU node, the consumable 'gpu' must be requested,\n",
      "\t including the number of GPUs required (e.g. 'qrsh -l gpu=2').\n",
      "\n",
      "\t Grid Engine documentation (e.g. User Guide) can be found in\n",
      "\t /dls_sw/cluster/docs and on Confluence.\n",
      "\n",
      "\t Interactive jobs are limited to 12 hours with a one hour default.\n",
      "\t To request more than one hour, use '-l h_rt=hh:mm:ss.\n",
      "\n",
      "\t Please report any issues to itsupport@diamond.ac.uk\n",
      "\n",
      "sh: -c: line 2: syntax error near unexpected token `('\n",
      "sh: -c: line 2: ` qsub /dls/science/groups/e02/Mohsen/code/jupyterhub_active/JEOL_EDX_Multiframe/cluster_submit/submit_conversion.sh Nb,W,O,C,Cu /dls/e01/data/2022/mg28816-3/EDX/NbWO31_08012022-S8/Sample(1)/01_View000/View000_0100006.pts /dls/e01/data/2022/mg28816-3/EDX/NbWO31_08012022-S8/Sample(1)/01_View000/View000_0100007.APB /dls/e01/data/2022/mg28816-3/processing/EDX-cluster_process_final'\n",
      "\t\n",
      "\n",
      "\t Welcome to the DLS compute cluster\n",
      "\n",
      "\t For MPI jobs, please use 'module load openmpi'.\n",
      "\n",
      "\t If using a different OpenMPI installation,\n",
      "\t or manually specifying path to OpenMPI, option\n",
      "\t '-mca orte_forward_job_control 1'\n",
      "\t must be added to mpirun to ensure cluster functionality.\n",
      "\n",
      "\t To use a GPU node, the consumable 'gpu' must be requested,\n",
      "\t including the number of GPUs required (e.g. 'qrsh -l gpu=2').\n",
      "\n",
      "\t Grid Engine documentation (e.g. User Guide) can be found in\n",
      "\t /dls_sw/cluster/docs and on Confluence.\n",
      "\n",
      "\t Interactive jobs are limited to 12 hours with a one hour default.\n",
      "\t To request more than one hour, use '-l h_rt=hh:mm:ss.\n",
      "\n",
      "\t Please report any issues to itsupport@diamond.ac.uk\n",
      "\n",
      "sh: -c: line 2: syntax error near unexpected token `('\n",
      "sh: -c: line 2: ` qsub /dls/science/groups/e02/Mohsen/code/jupyterhub_active/JEOL_EDX_Multiframe/cluster_submit/submit_conversion.sh Nb,W,O,C,Cu /dls/e01/data/2022/mg28816-3/EDX/NbWO31_08012022-S6/Sample(1)/01_View002/View002_0100206.pts /dls/e01/data/2022/mg28816-3/EDX/NbWO31_08012022-S6/Sample(1)/01_View002/View002_0100207.APB /dls/e01/data/2022/mg28816-3/processing/EDX-cluster_process_final'\n",
      "\t\n",
      "\n",
      "\t Welcome to the DLS compute cluster\n",
      "\n",
      "\t For MPI jobs, please use 'module load openmpi'.\n",
      "\n",
      "\t If using a different OpenMPI installation,\n",
      "\t or manually specifying path to OpenMPI, option\n",
      "\t '-mca orte_forward_job_control 1'\n",
      "\t must be added to mpirun to ensure cluster functionality.\n",
      "\n",
      "\t To use a GPU node, the consumable 'gpu' must be requested,\n",
      "\t including the number of GPUs required (e.g. 'qrsh -l gpu=2').\n",
      "\n",
      "\t Grid Engine documentation (e.g. User Guide) can be found in\n",
      "\t /dls_sw/cluster/docs and on Confluence.\n",
      "\n",
      "\t Interactive jobs are limited to 12 hours with a one hour default.\n",
      "\t To request more than one hour, use '-l h_rt=hh:mm:ss.\n",
      "\n",
      "\t Please report any issues to itsupport@diamond.ac.uk\n",
      "\n",
      "sh: -c: line 2: syntax error near unexpected token `('\n",
      "sh: -c: line 2: ` qsub /dls/science/groups/e02/Mohsen/code/jupyterhub_active/JEOL_EDX_Multiframe/cluster_submit/submit_conversion.sh Nb,W,O,C,Cu /dls/e01/data/2022/mg28816-3/EDX/NbWO31_08012022-S6/Sample(1)/01_View003/View003_0100306.pts /dls/e01/data/2022/mg28816-3/EDX/NbWO31_08012022-S6/Sample(1)/01_View003/View003_0100307.APB /dls/e01/data/2022/mg28816-3/processing/EDX-cluster_process_final'\n",
      "\t\n",
      "\n",
      "\t Welcome to the DLS compute cluster\n",
      "\n",
      "\t For MPI jobs, please use 'module load openmpi'.\n",
      "\n",
      "\t If using a different OpenMPI installation,\n",
      "\t or manually specifying path to OpenMPI, option\n",
      "\t '-mca orte_forward_job_control 1'\n",
      "\t must be added to mpirun to ensure cluster functionality.\n",
      "\n",
      "\t To use a GPU node, the consumable 'gpu' must be requested,\n",
      "\t including the number of GPUs required (e.g. 'qrsh -l gpu=2').\n",
      "\n",
      "\t Grid Engine documentation (e.g. User Guide) can be found in\n",
      "\t /dls_sw/cluster/docs and on Confluence.\n",
      "\n",
      "\t Interactive jobs are limited to 12 hours with a one hour default.\n",
      "\t To request more than one hour, use '-l h_rt=hh:mm:ss.\n",
      "\n",
      "\t Please report any issues to itsupport@diamond.ac.uk\n",
      "\n",
      "sh: -c: line 2: syntax error near unexpected token `('\n",
      "sh: -c: line 2: ` qsub /dls/science/groups/e02/Mohsen/code/jupyterhub_active/JEOL_EDX_Multiframe/cluster_submit/submit_conversion.sh Nb,W,O,C,Cu /dls/e01/data/2022/mg28816-3/EDX/NbWO31_08012022-S6/Sample(1)/01_View001/View001_0100106.pts /dls/e01/data/2022/mg28816-3/EDX/NbWO31_08012022-S6/Sample(1)/01_View001/View001_0100107.APB /dls/e01/data/2022/mg28816-3/processing/EDX-cluster_process_final'\n",
      "\t\n",
      "\n",
      "\t Welcome to the DLS compute cluster\n",
      "\n",
      "\t For MPI jobs, please use 'module load openmpi'.\n",
      "\n",
      "\t If using a different OpenMPI installation,\n",
      "\t or manually specifying path to OpenMPI, option\n",
      "\t '-mca orte_forward_job_control 1'\n",
      "\t must be added to mpirun to ensure cluster functionality.\n",
      "\n",
      "\t To use a GPU node, the consumable 'gpu' must be requested,\n",
      "\t including the number of GPUs required (e.g. 'qrsh -l gpu=2').\n",
      "\n",
      "\t Grid Engine documentation (e.g. User Guide) can be found in\n",
      "\t /dls_sw/cluster/docs and on Confluence.\n",
      "\n",
      "\t Interactive jobs are limited to 12 hours with a one hour default.\n",
      "\t To request more than one hour, use '-l h_rt=hh:mm:ss.\n",
      "\n",
      "\t Please report any issues to itsupport@diamond.ac.uk\n",
      "\n",
      "sh: -c: line 2: syntax error near unexpected token `('\n",
      "sh: -c: line 2: ` qsub /dls/science/groups/e02/Mohsen/code/jupyterhub_active/JEOL_EDX_Multiframe/cluster_submit/submit_conversion.sh Nb,W,O,C,Cu /dls/e01/data/2022/mg28816-3/EDX/NbWO31_08012022-S6/Sample(1)/01_View000/View000_0100006.pts /dls/e01/data/2022/mg28816-3/EDX/NbWO31_08012022-S6/Sample(1)/01_View000/View000_0100007.APB /dls/e01/data/2022/mg28816-3/processing/EDX-cluster_process_final'\n"
     ]
    }
   ],
   "source": [
    "output_path = '/dls/e01/data/2022/mg28816-3/processing/EDX-cluster_process_final'\n",
    "# Provide elements list in a string, separeted by coma - no spaces!\n",
    "elements_list = 'Nb,W,O,C,Cu'\n",
    "if not os.path.exists(output_path):\n",
    "    os.makedirs(output_path)\n",
    "for file in all_files:\n",
    "    if file.endswith('.pts'):\n",
    "        pts_path = file\n",
    "        apb_path = os.path.splitext(file)[0][:-1] + str(int(os.path.splitext(file)[0][-1]) + 1) + '.APB'\n",
    "        os.system('\\n module load global/cluster \\n qsub /dls/science/groups/e02/Mohsen/code/jupyterhub_active/JEOL_EDX_Multiframe/cluster_submit/submit_conversion.sh ' + elements_list + ' ' + pts_path + ' ' + apb_path + ' ' + output_path)\n",
    "        "
   ]
  },
  {
   "cell_type": "markdown",
   "metadata": {},
   "source": [
    "# Processing individual datasets"
   ]
  },
  {
   "cell_type": "markdown",
   "metadata": {},
   "source": [
    "Here we do some processing on each saved HDF5 EDX stack dataset. \n",
    "First a json / parameter file is poplutated with:<br/>\n",
    "***data path***: path of the raw HDF5 file <br/>\n",
    "***elements_list***: list of elements to create maps from<br/>\n",
    "***x-ray-line-list***: list of cx-ray lines to use for maps<br/>\n",
    "***ind_to_include***: Option to provide start / end indecies in case cropping<br/>\n",
    "***shifts_file***: Option to provide a refined set of shifts vectors as npy file<br/>\n",
    "***3D_output***: Boolean to choose to have a sum SI output, e.g. to perform PCA<br/>\n",
    "***output_path***: path to save the outputs<br/>\n",
    "\n",
    "The outcome of the processing:<br/>\n",
    "The code breaks the stacks into batches of 100 frames and saves elemenental maps of each batch<br/>\n",
    "If ***3D_output*** selected, a sum spectrum image is also saved.\n"
   ]
  },
  {
   "cell_type": "code",
   "execution_count": 16,
   "metadata": {},
   "outputs": [],
   "source": [
    "# Create a json file\n",
    "import json\n",
    "json_path = '/dls/science/groups/e02/Mohsen/code/jupyterhub_active/JEOL_EDX_Multiframe/cluster_submit/MG28816-3.json'\n",
    "json_data = {\n",
    "    \"data_path\": '/dls/e01/data/2022/mg28816-3/processing/EDX-cluster_process_final/NbWO31_08012022-S4_Sample_00_View000_View000_0000006/NbWO31_08012022-S4_Sample_00_View000_View000_0000006.hdf5',\n",
    "    \"element_list\": ['Nb','W','O'],\n",
    "    \"x-ray_line_list\": ['Nb_La','W_Ma','O_Ka'],\n",
    "    \"ind_to_include\": '',\n",
    "    \"shifts_file\": '',\n",
    "    \"3D_output\": True,\n",
    "    \"output_path\": '/dls/e01/data/2022/mg28816-3/processing/EDX-cluster_process_final/NbWO31_08012022-S4_Sample_00_View000_View000_0000006/process_1_Nb_La_W_Ma'\n",
    "}\n",
    "with open(json_path, 'w') as f:\n",
    "    json.dump(json_data, f)"
   ]
  },
  {
   "cell_type": "code",
   "execution_count": 17,
   "metadata": {},
   "outputs": [
    {
     "name": "stderr",
     "output_type": "stream",
     "text": [
      "\t\n",
      "\n",
      "\t Welcome to the DLS compute cluster\n",
      "\n",
      "\t For MPI jobs, please use 'module load openmpi'.\n",
      "\n",
      "\t If using a different OpenMPI installation,\n",
      "\t or manually specifying path to OpenMPI, option\n",
      "\t '-mca orte_forward_job_control 1'\n",
      "\t must be added to mpirun to ensure cluster functionality.\n",
      "\n",
      "\t To use a GPU node, the consumable 'gpu' must be requested,\n",
      "\t including the number of GPUs required (e.g. 'qrsh -l gpu=2').\n",
      "\n",
      "\t Grid Engine documentation (e.g. User Guide) can be found in\n",
      "\t /dls_sw/cluster/docs and on Confluence.\n",
      "\n",
      "\t Interactive jobs are limited to 12 hours with a one hour default.\n",
      "\t To request more than one hour, use '-l h_rt=hh:mm:ss.\n",
      "\n",
      "\t Please report any issues to itsupport@diamond.ac.uk\n",
      "\n"
     ]
    },
    {
     "name": "stdout",
     "output_type": "stream",
     "text": [
      "Your job 42253305 (\"submit_process.sh\") has been submitted\n"
     ]
    },
    {
     "data": {
      "text/plain": [
       "0"
      ]
     },
     "execution_count": 17,
     "metadata": {},
     "output_type": "execute_result"
    }
   ],
   "source": [
    "os.system('\\n module load global/cluster \\n qsub /dls/science/groups/e02/Mohsen/code/jupyterhub_active/JEOL_EDX_Multiframe/cluster_submit/submit_process.sh ' + json_path)"
   ]
  },
  {
   "cell_type": "code",
   "execution_count": null,
   "metadata": {},
   "outputs": [],
   "source": [
    "# # Create a json file\n",
    "# import json\n",
    "# json_path = '/dls/science/groups/e02/Mohsen/code/jupyterhub_active/JEOL_EDX_Multiframe/cluster_submit/MG29123_5.json'\n",
    "# json_data = {\n",
    "#     \"data_path\": '/dls/e01/data/2022/mg29123-5/processing/EDX_test/EDX_Sample25_Pd_Br_NH2_UiO66_map2_View001_0000116/EDX_Sample25_Pd_Br_NH2_UiO66_map2_View001_0000116.hdf5',\n",
    "#     \"element_list\": ['N','I', 'O', 'C', 'Cu', 'Zr', 'Pd'],\n",
    "#     \"x-ray_line_list\": ['N_Ka','I_La','O_Ka', 'C_Ka', 'Zr_Ka', 'Pd_La'],\n",
    "#     \"ind_to_include\": '',\n",
    "#     \"shifts_file\": '',\n",
    "#     \"3D_output\": True,\n",
    "#     \"output_path\": '/dls/e01/data/2022/mg29123-5/processing/EDX_test/EDX_Sample25_Pd_Br_NH2_UiO66_map2_View001_0000116/test'\n",
    "# }\n",
    "# with open(json_path, 'w') as f:\n",
    "#     json.dump(json_data, f)"
   ]
  },
  {
   "cell_type": "markdown",
   "metadata": {},
   "source": [
    "# Plot maps"
   ]
  },
  {
   "cell_type": "code",
   "execution_count": null,
   "metadata": {},
   "outputs": [],
   "source": []
  }
 ],
 "metadata": {
  "kernelspec": {
   "display_name": "Python 3",
   "language": "python",
   "name": "python3"
  },
  "language_info": {
   "codemirror_mode": {
    "name": "ipython",
    "version": 3
   },
   "file_extension": ".py",
   "mimetype": "text/x-python",
   "name": "python",
   "nbconvert_exporter": "python",
   "pygments_lexer": "ipython3",
   "version": "3.7.6"
  }
 },
 "nbformat": 4,
 "nbformat_minor": 4
}
