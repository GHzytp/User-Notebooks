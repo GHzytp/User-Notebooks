{
 "cells": [
  {
   "cell_type": "markdown",
   "id": "3cebcf4b",
   "metadata": {},
   "source": [
    "## Please select epsic 3.10 env for this notebook "
   ]
  },
  {
   "cell_type": "code",
   "execution_count": 35,
   "id": "c1429554",
   "metadata": {},
   "outputs": [
    {
     "data": {
      "text/plain": [
       "'/dls/science/groups/e02/Mohsen/code/jupyterhub_active/Lazarov_analysis_notebooks'"
      ]
     },
     "execution_count": 35,
     "metadata": {},
     "output_type": "execute_result"
    }
   ],
   "source": [
    "pwd"
   ]
  },
  {
   "cell_type": "code",
   "execution_count": null,
   "id": "cf0a330f",
   "metadata": {},
   "outputs": [],
   "source": [
    "%matplotlib notebook\n",
    "import hyperspy.api as hs\n",
    "import numpy as np\n",
    "import h5py\n",
    "import matplotlib.pyplot as plt\n",
    "from scipy import ndimage\n",
    "import os\n",
    "import gc"
   ]
  },
  {
   "cell_type": "code",
   "execution_count": null,
   "id": "890e3ac2",
   "metadata": {},
   "outputs": [],
   "source": [
    "d = hs.load('/dls/e01/data/2022/mg30474-1/EDX/AA26/Sample/00_View000/View000_0000004.pts', sum_frames=False, lazy = True)"
   ]
  },
  {
   "cell_type": "code",
   "execution_count": null,
   "id": "6eac7c86",
   "metadata": {},
   "outputs": [],
   "source": [
    "d.axes_manager"
   ]
  },
  {
   "cell_type": "markdown",
   "id": "c52f9341",
   "metadata": {},
   "source": [
    "## Loading the raw data"
   ]
  },
  {
   "cell_type": "code",
   "execution_count": null,
   "id": "7e58f93c",
   "metadata": {},
   "outputs": [],
   "source": [
    "zspy_path = '/dls/e01/data/2022/mg31258-11/processing/AH31_EDX_data/AH31_Sample_00_View004_View004_0000411/AH31_Sample_00_View004_View004_0000411.zspy'\n",
    "hdf_path = '/dls/e01/data/2022/mg31258-11/processing/AH31_EDX_data/AH31_Sample_00_View004_View004_0000411/AH31_Sample_00_View004_View004_0000411.hdf5'\n",
    "d = hs.load(zspy_path, lazy=True)"
   ]
  },
  {
   "cell_type": "code",
   "execution_count": null,
   "id": "e4437f02",
   "metadata": {},
   "outputs": [],
   "source": [
    "d"
   ]
  },
  {
   "cell_type": "code",
   "execution_count": null,
   "id": "dfe4e3bd",
   "metadata": {
    "scrolled": true
   },
   "outputs": [],
   "source": [
    "d.change_dtype('uint8')"
   ]
  },
  {
   "cell_type": "code",
   "execution_count": null,
   "id": "84b4ad88",
   "metadata": {},
   "outputs": [],
   "source": [
    "d"
   ]
  },
  {
   "cell_type": "markdown",
   "id": "166edd4b",
   "metadata": {},
   "source": [
    "## Adding elements and calibrate"
   ]
  },
  {
   "cell_type": "code",
   "execution_count": null,
   "id": "10a796dd",
   "metadata": {},
   "outputs": [],
   "source": [
    "d.add_elements(['O', 'Sr', 'Ni', 'Ti', 'Mg', 'Cu', 'C'])"
   ]
  },
  {
   "cell_type": "code",
   "execution_count": null,
   "id": "de23f993",
   "metadata": {
    "scrolled": true
   },
   "outputs": [],
   "source": [
    "d.axes_manager"
   ]
  },
  {
   "cell_type": "markdown",
   "id": "9ba430b6",
   "metadata": {},
   "source": [
    "## Plotting sum total spectrum and checking calibration"
   ]
  },
  {
   "cell_type": "code",
   "execution_count": null,
   "id": "caaf564d",
   "metadata": {},
   "outputs": [],
   "source": [
    "d_sum = d.sum(axis=(0,1,2))\n",
    "d_sum.compute()"
   ]
  },
  {
   "cell_type": "code",
   "execution_count": null,
   "id": "7d348e4a",
   "metadata": {},
   "outputs": [],
   "source": [
    "d_sum.plot(True)"
   ]
  },
  {
   "cell_type": "code",
   "execution_count": null,
   "id": "58f91d89",
   "metadata": {},
   "outputs": [],
   "source": [
    "d.metadata"
   ]
  },
  {
   "cell_type": "markdown",
   "id": "04a60278",
   "metadata": {},
   "source": [
    "## Get the image stack"
   ]
  },
  {
   "cell_type": "code",
   "execution_count": null,
   "id": "dca00c0f",
   "metadata": {},
   "outputs": [],
   "source": [
    "with h5py.File(hdf_path, 'r') as f:\n",
    "    print(f.keys())\n",
    "    ims = f['img_frames'][()]\n",
    "    shifts = f['shifts'][()]"
   ]
  },
  {
   "cell_type": "code",
   "execution_count": null,
   "id": "fc105020",
   "metadata": {},
   "outputs": [],
   "source": [
    "ims.shape"
   ]
  },
  {
   "cell_type": "markdown",
   "id": "fee9e9fd",
   "metadata": {},
   "source": [
    "**shifts** saved here are a rough alignment done during data conversion step. You can either use these shift values or try to align the image stack better and use your refined shift values. Here we are using these shifts to align the spectrum images."
   ]
  },
  {
   "cell_type": "code",
   "execution_count": null,
   "id": "fa4511fb",
   "metadata": {},
   "outputs": [],
   "source": [
    "plt.figure()\n",
    "plt.plot(shifts)"
   ]
  },
  {
   "cell_type": "code",
   "execution_count": null,
   "id": "6f097b07",
   "metadata": {},
   "outputs": [],
   "source": [
    "ims = hs.signals.Signal2D(ims)\n",
    "print(ims)\n",
    "ims.plot()"
   ]
  },
  {
   "cell_type": "code",
   "execution_count": null,
   "id": "2ae8a391",
   "metadata": {},
   "outputs": [],
   "source": [
    "ims.estimate_shift2D()"
   ]
  },
  {
   "cell_type": "code",
   "execution_count": null,
   "id": "ab73fefe",
   "metadata": {},
   "outputs": [],
   "source": [
    "ims_init = ims.deepcopy()"
   ]
  },
  {
   "cell_type": "code",
   "execution_count": null,
   "id": "6b33cf58",
   "metadata": {},
   "outputs": [],
   "source": [
    "ims.align2D(shifts=shifts, crop = False)"
   ]
  },
  {
   "cell_type": "code",
   "execution_count": null,
   "id": "81284a85",
   "metadata": {},
   "outputs": [],
   "source": [
    "ims.plot()"
   ]
  },
  {
   "cell_type": "markdown",
   "id": "e1385d39",
   "metadata": {},
   "source": [
    "## Applying shifts - test"
   ]
  },
  {
   "cell_type": "markdown",
   "id": "552f46d8",
   "metadata": {},
   "source": [
    "This is just to test the align functions below on the images to show that the outcome is the same as above. We then use the same functions to align the SI."
   ]
  },
  {
   "cell_type": "code",
   "execution_count": null,
   "id": "0dfd7d09",
   "metadata": {},
   "outputs": [],
   "source": [
    "def shift_image(im, shift=0, interpolation_order=1, fill_value=np.nan):\n",
    "    if not np.any(shift):\n",
    "        return im\n",
    "    else:\n",
    "        fractional, integral = np.modf(shift)\n",
    "        if fractional.any():\n",
    "            order = interpolation_order\n",
    "        else:\n",
    "            # Disable interpolation\n",
    "            order = 0\n",
    "        return ndimage.shift(im, shift, cval=fill_value, order=order)\n",
    "    \n",
    "\n",
    "def shift_si(si, shift):\n",
    "    \"\"\"\n",
    "    si is a hyperspy EDX object\n",
    "    \"\"\"\n",
    "    from functools import partial\n",
    "    mapfunc = partial(shift_image, shift=shift)\n",
    "    si_t = si.T\n",
    "    si_shift = map(mapfunc, si_t.data)\n",
    "    si_shift = list(si_shift)\n",
    "    si_shift = np.asarray(si_shift)\n",
    "    si_shift = si_shift.astype('uint8')\n",
    "    return hs.signals.Signal2D(si_shift)"
   ]
  },
  {
   "cell_type": "code",
   "execution_count": null,
   "id": "a33fcdf4",
   "metadata": {},
   "outputs": [],
   "source": [
    "# Test func above on non-aligned stack\n",
    "with h5py.File(hdf_path, 'r') as f:\n",
    "    ims = f['img_frames'][()]\n",
    "    \n",
    "cent = ims.data.shape[1]//2\n",
    "ims_crop_shift = []\n",
    "for i in range(shifts.shape[0]):\n",
    "    frame_crop = shift_image(ims[i,:,:], shift = list(-1 * shifts[i]))\n",
    "    ims_crop_shift.append(frame_crop)\n",
    "ims_crop_shift = np.array(ims_crop_shift)\n",
    "ims_crop_shift = hs.signals.Signal2D(ims_crop_shift)"
   ]
  },
  {
   "cell_type": "code",
   "execution_count": null,
   "id": "8738a80f",
   "metadata": {},
   "outputs": [],
   "source": [
    "ims_crop_shift.data.shape"
   ]
  },
  {
   "cell_type": "code",
   "execution_count": null,
   "id": "4189f22c",
   "metadata": {},
   "outputs": [],
   "source": [
    "ims_crop_shift.plot()"
   ]
  },
  {
   "cell_type": "code",
   "execution_count": null,
   "id": "a456b4cc",
   "metadata": {},
   "outputs": [],
   "source": [
    "d.axes_manager"
   ]
  },
  {
   "cell_type": "code",
   "execution_count": null,
   "id": "090ee452",
   "metadata": {},
   "outputs": [],
   "source": [
    "frames_num = d.axes_manager[2].size\n",
    "binned_eds = d.rebin(scale=(4,4,1,2))\n",
    "elements_list = sorted(['Sr', 'Ni', 'Cu', 'Ti', 'O', 'C'])\n",
    "lines_list = ['C_Ka', 'Cu_Ka', 'Ni_Ka', 'Ti_Ka' 'O_Ka', 'Sr_Ka']\n",
    "binned_eds.add_elements(elements_list)\n",
    "binned_eds.add_lines()"
   ]
  },
  {
   "cell_type": "code",
   "execution_count": null,
   "id": "353c7340",
   "metadata": {},
   "outputs": [],
   "source": [
    "binned_eds.axes_manager"
   ]
  },
  {
   "cell_type": "code",
   "execution_count": null,
   "id": "a6c4a080",
   "metadata": {},
   "outputs": [],
   "source": [
    "binned_eds"
   ]
  },
  {
   "cell_type": "code",
   "execution_count": null,
   "id": "19f90d38",
   "metadata": {},
   "outputs": [],
   "source": [
    "binned_eds.axes_manager"
   ]
  },
  {
   "cell_type": "code",
   "execution_count": null,
   "id": "cb15e157",
   "metadata": {},
   "outputs": [],
   "source": [
    "# Aligning the spectrum images with the same function above\n",
    "\n",
    "eds_si_aligned = np.zeros((128,128,2048))\n",
    "\n",
    "# summin g over the central 64 by 64 pixels in each aligend SI\n",
    "\n",
    "for i in range(frames_num):\n",
    "    si = binned_eds.inav[:,:,i]\n",
    "    si.compute()\n",
    "      si_shifted = shift_si(si, list(-1 * shifts[i]))                          \n",
    "    print(si_shifted)\n",
    "    eds_si_aligned += si_shifted.T.data\n",
    "    \n",
    "    del si\n",
    "    gc.collect()"
   ]
  },
  {
   "cell_type": "code",
   "execution_count": null,
   "id": "cabf31b5",
   "metadata": {},
   "outputs": [],
   "source": [
    "eds_si_aligned.shape"
   ]
  },
  {
   "cell_type": "code",
   "execution_count": null,
   "id": "7de0ec40",
   "metadata": {},
   "outputs": [],
   "source": [
    "eds_si_aligned_hs = hs.signals.EDSTEMSpectrum(eds_si_aligned)\n",
    "eds_si_aligned_hs"
   ]
  },
  {
   "cell_type": "code",
   "execution_count": null,
   "id": "f63f874b",
   "metadata": {},
   "outputs": [],
   "source": [
    "eds_si_aligned_hs.axes_manager"
   ]
  },
  {
   "cell_type": "code",
   "execution_count": null,
   "id": "f0fbcb8b",
   "metadata": {},
   "outputs": [],
   "source": [
    "binned_eds.axes_manager"
   ]
  },
  {
   "cell_type": "code",
   "execution_count": null,
   "id": "20d11b98",
   "metadata": {},
   "outputs": [],
   "source": [
    "eds_si_aligned_hs.axes_manager[-1].name = 'Energy'\n",
    "eds_si_aligned_hs.axes_manager[-1].offset = binned_eds.axes_manager[-1].offset\n",
    "eds_si_aligned_hs.axes_manager[-1].scale = binned_eds.axes_manager[-1].scale\n",
    "eds_si_aligned_hs.axes_manager[-1].units = binned_eds.axes_manager[-1].units\n",
    "eds_si_aligned_hs.axes_manager[0].name = binned_eds.axes_manager[0].name\n",
    "eds_si_aligned_hs.axes_manager[1].name = binned_eds.axes_manager[1].name\n",
    "eds_si_aligned_hs.axes_manager[0].offset = binned_eds.axes_manager[0].offset\n",
    "eds_si_aligned_hs.axes_manager[1].offset = binned_eds.axes_manager[1].offset\n",
    "eds_si_aligned_hs.axes_manager[0].scale = binned_eds.axes_manager[0].scale\n",
    "eds_si_aligned_hs.axes_manager[1].scale = binned_eds.axes_manager[1].scale\n",
    "eds_si_aligned_hs.axes_manager[0].units = binned_eds.axes_manager[0].units\n",
    "eds_si_aligned_hs.axes_manager[1].units = binned_eds.axes_manager[1].units\n",
    "eds_si_aligned_hs.add_elements(elements_list)\n",
    "eds_si_aligned_hs.axes_manager"
   ]
  },
  {
   "cell_type": "code",
   "execution_count": null,
   "id": "8b1e27ef",
   "metadata": {},
   "outputs": [],
   "source": [
    "eds_si_aligned_hs.metadata"
   ]
  },
  {
   "cell_type": "code",
   "execution_count": null,
   "id": "a399cba3",
   "metadata": {},
   "outputs": [],
   "source": [
    "eds_si_aligned_hs.save('/dls/e01/data/2022/mg31258-11/processing/AH31_EDX_data/AH31_Sample_00_View004_View004_0000411/Aligned_SI')"
   ]
  },
  {
   "cell_type": "code",
   "execution_count": null,
   "id": "6777da66",
   "metadata": {},
   "outputs": [],
   "source": [
    "maps = eds_si_aligned_hs.get_lines_intensity()"
   ]
  },
  {
   "cell_type": "code",
   "execution_count": null,
   "id": "cbc7ce87",
   "metadata": {},
   "outputs": [],
   "source": [
    "hs.plot.plot_images(maps, cmap='inferno')"
   ]
  }
 ],
 "metadata": {
  "kernelspec": {
   "display_name": "Python 3.10 - EPSIC [DLS Conda]",
   "language": "python",
   "name": "conda-env-DLS_Conda-epsic3.10-kernel.json"
  },
  "language_info": {
   "codemirror_mode": {
    "name": "ipython",
    "version": 3
   },
   "file_extension": ".py",
   "mimetype": "text/x-python",
   "name": "python",
   "nbconvert_exporter": "python",
   "pygments_lexer": "ipython3",
   "version": "3.10.5"
  }
 },
 "nbformat": 4,
 "nbformat_minor": 5
}
