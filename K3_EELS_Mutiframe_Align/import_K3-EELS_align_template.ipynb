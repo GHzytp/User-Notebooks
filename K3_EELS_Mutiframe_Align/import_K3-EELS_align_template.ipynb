{
 "cells": [
  {
   "cell_type": "markdown",
   "id": "5c6de8ef-6200-4c91-ac7c-a425aacc2a0e",
   "metadata": {},
   "source": [
    "This notebook can be run interactively or submitted to SLURM cluster at DLS using the notebook entitled **SLURM_notebook_submit.ipynb** \n",
    "\n",
    "We do the following:\n",
    "- Load the K3-EELS nultiframe data\n",
    "- Save individual frames LL and HL data\n",
    "- Save ZLP positions in the FOV\n",
    "- Align all frames with respect to the ZLP and sum to get one aligned data\n",
    "\n",
    "\n",
    "Creator(s):\n",
    "- Mohsen Danaie (ePSIC)- mohsen.danaie@diamond.ac.uk \n",
    "\n",
    "TODO: Add drift correction"
   ]
  },
  {
   "cell_type": "code",
   "execution_count": null,
   "id": "c8ca603e-55e5-4d5b-8934-2e85b4658c3e",
   "metadata": {},
   "outputs": [],
   "source": [
    "# %matplotlib widget  \n",
    "\n",
    "## Comment out the above magic command for clustrer submission\n",
    "\n",
    "import py4DSTEM\n",
    "import hyperspy.api as hs\n",
    "import numpy as np\n",
    "import h5py\n",
    "print(np.__version__)\n",
    "print(h5py.__version__)\n",
    "import exspy\n",
    "import matplotlib.pyplot as plt\n",
    "import os\n",
    "import sys\n",
    "sys.path.append('/dls_sw/e02/software/epsic_tools')\n",
    "import epsic_tools.api as ep"
   ]
  },
  {
   "cell_type": "markdown",
   "id": "cd2694ea-eff1-46bf-855e-e63b6c3b50ce",
   "metadata": {},
   "source": [
    "file_path_HL=/dls/e01/data/2025/mg38764-5/raw/SCD2070/InSitu (1)/STEM SI_EELS HL SI.dm5\n",
    "\n",
    "file_path_LL=/dls/e01/data/2025/mg38764-5/raw/SCD2070/InSitu (1)/STEM SI_EELS LL SI.dm5\n",
    "\n",
    "images_path=/dls/e01/data/2025/mg38764-5/raw/SCD2070/InSitu (1)/STEM SI_HAADF Image.dm4\n",
    "\n",
    "cal_ll_path=/dls/e01/data/2025/mg38764-5/raw/SCD2070/InSitu (4)/STEM SI_EELS LL SI.dm4\n",
    "\n",
    "cal_hl_path=/dls/e01/data/2025/mg38764-5/raw/SCD2070/InSitu (4)/STEM SI_EELS HL SI.dm4\n",
    "\n",
    "save_path=/dls/e01/data/2025/mg38764-5/processing/SI(1)\n"
   ]
  },
  {
   "cell_type": "code",
   "execution_count": null,
   "id": "5d3fd1c9-eddc-41fb-ae87-cb4c7f442cf7",
   "metadata": {},
   "outputs": [],
   "source": []
  },
  {
   "cell_type": "code",
   "execution_count": null,
   "id": "03d44241-5ec0-4103-b3cf-9d2d606cf581",
   "metadata": {},
   "outputs": [],
   "source": []
  },
  {
   "cell_type": "code",
   "execution_count": null,
   "id": "ab71d572-06db-4df4-8aa5-66c528fa5552",
   "metadata": {},
   "outputs": [],
   "source": [
    "# Load dm4 files for axes info\n",
    "\n",
    "d_cal_hl = hs.load(cal_hl_path)\n",
    "d_cal_ll = hs.load(cal_ll_path)"
   ]
  },
  {
   "cell_type": "code",
   "execution_count": null,
   "id": "9584cd3d-0579-468e-b9e0-3db71a1a9be6",
   "metadata": {},
   "outputs": [],
   "source": [
    "print(d_cal_hl.axes_manager)"
   ]
  },
  {
   "cell_type": "markdown",
   "id": "c5374097-ffb3-45fb-a92c-872dd5f41823",
   "metadata": {},
   "source": [
    "# Loading data"
   ]
  },
  {
   "cell_type": "code",
   "execution_count": null,
   "id": "ad761d73-011b-4072-8ad8-c424ea9df823",
   "metadata": {},
   "outputs": [],
   "source": [
    "# file_path = r'/dls/e01/data/2025/mg38764-5/raw/SCD2070/InSitu (1)/STEM SI_EELS HL SI.dm5'\n",
    "# file_path_LL = r'/dls/e01/data/2025/mg38764-5/raw/SCD2070/InSitu (1)/STEM SI_EELS LL SI.dm5'\n",
    "# images_path = '/dls/e01/data/2025/mg38764-5/raw/SCD2070/InSitu (1)/STEM SI_HAADF Image.dm4'"
   ]
  },
  {
   "cell_type": "code",
   "execution_count": null,
   "id": "f887cda8-46a7-4d74-8f74-8fb82e751bec",
   "metadata": {},
   "outputs": [],
   "source": [
    "images_path"
   ]
  },
  {
   "cell_type": "code",
   "execution_count": null,
   "id": "1ea0d8c9-f3e4-49d5-bdcc-2ddac0901533",
   "metadata": {},
   "outputs": [],
   "source": [
    "im = hs.load(images_path)"
   ]
  },
  {
   "cell_type": "code",
   "execution_count": null,
   "id": "4b12b030-b343-420e-b38d-e824df0b1fe6",
   "metadata": {},
   "outputs": [],
   "source": [
    "f = h5py.File(file_path_HL, \"r\")"
   ]
  },
  {
   "cell_type": "code",
   "execution_count": null,
   "id": "bd20d03c-7ecf-4b33-a6cc-df357709fbbf",
   "metadata": {
    "scrolled": true
   },
   "outputs": [],
   "source": [
    "def print_attrs(name, obj):\n",
    "    print(f\"Name: {name}\")\n",
    "    for key, value in obj.attrs.items():\n",
    "        print(f\"   Attributes: {key} => {value}\")\n",
    "f.visititems(print_attrs)"
   ]
  },
  {
   "cell_type": "code",
   "execution_count": null,
   "id": "5e8ad478-1d73-40be-815a-e307d81d332a",
   "metadata": {},
   "outputs": [],
   "source": [
    "MyInSituData = ep.load_k3_data.InSitu_K3_Reader(file_path_HL) \n",
    "MyInSituData_LL = ep.load_k3_data.InSitu_K3_Reader(file_path_LL) "
   ]
  },
  {
   "cell_type": "code",
   "execution_count": null,
   "id": "55c68b45-571e-4a6d-bdd7-f644111a3d02",
   "metadata": {},
   "outputs": [],
   "source": [
    "frames_num = MyInSituData.GetTotalFrameNum()"
   ]
  },
  {
   "cell_type": "code",
   "execution_count": null,
   "id": "d611b9a6-3179-4c67-aed2-1bce478c687d",
   "metadata": {
    "scrolled": true
   },
   "outputs": [],
   "source": [
    "# def print_attrs(name, obj):\n",
    "#     print(name)\n",
    "#     for key, val in obj.attrs.items():\n",
    "#         print('%s %s' % (key, val))\n",
    "        \n",
    "# f = h5py.File(file_path,'r')\n",
    "# f.visititems(print_attrs)"
   ]
  },
  {
   "cell_type": "markdown",
   "id": "be74652e-0882-49ea-8dad-b784d6acecbe",
   "metadata": {},
   "source": [
    "# load all frames and sum "
   ]
  },
  {
   "cell_type": "code",
   "execution_count": null,
   "id": "7f1f83fb-8eba-460e-b5ce-e3d2cddb6c9d",
   "metadata": {},
   "outputs": [],
   "source": [
    "ll_list = []\n",
    "hl_list = []\n",
    "for i in range(0,frames_num):\n",
    "    print(i)\n",
    "    _d_hl = MyInSituData.GetNthFrame_lazy(i)\n",
    "    _d_ll = MyInSituData_LL.GetNthFrame_lazy(i)\n",
    "    _d_hl = exspy.signals.LazyEELSSpectrum(_d_hl)\n",
    "    _d_ll = exspy.signals.LazyEELSSpectrum(_d_ll)\n",
    "    _d_hl = _d_hl.transpose(signal_axes=[1], navigation_axes=[2,0])\n",
    "    _d_ll = _d_ll.transpose(signal_axes=[1], navigation_axes=[2,0])\n",
    "    _d_hl.axes_manager = d_cal_hl.axes_manager\n",
    "    _d_ll.axes_manager = d_cal_ll.axes_manager\n",
    "    _d_ll.compute()\n",
    "    _d_hl.compute()\n",
    "    _d_ll.save(os.path.join(save_path, f'raw_ll_frame_{i}.hspy'))\n",
    "    _d_hl.save(os.path.join(save_path, f'raw_hl_frame_{i}.hspy'))\n",
    "    ll_list.append(_d_ll)\n",
    "    hl_list.append(_d_hl)\n"
   ]
  },
  {
   "cell_type": "code",
   "execution_count": null,
   "id": "bbcbae02-ffe5-459d-b28d-d80cc7eca6c4",
   "metadata": {},
   "outputs": [],
   "source": [
    "d_cal_ll.sum().plot()"
   ]
  },
  {
   "cell_type": "code",
   "execution_count": null,
   "id": "b23b141d-deb1-417a-ae07-fb4e31caf7f6",
   "metadata": {},
   "outputs": [],
   "source": [
    "raw_data_ll_sum = sum(signal.data for signal in ll_list)\n",
    "raw_data_ll_sum = exspy.signals.EELSSpectrum(raw_data_ll_sum)\n",
    "raw_data_ll_sum.save(os.path.join(save_path, 'sum_ll_raw.hspy'), overwrite=True)\n",
    "raw_data_ll_sum.axes_manager = d_cal_ll.axes_manager\n",
    "# raw_data_ll_sum.compute()\n",
    "raw_ll_sum = raw_data_ll_sum.sum()\n",
    "raw_ll_sum.isig[-5.0:5.0].plot()\n",
    "fig = plt.gcf()\n",
    "fig.savefig(os.path.join(save_path, 'sum_ll_raw.png'))"
   ]
  },
  {
   "cell_type": "code",
   "execution_count": null,
   "id": "8d3a9d92-cb8d-4b2f-a1f9-98e04b7bcd68",
   "metadata": {},
   "outputs": [],
   "source": [
    "# Estimate ZLP pos\n",
    "zlp_pos = []\n",
    "for i in range(0,frames_num):\n",
    "    print(i)\n",
    "    _temp_ll = ll_list[i]\n",
    "    # _temp_ll.compute()\n",
    "    _zlp = _temp_ll.estimate_zero_loss_peak_centre()\n",
    "    _zlp.save(os.path.join(save_path, f'zlp_pos_frame_{i}.hspy'), overwrite=True)\n",
    "    _zlp.plot()\n",
    "    fig = plt.gcf()\n",
    "    fig.savefig(os.path.join(save_path, f'zlp_pos_frame_{i}.png'))\n",
    "    zlp_pos.append(_zlp)\n"
   ]
  },
  {
   "cell_type": "code",
   "execution_count": null,
   "id": "f0d08d13-03ab-4c59-9868-064b065e0072",
   "metadata": {},
   "outputs": [],
   "source": [
    "# Aligning in energy:\n",
    "aligned_ll = []\n",
    "aligned_hl = []\n",
    "for i in range(0,len(ll_list)):\n",
    "    print(i)\n",
    "    _temp_ll = ll_list[i]\n",
    "    _temp_hl = hl_list[i]\n",
    "    _temp_ll.align_zero_loss_peak(calibrate=False,\n",
    "                                also_align=[_temp_hl], \n",
    "                                subpixel=False,\n",
    "                                crop=False,\n",
    "                                signal_range=(-5.0,5.0))\n",
    "\n",
    "    aligned_ll.append(_temp_ll)\n",
    "    aligned_hl.append(_temp_hl)"
   ]
  },
  {
   "cell_type": "code",
   "execution_count": null,
   "id": "db815166-3b04-4f52-8c30-6ffef030c0fd",
   "metadata": {},
   "outputs": [],
   "source": [
    "aligned_stack = hs.stack(d.sum() for d in aligned_ll)"
   ]
  },
  {
   "cell_type": "code",
   "execution_count": null,
   "id": "ed641517-390b-4306-8b1e-3bd6c0f4f6d6",
   "metadata": {},
   "outputs": [],
   "source": [
    "aligned_stack.isig[-10.:7.0].plot()"
   ]
  },
  {
   "cell_type": "code",
   "execution_count": null,
   "id": "b4d37bcc-3b6f-4703-a298-56d9d67f446e",
   "metadata": {},
   "outputs": [],
   "source": [
    "fig = plt.gcf()\n",
    "fig.savefig(os.path.join(save_path, f'stacked_aligned_ll_data.png'))"
   ]
  },
  {
   "cell_type": "code",
   "execution_count": null,
   "id": "b14716bd-36a1-4526-b440-eb4084fd40c9",
   "metadata": {},
   "outputs": [],
   "source": [
    "margin = 100 # offset from the ZLP to crop\n",
    "energy_ax_size = 3000 # number of channels in the final aligned data to retain\n",
    "\n",
    "zlp_indices = []\n",
    "for i, data in enumerate(aligned_ll):\n",
    "    if i==0:\n",
    "        zlp_ind = np.argmax(data.sum().data)\n",
    "        zlp_indices.append(zlp_ind)\n",
    "\n",
    "        aligned_ll_sum = data.isig[int(zlp_ind - margin):int(zlp_ind - margin + energy_ax_size)]\n",
    "        aligned_hl_sum = aligned_hl[i].isig[int(zlp_ind - margin):int(zlp_ind - margin + energy_ax_size)]\n",
    "        # print(aligned_ll_sum.axes_manager)\n",
    "    else:\n",
    "        print(i)\n",
    "        zlp_ind = np.argmax(data.sum().data)\n",
    "        zlp_indices.append(zlp_ind)\n",
    "        # print(zlp_ind)\n",
    "        aligned_ll_sum += data.isig[int(zlp_ind - margin):int(zlp_ind - margin + energy_ax_size)]\n",
    "        aligned_hl_sum += aligned_hl[i].isig[int(zlp_ind - margin):int(zlp_ind - margin + energy_ax_size)]\n",
    "\n"
   ]
  },
  {
   "cell_type": "code",
   "execution_count": null,
   "id": "93bcc625-e8af-459b-9e93-b9b94fd563f5",
   "metadata": {},
   "outputs": [],
   "source": [
    "# Doing this one final time to push ZLP pos to zero eV\n",
    "aligned_ll_sum.align_zero_loss_peak(calibrate=True,\n",
    "                                also_align=[aligned_hl_sum], \n",
    "                                subpixel=False,\n",
    "                                crop=False,\n",
    "                                signal_range=(-5.0,5.0))"
   ]
  },
  {
   "cell_type": "code",
   "execution_count": null,
   "id": "1d611984-c838-4455-a145-5bba1e1dfc79",
   "metadata": {},
   "outputs": [],
   "source": [
    "aligned_ll_sum.sum().plot()"
   ]
  },
  {
   "cell_type": "code",
   "execution_count": null,
   "id": "bc740a65-c194-4f03-9e06-6c727cd031b8",
   "metadata": {},
   "outputs": [],
   "source": [
    "fig = plt.gcf()\n",
    "fig.savefig(os.path.join(save_path, f'aligned_ll_sum_data_final.png'))"
   ]
  },
  {
   "cell_type": "code",
   "execution_count": null,
   "id": "f7a60265-e0bd-427b-bb0d-8fcb14538c0d",
   "metadata": {},
   "outputs": [],
   "source": [
    "aligned_ll_sum.save(os.path.join(save_path, 'aligned_ll_data.hspy'), overwrite=True)\n",
    "aligned_hl_sum.save(os.path.join(save_path, 'aligned_hl_data.hspy'), overwrite=True)"
   ]
  },
  {
   "cell_type": "code",
   "execution_count": null,
   "id": "86a5d7fc-d7aa-4756-863c-ff9406275953",
   "metadata": {},
   "outputs": [],
   "source": []
  }
 ],
 "metadata": {
  "kernelspec": {
   "display_name": "Python 3.10 - EPSIC [DLS Conda]",
   "language": "python",
   "name": "conda-env-DLS_Conda-epsic3.10-kernel.json"
  },
  "language_info": {
   "codemirror_mode": {
    "name": "ipython",
    "version": 3
   },
   "file_extension": ".py",
   "mimetype": "text/x-python",
   "name": "python",
   "nbconvert_exporter": "python",
   "pygments_lexer": "ipython3",
   "version": "3.10.13"
  }
 },
 "nbformat": 4,
 "nbformat_minor": 5
}
