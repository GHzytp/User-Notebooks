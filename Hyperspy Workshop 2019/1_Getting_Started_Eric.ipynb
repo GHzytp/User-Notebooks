{
 "cells": [
  {
   "cell_type": "markdown",
   "metadata": {},
   "source": [
    "# Getting started"
   ]
  },
  {
   "cell_type": "markdown",
   "metadata": {},
   "source": [
    "Requires **HyperSpy 1.3.1 or above**"
   ]
  },
  {
   "cell_type": "markdown",
   "metadata": {},
   "source": [
    "## Summary"
   ]
  },
  {
   "cell_type": "markdown",
   "metadata": {},
   "source": [
    "This tutorial shows how to load, save and visualise data with HyperSpy as well as other basic functionalities.\n",
    "\n",
    "Although not strictly required, some knowledge of Python can help with getting the most out of HyperSpy. If you are new to Python, the [official tutorial](https://docs.python.org/2/tutorial/index.html) is an excellent way to start.\n",
    "\n",
    "This tutorial can be enjoyed interactively thanks to the [Jupyter Notebook](http://jupyter.org) and [IPython](http://ipython.org). If you are not familiar with the Jupyter Notebook, having a look at the `Help` menu above and the [IPython documentation](http://ipython.readthedocs.io/en/stable/interactive/index.html) is highly recommended.\n",
    "\n",
    "To save this webpage as an interactively useable IPython notebook, click on the \"download\" icon at the top-right of the webpage and save the resulting code with the suffix \".ipynb\" (this should be proposed by default). If Hyperspy has been installed, the notebook can then be launched by double-clicking the saved file (Mac and Linux) or right-clicking the folder containing the file (Windows) and then clicking again on the notebook filename in the tab that will have opened in your browser. This will open another tab containing the interactive version of this page.\n",
    "\n",
    "Important note: in the Jupyter notebook, to execute a command or group of commands in a cell, place the cursor in the cell and press 'shift+return'."
   ]
  },
  {
   "cell_type": "markdown",
   "metadata": {},
   "source": [
    "### Credits and changes"
   ]
  },
  {
   "cell_type": "markdown",
   "metadata": {},
   "source": [
    "* 27/6/2018 Eric Prestat. Update for the SuperSTEM summer school.\n",
    "* 24/3/2018 Eric Prestat. Add GUIs and ROIs secions; change some comments.\n",
    "* 22/8/2016 Michael Walls. Include some more comments and explanations\n",
    "* 9/8/2016 Francisco de la Peña. Update it for HyperSpy 1.1\n",
    "* 27/7/2016 Francisco de la Peña. Update it for HyperSpy 1.0.1.\n",
    "* 6/3/2016 Francisco de la Peña. Adapted from previous tutorials for the SCANDEM workshop."
   ]
  },
  {
   "cell_type": "markdown",
   "metadata": {},
   "source": [
    "## Table of Contents"
   ]
  },
  {
   "cell_type": "markdown",
   "metadata": {},
   "source": [
    "1. [Importing HyperSpy](#1.-Importing-HyperSpy)\n",
    "2. [Getting help](#2.-Getting-help)\n",
    "3. [Structure overview](#3.-Structure-overview)\n",
    "4. [Loading data from a file](#4.-Loading-data-from-a-file)\n",
    "5. [Axis properties](#5.-Axis-properties)\n",
    "6. [GUIs](#6.-GUIs)\n",
    "7. [Visualisation](#7.-Visualisation)\n",
    "8. [Swaping signal and navigation axes](#8.-Swaping-signal-and-navigation-axes)\n",
    "9. [Saving to file](#9.-Saving-to-file)\n",
    "10. [ROIs and interactive operations](#10.-ROIs-and-interactive-operations)\n",
    "11. [Indexing](#11.-Indexing)\n",
    "12. [Process with external function](#12.-Process-with-external-function)\n"
   ]
  },
  {
   "cell_type": "markdown",
   "metadata": {},
   "source": [
    "**IMPORTANT:** Before you start create/download the datasets executing the code in the [Appendix](#Appendix)."
   ]
  },
  {
   "cell_type": "markdown",
   "metadata": {},
   "source": [
    "## 1. Importing HyperSpy"
   ]
  },
  {
   "cell_type": "markdown",
   "metadata": {},
   "source": [
    "As any other Python library, to use HyperSpy first need to \"import\" it. The public HyperSpy API can be imported executing\n",
    "\n",
    "    import hyperspy.api as hs\n",
    "    \n",
    "However, in order to enable interactive plotting in IPython we need to activate the matplotlib \"backend\" first using the [%matplotlib IPython magic](http://ipython.readthedocs.io/en/stable/interactive/plotting.html).\n",
    "\n",
    "**NOTE:** A \"backend\" in this context refers to the code determining the way in which the plotted data will be displayed. If you are using the jupyter lab, the `notebook` backend is not supported yet.\n",
    "In the online version of this document we use the `notebook` backend that displays interactive figures inside the Jupyter Notebook. Other backends, such as `qt` or `tk` can be used. If you get an error message, it is most likely that the selected backend is not available on your system."
   ]
  },
  {
   "cell_type": "code",
   "execution_count": 1,
   "metadata": {
    "scrolled": true
   },
   "outputs": [],
   "source": [
    "# This is a Python comment line - anything after a hashtag is a non-executed comment\n",
    "# Import matplotlib and setting the backend; Use the %matplotlib IPython magic:\n",
    "%matplotlib qt\n",
    "# You can replace 'notebook' with any other available toolkit e.g 'qt', 'tk'..."
   ]
  },
  {
   "cell_type": "code",
   "execution_count": 2,
   "metadata": {},
   "outputs": [],
   "source": [
    "import hyperspy.api as hs"
   ]
  },
  {
   "cell_type": "markdown",
   "metadata": {},
   "source": [
    "## 2. Getting help"
   ]
  },
  {
   "cell_type": "markdown",
   "metadata": {},
   "source": [
    "HyperSpy documentation includes\n",
    "\n",
    "* The [Use Guide](http://hyperspy.org/hyperspy-doc/current/index.html)\n",
    "* The docstrings (see below)\n",
    "* The [demos](http://nbviewer.jupyter.org/github/hyperspy/hyperspy-demos/tree/master/) such as this one.\n",
    "\n",
    "\n",
    "### Docstrings\n",
    "\n",
    "In Python most objects include their own documentation  (docstring in Python jargon). In the Jupyter notebook you can consult the documentation interactively by:\n",
    "\n",
    "* Adding a question mark to the object, e.g. load?\n",
    "* If the object is a function or a method, by pressing the ``Shift + Tab`` keys after writing the first brackets, e.g. load (&lt;``Shift + Tab``>)\n"
   ]
  },
  {
   "cell_type": "markdown",
   "metadata": {},
   "source": [
    "All HyperSpy public objects are contained in the ``hs`` variable that we have imported above. Let's practice the different methods to access the docstrings by inspecting the ``hs`` doctring:"
   ]
  },
  {
   "cell_type": "code",
   "execution_count": 3,
   "metadata": {},
   "outputs": [
    {
     "data": {
      "text/plain": [
       "\u001b[0;31mType:\u001b[0m        module\n",
       "\u001b[0;31mString form:\u001b[0m <module 'hyperspy.api' from '/home/eric/Dev/hyperspy/hyperspy/api.py'>\n",
       "\u001b[0;31mFile:\u001b[0m        ~/Dev/hyperspy/hyperspy/api.py\n",
       "\u001b[0;31mDocstring:\u001b[0m  \n",
       "All public packages, functions and classes are available in this module.\n",
       "\n",
       "When starting HyperSpy using the ``hyperspy`` script (e.g. by executing\n",
       "``hyperspy`` in a console, using the context menu entries or using the links in\n",
       "the ``Start Menu``, the :mod:`~hyperspy.api` package is imported in the user\n",
       "namespace as ``hs``, i.e. by executing the following:\n",
       "\n",
       "    >>> import hyperspy.api as hs\n",
       "\n",
       "\n",
       "(Note that code snippets are indicated by three greater-than signs)\n",
       "\n",
       "We recommend to import the HyperSpy API as above also when doing it manually.\n",
       "The docstring examples assume that `hyperspy` has been imported as `hs`,\n",
       "numpy as ``np`` and ``matplotlib.pyplot`` as ``plt``. \n",
       "\n",
       "Functions:\n",
       "\n",
       "    create_model\n",
       "        Create a model for curve fitting.\n",
       "\n",
       "    get_configuration_directory_path\n",
       "        Return the configuration directory path.\n",
       "\n",
       "    load\n",
       "        Load data into BaseSignal instances from supported files.\n",
       "\n",
       "    preferences\n",
       "        Preferences class instance to configure the default value of different\n",
       "        parameters. It has a CLI and a GUI that can be started by execting its\n",
       "        `gui` method i.e. `preferences.gui()`.\n",
       "\n",
       "    stack\n",
       "        Stack several signals.\n",
       "\n",
       "    interactive\n",
       "        Define operations that are automatically recomputed on event changes.\n",
       "\n",
       "    set_log_level\n",
       "        Convenience function to set HyperSpy's the log level.\n",
       "\n",
       "\n",
       "The :mod:`~hyperspy.api` package contains the following submodules/packages:\n",
       "\n",
       "    :mod:`~hyperspy.api.signals`\n",
       "        `Signal` classes which are the core of HyperSpy. Use this modules to\n",
       "        create `Signal` instances manually from numpy arrays. Note that to\n",
       "        load data from supported file formats is more convenient to use the\n",
       "        `load` function.\n",
       "    :mod:`~hyperspy.api.model`\n",
       "        Contains the :mod:`~hyperspy.api.model.components` module with\n",
       "        components that can be used to create a model for curve fitting.\n",
       "    :mod:`~hyperspy.api.eds`\n",
       "        Functions for energy dispersive X-rays data analysis.\n",
       "    :mod:`~hyperspy.api.material`\n",
       "        Useful functions for materials properties and elements database that\n",
       "        includes physical properties and X-rays and EELS energies.\n",
       "    :mod:`~hyperspy.api.plot`\n",
       "        Plotting functions that operate on multiple signals.\n",
       "    :mod:`~hyperspy.api.datasets`\n",
       "        Example datasets.\n",
       "    :mod:`~hyperspy.api.roi`\n",
       "        Region of interests (ROIs) that operate on `BaseSignal` instances and\n",
       "        include widgets for interactive operation.\n",
       "    :mod:`~hyperspy.api.samfire`\n",
       "        SAMFire utilities (strategies, Pool, fit convergence tests)\n",
       "\n",
       "\n",
       "For more details see their doctrings.\n"
      ]
     },
     "metadata": {},
     "output_type": "display_data"
    }
   ],
   "source": [
    "# Use the question mark to inspect the `hs` object:\n",
    "hs?"
   ]
  },
  {
   "cell_type": "markdown",
   "metadata": {},
   "source": [
    "The `dir` function is very helpful to inspect the attributes of Python objects"
   ]
  },
  {
   "cell_type": "code",
   "execution_count": 4,
   "metadata": {},
   "outputs": [
    {
     "data": {
      "text/plain": [
       "<module 'hyperspy.api' from '/home/eric/Dev/hyperspy/hyperspy/api.py'>"
      ]
     },
     "execution_count": 4,
     "metadata": {},
     "output_type": "execute_result"
    }
   ],
   "source": [
    "# Use the dir function to inspect the attribute of the `hs` object:\n",
    "hs"
   ]
  },
  {
   "cell_type": "markdown",
   "metadata": {},
   "source": [
    "## 3. Structure overview"
   ]
  },
  {
   "cell_type": "markdown",
   "metadata": {},
   "source": [
    "HyperSpy provides (among other things):\n",
    "* A collection of \"signals\" which are specialised data containers with functions (methods in Python jargon) that operate on the data. They can be found in ``hs.signals``.\n",
    "* Functions that operate on the signals. For example ``hs.stack`` to stack signals and the several functions in ``hs.plot``.\n",
    "* A collection of \"model\" classes that generate models (usually for fitting) by linearly combining the components in ``hs.model.components``.\n",
    "* A database of chemical elements with EELS ionisation edges and X-ray lines in ``hs.material``.\n",
    "* Some example data in `hs.datasets`"
   ]
  },
  {
   "cell_type": "code",
   "execution_count": null,
   "metadata": {},
   "outputs": [],
   "source": [
    "# Inspect the attribute of hs.signals:\n",
    "hs.signals."
   ]
  },
  {
   "cell_type": "markdown",
   "metadata": {},
   "source": [
    "To create a HyperSpy signal, just pass some data to one of the signals in ``hs.signals`` e.g."
   ]
  },
  {
   "cell_type": "code",
   "execution_count": 5,
   "metadata": {},
   "outputs": [],
   "source": [
    "# Create a 1D signal named `ten` which contains integer values from one to ten:\n",
    "ten = hs.signals.Signal1D([0, 1, 2, 3, 4, 5, 6, 7])"
   ]
  },
  {
   "cell_type": "markdown",
   "metadata": {},
   "source": [
    "Now the `ten` variable contains a `Signal1D` instance."
   ]
  },
  {
   "cell_type": "markdown",
   "metadata": {},
   "source": [
    "Note that, thanks to [IPython](http://ipython.readthedocs.io/en/stable/interactive/tutorial.html#tab-completion), there is no need to type all the commands or paths manually—it is enough to write the first letters and press the `Tab` key."
   ]
  },
  {
   "cell_type": "code",
   "execution_count": null,
   "metadata": {},
   "outputs": [],
   "source": [
    "# Use Tab to use the autocompletion of the `ten`:\n",
    "ten"
   ]
  },
  {
   "cell_type": "markdown",
   "metadata": {},
   "source": [
    "Most of the operations that we can performs in the data are available inside this object, and can be accessed by writing a *dot* i.e. `.` after the name of the variable, pressing the ``Tab`` key and choosing an option from the list that appears. Alternatively, use the `dir` function to print them all."
   ]
  },
  {
   "cell_type": "code",
   "execution_count": null,
   "metadata": {},
   "outputs": [],
   "source": [
    "# Use Tab after `ten.` or the `dir` function to inspect all attribute (variables or operations) attached to `ten`:\n"
   ]
  },
  {
   "cell_type": "markdown",
   "metadata": {},
   "source": [
    "For example:"
   ]
  },
  {
   "cell_type": "code",
   "execution_count": 6,
   "metadata": {},
   "outputs": [
    {
     "name": "stdout",
     "output_type": "stream",
     "text": [
      "Summary statistics\n",
      "------------------\n",
      "mean:\t3.5\n",
      "std:\t2.29\n",
      "\n",
      "min:\t0\n",
      "Q1:\t1.75\n",
      "median:\t3.5\n",
      "Q3:\t5.25\n",
      "max:\t7\n"
     ]
    }
   ],
   "source": [
    "# Call the `print_summary_statistics` function of the `ten` object:\n",
    "ten.print_summary_statistics()"
   ]
  },
  {
   "cell_type": "markdown",
   "metadata": {},
   "source": [
    "### Very useful tip: \"Autocompletion\"\n",
    "\n",
    "In fact, long commands like the previous one can be entered more quickly using the ``tab`` key. Just enter the first few letters of the command, press ``tab`` and a list of the possible commands will appear. Navigate to the required command with the arrow keys (you still need the brackets at the end). If you are in interactive mode, try it in the cell below:"
   ]
  },
  {
   "cell_type": "code",
   "execution_count": null,
   "metadata": {},
   "outputs": [],
   "source": [
    "# Repeat the same as the previous cell but type only the frist few letter and use the autocompletion\n"
   ]
  },
  {
   "cell_type": "markdown",
   "metadata": {},
   "source": [
    "## 4. Loading data from a file"
   ]
  },
  {
   "cell_type": "markdown",
   "metadata": {},
   "source": [
    "More typically we load data from files using the `hs.load` function and assign the results of the `hs.load` function to a variable, for example `s`"
   ]
  },
  {
   "cell_type": "code",
   "execution_count": 7,
   "metadata": {},
   "outputs": [],
   "source": [
    "# Load the file named `005_EELS_SI_ap2_full range (dark ref corrected).dm3` by passing the filename path to the `load` function, i.e. inside the brackets:\n",
    "s = hs.load('005_EELS_SI_ap2_full range (dark ref corrected).dm3')"
   ]
  },
  {
   "cell_type": "markdown",
   "metadata": {},
   "source": [
    "The data set is a EELS spectrum image -see [Azough *et al.* Inorg. Chem. (2016) 55 (7), pp 3338]( https://pubs.acs.org/doi/10.1021/acs.inorgchem.5b02594) for details.\n",
    "\n",
    "Let's check what is inside the `s` variable:"
   ]
  },
  {
   "cell_type": "code",
   "execution_count": 8,
   "metadata": {},
   "outputs": [
    {
     "data": {
      "text/plain": [
       "<EELSSpectrum, title: 005_EELS_SI_ap2_full range (dark ref corrected), dimensions: (65, 79|1340)>"
      ]
     },
     "execution_count": 8,
     "metadata": {},
     "output_type": "execute_result"
    }
   ],
   "source": [
    "s"
   ]
  },
  {
   "cell_type": "markdown",
   "metadata": {},
   "source": [
    "HyperSpy has loaded the data into an `EELSSpectrum` object that we have stored in the `s` variable. The symbol | separates the navigation dimensions *x*, *y* and the signal dimensions, in this case *energy loss*.\n"
   ]
  },
  {
   "cell_type": "markdown",
   "metadata": {},
   "source": [
    "The metadata read from the file is stored in the ``original_metadata`` attribute."
   ]
  },
  {
   "cell_type": "code",
   "execution_count": null,
   "metadata": {},
   "outputs": [],
   "source": [
    "# Print the original metadata: \n",
    "s.original_metadata"
   ]
  },
  {
   "cell_type": "markdown",
   "metadata": {},
   "source": [
    "Part of this information is also available in the ``metadata`` attribute. HyperSpy only uses internally the information in ``metadata``."
   ]
  },
  {
   "cell_type": "code",
   "execution_count": 10,
   "metadata": {},
   "outputs": [
    {
     "data": {
      "text/plain": [
       "├── Acquisition_instrument\n",
       "│   └── TEM\n",
       "│       ├── Detector\n",
       "│       │   └── EELS\n",
       "│       │       ├── collection_angle = 37.0\n",
       "│       │       ├── dwell_time = 0.05000000074505806\n",
       "│       │       └── frame_number = 1\n",
       "│       ├── acquisition_mode = STEM\n",
       "│       ├── beam_current = 0.0\n",
       "│       ├── beam_energy = 100.0\n",
       "│       ├── camera_length = 1000.0\n",
       "│       ├── convergence_angle = 32.0\n",
       "│       ├── magnification = 1.0\n",
       "│       └── microscope = None\n",
       "├── General\n",
       "│   ├── date = 2014-06-29\n",
       "│   ├── original_filename = 005_EELS_SI_ap2_full range (dark ref corrected).dm3\n",
       "│   ├── time = 16:16:56\n",
       "│   └── title = 005_EELS_SI_ap2_full range (dark ref corrected)\n",
       "└── Signal\n",
       "    ├── Noise_properties\n",
       "    │   └── Variance_linear_model\n",
       "    │       ├── gain_factor = 1.0\n",
       "    │       └── gain_offset = 0.0\n",
       "    ├── binned = True\n",
       "    ├── quantity = Intensity (Counts)\n",
       "    └── signal_type = EELS"
      ]
     },
     "execution_count": 10,
     "metadata": {},
     "output_type": "execute_result"
    }
   ],
   "source": [
    "# Print the metadata: \n",
    "s.metadata"
   ]
  },
  {
   "cell_type": "markdown",
   "metadata": {},
   "source": [
    "The metadata can be easily modified:"
   ]
  },
  {
   "cell_type": "code",
   "execution_count": 11,
   "metadata": {},
   "outputs": [],
   "source": [
    "# Set the convergence angle to 30 in the metadata:\n",
    "s.metadata.Acquisition_instrument.TEM.convergence_angle = 30"
   ]
  },
  {
   "cell_type": "code",
   "execution_count": 12,
   "metadata": {},
   "outputs": [
    {
     "data": {
      "text/plain": [
       "├── Acquisition_instrument\n",
       "│   └── TEM\n",
       "│       ├── Detector\n",
       "│       │   └── EELS\n",
       "│       │       ├── collection_angle = 37.0\n",
       "│       │       ├── dwell_time = 0.05000000074505806\n",
       "│       │       └── frame_number = 1\n",
       "│       ├── acquisition_mode = STEM\n",
       "│       ├── beam_current = 0.0\n",
       "│       ├── beam_energy = 100.0\n",
       "│       ├── camera_length = 1000.0\n",
       "│       ├── convergence_angle = 30\n",
       "│       ├── magnification = 1.0\n",
       "│       └── microscope = None\n",
       "├── General\n",
       "│   ├── date = 2014-06-29\n",
       "│   ├── original_filename = 005_EELS_SI_ap2_full range (dark ref corrected).dm3\n",
       "│   ├── time = 16:16:56\n",
       "│   └── title = 005_EELS_SI_ap2_full range (dark ref corrected)\n",
       "└── Signal\n",
       "    ├── Noise_properties\n",
       "    │   └── Variance_linear_model\n",
       "    │       ├── gain_factor = 1.0\n",
       "    │       └── gain_offset = 0.0\n",
       "    ├── binned = True\n",
       "    ├── quantity = Intensity (Counts)\n",
       "    └── signal_type = EELS"
      ]
     },
     "execution_count": 12,
     "metadata": {},
     "output_type": "execute_result"
    }
   ],
   "source": [
    "# Print again the metadata to check the convergence agnle has been changed: \n",
    "s.metadata"
   ]
  },
  {
   "cell_type": "markdown",
   "metadata": {},
   "source": [
    "## 5. Axis properties"
   ]
  },
  {
   "cell_type": "markdown",
   "metadata": {},
   "source": [
    "The axes (*x*, *y* and *energy loss*) are stored in the `axes_manager` attribute:"
   ]
  },
  {
   "cell_type": "code",
   "execution_count": 13,
   "metadata": {},
   "outputs": [
    {
     "data": {
      "text/html": [
       "<style>\n",
       "table, th, td {\n",
       "\tborder: 1px solid black;\n",
       "\tborder-collapse: collapse;\n",
       "}\n",
       "th, td {\n",
       "\tpadding: 5px;\n",
       "}\n",
       "</style>\n",
       "<p><b>< Axes manager, axes: (65, 79|1340) ></b></p>\n",
       "<table style='width:100%'>\n",
       "\n",
       "<tr> \n",
       "<th>Navigation axis name</th> \n",
       "<th>size</th> \n",
       "<th>index</th> \n",
       "<th>offset</th> \n",
       "<th>scale</th> \n",
       "<th>units</th> </tr>\n",
       "<tr> \n",
       "<td>x</td> \n",
       "<td>65</td> \n",
       "<td>0</td> \n",
       "<td>-0.0</td> \n",
       "<td>0.04749644920229912</td> \n",
       "<td>nm</td> </tr>\n",
       "<tr> \n",
       "<td>y</td> \n",
       "<td>79</td> \n",
       "<td>0</td> \n",
       "<td>-0.0</td> \n",
       "<td>0.04749644920229912</td> \n",
       "<td>nm</td> </tr></table>\n",
       "<table style='width:100%'>\n",
       "\n",
       "<tr> \n",
       "<th>Signal axis name</th> \n",
       "<th>size</th> \n",
       "<th>offset</th> \n",
       "<th>scale</th> \n",
       "<th>units</th> </tr>\n",
       "<tr> \n",
       "<td>Energy loss</td> \n",
       "<td>1340</td> \n",
       "<td>279.9999952316284</td> \n",
       "<td>0.699999988079071</td> \n",
       "<td>eV</td> </tr></table>\n"
      ],
      "text/plain": [
       "<Axes manager, axes: (65, 79|1340)>\n",
       "            Name |   size |  index |  offset |   scale |  units \n",
       "================ | ====== | ====== | ======= | ======= | ====== \n",
       "               x |     65 |      0 |      -0 |   0.047 |     nm \n",
       "               y |     79 |      0 |      -0 |   0.047 |     nm \n",
       "---------------- | ------ | ------ | ------- | ------- | ------ \n",
       "     Energy loss |   1340 |        | 2.8e+02 |     0.7 |     eV "
      ]
     },
     "execution_count": 13,
     "metadata": {},
     "output_type": "execute_result"
    }
   ],
   "source": [
    "# Print the `axes_manager`:\n",
    "s.axes_manager"
   ]
  },
  {
   "cell_type": "markdown",
   "metadata": {},
   "source": [
    "HyperSpy distinguishes between *signal* and *navigation* axes and most functions operate on the signal axes and iterate on the navigation axes. With our current signal `s` `x` and `y` are the navigation dimensions and the `energy loss` is the signal dimension."
   ]
  },
  {
   "cell_type": "markdown",
   "metadata": {},
   "source": [
    "The `AxesManager` can be indexed:"
   ]
  },
  {
   "cell_type": "code",
   "execution_count": 14,
   "metadata": {},
   "outputs": [
    {
     "data": {
      "text/plain": [
       "<x axis, size: 65, index: 0>"
      ]
     },
     "execution_count": 14,
     "metadata": {},
     "output_type": "execute_result"
    }
   ],
   "source": [
    "# Get the first axis of the `axes_manager`:\n",
    "s.axes_manager[0]"
   ]
  },
  {
   "cell_type": "markdown",
   "metadata": {},
   "source": [
    "It is also possible to access the axes by name:"
   ]
  },
  {
   "cell_type": "code",
   "execution_count": 15,
   "metadata": {},
   "outputs": [
    {
     "data": {
      "text/plain": [
       "<Energy loss axis, size: 1340>"
      ]
     },
     "execution_count": 15,
     "metadata": {},
     "output_type": "execute_result"
    }
   ],
   "source": [
    "# Get the axis named `Energy loss` of the `axes_manager`:\n",
    "s.axes_manager['Energy loss']"
   ]
  },
  {
   "cell_type": "markdown",
   "metadata": {},
   "source": [
    "The axes have `offset`, `scale`, `units` and `name` attributes"
   ]
  },
  {
   "cell_type": "code",
   "execution_count": 16,
   "metadata": {},
   "outputs": [
    {
     "data": {
      "text/plain": [
       "0.699999988079071"
      ]
     },
     "execution_count": 16,
     "metadata": {},
     "output_type": "execute_result"
    }
   ],
   "source": [
    "# Get the scale of the energy axis:\n",
    "s.axes_manager['Energy loss'].scale"
   ]
  },
  {
   "cell_type": "code",
   "execution_count": 17,
   "metadata": {},
   "outputs": [
    {
     "data": {
      "text/plain": [
       "<Energy loss axis, size: 1340>"
      ]
     },
     "execution_count": 17,
     "metadata": {},
     "output_type": "execute_result"
    }
   ],
   "source": [
    "# Get the units of the energy axis:\n",
    "s.axes_manager['Energy loss']"
   ]
  },
  {
   "cell_type": "markdown",
   "metadata": {},
   "source": [
    "## 6. GUIs"
   ]
  },
  {
   "cell_type": "markdown",
   "metadata": {},
   "source": [
    "HyperSpy can be used with two different GUIs:\n",
    "- traitsui GUI (requires the `hyperspy_gui_traitsui` package),\n",
    "- ipywidgets GUI (requires the `hyperspy_gui_ipywidgets` package).\n",
    "\n",
    "The traitsui GUI can be used in both the `jupyter notebook` and the `jupyter qtconsole`, while the ipywidgets can only be used in the `jupyter notebook` but doesn't required `pyqt` to be installed."
   ]
  },
  {
   "cell_type": "markdown",
   "metadata": {},
   "source": [
    "For example, the properties of the different axes can be set using the GUI of the `axes_manager`."
   ]
  },
  {
   "cell_type": "code",
   "execution_count": 18,
   "metadata": {},
   "outputs": [
    {
     "data": {
      "application/vnd.jupyter.widget-view+json": {
       "model_id": "",
       "version_major": 2,
       "version_minor": 0
      },
      "text/plain": [
       "HBox(children=(Accordion(children=(VBox(children=(HBox(children=(Label(value='Name'), Text(value='x')), layout…"
      ]
     },
     "metadata": {},
     "output_type": "display_data"
    }
   ],
   "source": [
    "# Call the `gui` method of the `axes_manager`:\n",
    "s.axes_manager.gui()"
   ]
  },
  {
   "cell_type": "markdown",
   "metadata": {},
   "source": [
    "The interactive widgets appearing inside the notebook are the ipywidgets, while the dialogs poping up outside of the notebook are the traitsui GUI elements.\n",
    "Since both GUIs are equivalent, it is recommended to use one or the other and this option can be set in the GUIs tab of the HyperSpy preferences (`hs.preferences`):"
   ]
  },
  {
   "cell_type": "code",
   "execution_count": 19,
   "metadata": {},
   "outputs": [
    {
     "data": {
      "application/vnd.jupyter.widget-view+json": {
       "model_id": "",
       "version_major": 2,
       "version_minor": 0
      },
      "text/plain": [
       "VBox(children=(Tab(children=(VBox(children=(HBox(children=(Label(value='Expand structures in DictionaryTreeBro…"
      ]
     },
     "metadata": {},
     "output_type": "display_data"
    }
   ],
   "source": [
    "# Call the `gui` method of the preferences (`preferences` is an attribute of the `hs` object) to diplay the GUI:\n",
    "hs.preferences.gui()"
   ]
  },
  {
   "cell_type": "markdown",
   "metadata": {},
   "source": [
    "In case no GUIs is enabled, the preference can be set manually: "
   ]
  },
  {
   "cell_type": "code",
   "execution_count": 20,
   "metadata": {},
   "outputs": [],
   "source": [
    "hs.preferences.GUIs.enable_ipywidgets_gui = False\n",
    "hs.preferences.GUIs.enable_traitsui_gui = True"
   ]
  },
  {
   "cell_type": "markdown",
   "metadata": {},
   "source": [
    "## 7. Visualisation"
   ]
  },
  {
   "cell_type": "code",
   "execution_count": 21,
   "metadata": {},
   "outputs": [],
   "source": [
    "# Plot the signal `s` using the `plot` method:\n",
    "s.plot()"
   ]
  },
  {
   "cell_type": "markdown",
   "metadata": {},
   "source": [
    "\n",
    "\n",
    "\n",
    "\n",
    "\n",
    "\n",
    "\n",
    "\n",
    "\n",
    "\n",
    "\n",
    "\n",
    "\n",
    "\n",
    "\n",
    "\n",
    "\n",
    "\n",
    "\n",
    "\n",
    "\n",
    "\n",
    "\n",
    "\n",
    "\n",
    "\n",
    "\n",
    "\n",
    "\n",
    "\n",
    "\n",
    "\n",
    "\n",
    "\n",
    "\n",
    "\n",
    "\n",
    "\n",
    "\n",
    "\n",
    "\n",
    "\n",
    "\n",
    "\n",
    "\n",
    "\n",
    "\n",
    "\n",
    "### Moving around "
   ]
  },
  {
   "cell_type": "markdown",
   "metadata": {},
   "source": [
    "* Using the keyboard arrow keys\n",
    "* Using the pointer"
   ]
  },
  {
   "cell_type": "markdown",
   "metadata": {},
   "source": [
    "### Other shortcuts"
   ]
  },
  {
   "cell_type": "markdown",
   "metadata": {},
   "source": [
    "\n",
    "* Two pointers: enable/disable by pressing **e**\n",
    "* Adjust image contrast:  press **h**\n",
    "* Increase/decrease the pointer size: **+** and **-** keys (doesn't sum nor averaged over the navigation axes, this is only to move the pointer more easily)"
   ]
  },
  {
   "cell_type": "markdown",
   "metadata": {},
   "source": [
    "When using HyperSpy, it is common to have many open figures at a given time. The `close` [matplotlib](http://matplotlib.org) command is useful to close all the images at once, but, for that, first we have to import matplotlib:"
   ]
  },
  {
   "cell_type": "code",
   "execution_count": 22,
   "metadata": {},
   "outputs": [],
   "source": [
    "# import matplotlib\n",
    "import matplotlib.pyplot as plt\n",
    "\n",
    "# Use the `close` matplotlib function to close all figure:\n",
    "plt.close('all')"
   ]
  },
  {
   "cell_type": "markdown",
   "metadata": {},
   "source": [
    "## 8. Swaping signal and navigation axes"
   ]
  },
  {
   "cell_type": "markdown",
   "metadata": {},
   "source": [
    "We can change the way in  which Hyperspy \"sees\" the data by converting the ``EELSSpectrum`` into a ``Signal2D`` object"
   ]
  },
  {
   "cell_type": "code",
   "execution_count": 15,
   "metadata": {},
   "outputs": [],
   "source": [
    "# Use the `to_signal2D` to convert the `EELSSpectrum` to `Signal2D` and asign the returned object to `im`:\n",
    "im = s_EELS.to_signal2D()"
   ]
  },
  {
   "cell_type": "markdown",
   "metadata": {},
   "source": [
    "The ``im`` variable now contains a ``Signal2D`` object that shares the data with the ``EELSSpectrum`` object in ``s``."
   ]
  },
  {
   "cell_type": "code",
   "execution_count": 16,
   "metadata": {},
   "outputs": [
    {
     "data": {
      "text/plain": [
       "<Signal2D, title: 005_EELS_SI_ap2_full range (dark ref corrected), dimensions: (1340|65, 79)>"
      ]
     },
     "execution_count": 16,
     "metadata": {},
     "output_type": "execute_result"
    }
   ],
   "source": [
    "# Print what is `im`:\n",
    "im"
   ]
  },
  {
   "cell_type": "markdown",
   "metadata": {},
   "source": [
    "Now we can visualize the same data in the \"energy filtered\" way"
   ]
  },
  {
   "cell_type": "code",
   "execution_count": 17,
   "metadata": {},
   "outputs": [],
   "source": [
    "# Plot `im`:\n",
    "im.plot()"
   ]
  },
  {
   "cell_type": "markdown",
   "metadata": {},
   "source": [
    "Similar operation can be performed using the `tranpose()` function or `T()` its shortcut:"
   ]
  },
  {
   "cell_type": "code",
   "execution_count": 18,
   "metadata": {},
   "outputs": [
    {
     "name": "stdout",
     "output_type": "stream",
     "text": [
      "s_EELS: <EELSSpectrum, title: 005_EELS_SI_ap2_full range (dark ref corrected), dimensions: (65, 79|1340)>\n",
      "s_EELS.T: <Signal2D, title: 005_EELS_SI_ap2_full range (dark ref corrected), dimensions: (1340|65, 79)>\n"
     ]
    }
   ],
   "source": [
    "print('s_EELS:', s_EELS)\n",
    "print('s_EELS.T:', s_EELS.T)"
   ]
  },
  {
   "cell_type": "code",
   "execution_count": 19,
   "metadata": {},
   "outputs": [],
   "source": [
    "# use the `T` method to plot the `s_EELS` data in \"energy filtered\" way:\n",
    "im.T.plot()"
   ]
  },
  {
   "cell_type": "markdown",
   "metadata": {},
   "source": [
    "Using the `transpose` (or `T`) function, the dataset dimensions can be interpreted as desired: either as signal or navigation axes. See the [transposing section](http://hyperspy.readthedocs.io/en/stable/user_guide/tools.html#transposing-changing-signal-spaces) to the user guide for more information."
   ]
  },
  {
   "cell_type": "markdown",
   "metadata": {},
   "source": [
    "## 9. Saving to file\n",
    "\n",
    "A signal can saved by calling its `save` method and passing the filename as first argument. "
   ]
  },
  {
   "cell_type": "code",
   "execution_count": 20,
   "metadata": {},
   "outputs": [
    {
     "name": "stdin",
     "output_type": "stream",
     "text": [
      "Overwrite 'EELS_transposed.hspy' (y/n)?\n",
      " y\n"
     ]
    }
   ],
   "source": [
    "# Save the `im` signal:\n",
    "im.save('EELS_transposed')"
   ]
  },
  {
   "cell_type": "markdown",
   "metadata": {},
   "source": [
    "By default HyperSpy writes to the HDF5 file format with the extension `hspy`.\n",
    "\n",
    "To save to another format you must specify the extension, e.g.:"
   ]
  },
  {
   "cell_type": "code",
   "execution_count": 21,
   "metadata": {},
   "outputs": [
    {
     "name": "stdin",
     "output_type": "stream",
     "text": [
      "Overwrite 'EELS_transposed.tif' (y/n)?\n",
      " y\n"
     ]
    }
   ],
   "source": [
    "# Save the 'im' signal as tif file:\n",
    "im.save('EELS_transposed.tif')"
   ]
  },
  {
   "cell_type": "markdown",
   "metadata": {},
   "source": [
    "We can load it to verify that we do get back what we saved"
   ]
  },
  {
   "cell_type": "code",
   "execution_count": 22,
   "metadata": {},
   "outputs": [],
   "source": [
    "# Load `im`:\n",
    "im = hs.load('EELS_transposed.hspy')"
   ]
  },
  {
   "cell_type": "code",
   "execution_count": 23,
   "metadata": {},
   "outputs": [],
   "source": [
    "# Plot `im`\n",
    "im.plot()"
   ]
  },
  {
   "cell_type": "markdown",
   "metadata": {},
   "source": [
    "## 10. ROIs and interactive operations"
   ]
  },
  {
   "cell_type": "markdown",
   "metadata": {},
   "source": [
    "For a more responsive interaction with plot, we will change the matplotlib backend from the `notebook` to `qt`. To do this, the notebook needs to be restarted.\n",
    "\n",
    "**NOTE:** A \"backend\" in this context refers to the code determining the way in which the plotted data will be displayed. In the online version of this document we use the `notebook` backend that displays interactive figures inside the Jupyter Notebook. Other backends, such as `qt` or `tk`, can be used."
   ]
  },
  {
   "cell_type": "code",
   "execution_count": 1,
   "metadata": {},
   "outputs": [],
   "source": [
    "# Restart kernel and the qt instead of the notebook backend, since the responsivenes is better with qt:\n",
    "%matplotlib qt\n",
    "import hyperspy.api as hs"
   ]
  },
  {
   "cell_type": "code",
   "execution_count": 2,
   "metadata": {},
   "outputs": [],
   "source": [
    "# Reload the data\n",
    "# 005_EELS_SI_ap2_full range (dark ref corrected).hspy\n",
    "# 005_EELS_SI_15nm_HAADF_defect.dm3\n",
    "s_EELS = hs.load('005_EELS_SI_ap2_full range (dark ref corrected).dm3')\n",
    "s_HAADF = hs.load('005_EELS_SI_15nm_HAADF_defect.dm3')"
   ]
  },
  {
   "cell_type": "code",
   "execution_count": 5,
   "metadata": {},
   "outputs": [],
   "source": [
    "# Plot `s_EELS`\n",
    "s_EELS.plot()"
   ]
  },
  {
   "cell_type": "code",
   "execution_count": 6,
   "metadata": {},
   "outputs": [],
   "source": [
    "# Plot `s_HAADF`\n",
    "s_HAADF.plot()"
   ]
  },
  {
   "cell_type": "markdown",
   "metadata": {},
   "source": [
    "A number of different region of interests (ROI) are available, which are available in `hs.roi`"
   ]
  },
  {
   "cell_type": "code",
   "execution_count": 7,
   "metadata": {},
   "outputs": [
    {
     "data": {
      "text/plain": [
       "['CircleROI',\n",
       " 'Line2DROI',\n",
       " 'Point1DROI',\n",
       " 'Point2DROI',\n",
       " 'RectangularROI',\n",
       " 'SpanROI',\n",
       " '__builtins__',\n",
       " '__cached__',\n",
       " '__doc__',\n",
       " '__file__',\n",
       " '__loader__',\n",
       " '__name__',\n",
       " '__package__',\n",
       " '__spec__',\n",
       " 'hyperspy']"
      ]
     },
     "execution_count": 7,
     "metadata": {},
     "output_type": "execute_result"
    }
   ],
   "source": [
    "# List all ROIs available:\n",
    "dir(hs.roi)"
   ]
  },
  {
   "cell_type": "code",
   "execution_count": 8,
   "metadata": {},
   "outputs": [],
   "source": [
    "# Create a circular roi using `RectangularROI` and assign it to `roi_rectangle`\n",
    "# Hint: remember to use built-in documentation to know what arguments are required:\n",
    "roi_rectangle = hs.roi.RectangularROI(1.5, 1.5, 3, 3)"
   ]
  },
  {
   "cell_type": "markdown",
   "metadata": {},
   "source": [
    "This only creates the roi object and it isn't attached to any signal yet. To do so, plot the signal and use the `interactive` method of the roi object."
   ]
  },
  {
   "cell_type": "code",
   "execution_count": 9,
   "metadata": {},
   "outputs": [],
   "source": [
    "# Add the `roi_rectangle` object to the plot of `s_EELS` by calling the `interactive` method of `roi_circle`:\n",
    "s_EELS_roi = roi_rectangle.interactive(s_EELS)"
   ]
  },
  {
   "cell_type": "markdown",
   "metadata": {},
   "source": [
    "The `interactive` method returns a signal *sliced* from `s_EELS`. It is designed to perform operations, which can be automatically updated when an event is triggered. By default it recomputes the operation when data or the axes of the original signal change."
   ]
  },
  {
   "cell_type": "code",
   "execution_count": 10,
   "metadata": {},
   "outputs": [],
   "source": [
    "# Plot the signal defined by s_EELS_roi:\n",
    "s_EELS_roi.plot()"
   ]
  },
  {
   "cell_type": "markdown",
   "metadata": {},
   "source": [
    "This is slow because it is refresh the plot too many times...\n",
    "\n",
    "To speed up, we can set the argument `recompute_out_event` to `None`. The same roi can also be added to several signals. For example, we can add the roi to the HAADF signal acquired simultaneously."
   ]
  },
  {
   "cell_type": "code",
   "execution_count": 11,
   "metadata": {},
   "outputs": [],
   "source": [
    "# As previously, create a circular roi and name it `roi_circle`\n",
    "roi_circle = hs.roi.CircleROI(2, 2, 1)\n",
    "# Add the `roi_circle` object to the plot of `s_EELS` but this time set `recompute_out_event` to `None` and \n",
    "# set the color of the roi to blue by using the `color` argument\n",
    "s_EELS_roi_fast = roi_circle.interactive(s_EELS, recompute_out_event=None, color='blue')"
   ]
  },
  {
   "cell_type": "code",
   "execution_count": 12,
   "metadata": {},
   "outputs": [
    {
     "data": {
      "text/plain": [
       "<Signal2D, title: HAADF (DS), dimensions: (|674, 674)>"
      ]
     },
     "execution_count": 12,
     "metadata": {},
     "output_type": "execute_result"
    }
   ],
   "source": [
    "# Add the `roi_circle` object to the plot of `s_HAADF` by calling the `interactive` method of `roi2D`:\n",
    "# Set the color of the roi to blue by using the `color` argument \n",
    "roi_circle.interactive(s_HAADF, recompute_out_event=None, color='blue')"
   ]
  },
  {
   "cell_type": "markdown",
   "metadata": {},
   "source": [
    "This is possible to chain interactive operation: in the following, we take the sum of `s_EELS_roi` and "
   ]
  },
  {
   "cell_type": "code",
   "execution_count": 13,
   "metadata": {},
   "outputs": [],
   "source": [
    "# Use the 'hs.interactive' function to interactively compute the histogram using the `get_histogram` method of roi2D\n",
    "# and store the results in 'roi_hist':\n",
    "s_EELS_roi_sum = hs.interactive(s_EELS_roi_fast.sum, recompute_out_event=None)"
   ]
  },
  {
   "cell_type": "markdown",
   "metadata": {},
   "source": [
    "The plot of `s_EELS_roi_sum` is updated when one of the two rois is moved:"
   ]
  },
  {
   "cell_type": "code",
   "execution_count": null,
   "metadata": {},
   "outputs": [],
   "source": [
    "# plot `s_EELS_roi_sum`\n",
    "s_EELS_roi_sum.plot()"
   ]
  },
  {
   "cell_type": "markdown",
   "metadata": {},
   "source": [
    "## 11. Indexing"
   ]
  },
  {
   "cell_type": "markdown",
   "metadata": {},
   "source": [
    "HyperSpy signals can be indexed using the `isig` and `inav` attributes. Indexing is a very powerful feature. To go beyond the basic examples here have a look at the [User Guide](http://hyperspy.org/hyperspy-doc/current/user_guide/tools.html#indexing)."
   ]
  },
  {
   "cell_type": "markdown",
   "metadata": {},
   "source": [
    "Firstly we'll load an RGB image"
   ]
  },
  {
   "cell_type": "code",
   "execution_count": 24,
   "metadata": {},
   "outputs": [],
   "source": [
    "# Load the astronaut.hspy file and store it in `im`;\n",
    "im = hs.load(\"astronaut.hspy\")"
   ]
  },
  {
   "cell_type": "markdown",
   "metadata": {},
   "source": [
    "Notice that the navigation dimension is 3 because there is one axis per colour channel."
   ]
  },
  {
   "cell_type": "code",
   "execution_count": 25,
   "metadata": {
    "scrolled": false
   },
   "outputs": [
    {
     "data": {
      "text/plain": [
       "<Signal2D, title: , dimensions: (3|512, 512)>"
      ]
     },
     "execution_count": 25,
     "metadata": {},
     "output_type": "execute_result"
    }
   ],
   "source": [
    "# Print what is `im` to know what is the dimension of navigation and signal axis:\n",
    "im"
   ]
  },
  {
   "cell_type": "code",
   "execution_count": 26,
   "metadata": {},
   "outputs": [],
   "source": [
    "# Plot `im`:\n",
    "im.plot()"
   ]
  },
  {
   "cell_type": "markdown",
   "metadata": {},
   "source": [
    "Let's plot the three channels:\n",
    "\n",
    "Note here that we can use the convenience function `hs.plot.plot_images` instead of the `plot` method of the `im` object."
   ]
  },
  {
   "cell_type": "code",
   "execution_count": 27,
   "metadata": {},
   "outputs": [
    {
     "data": {
      "text/plain": [
       "[<matplotlib.axes._subplots.AxesSubplot at 0x7f5e7e7b10b8>,\n",
       " <matplotlib.axes._subplots.AxesSubplot at 0x7f5e7f550208>,\n",
       " <matplotlib.axes._subplots.AxesSubplot at 0x7f5e7f61bf98>]"
      ]
     },
     "execution_count": 27,
     "metadata": {},
     "output_type": "execute_result"
    }
   ],
   "source": [
    "# Plot the three channel side by side using the `plot_images`:\n",
    "hs.plot.plot_images(im, axes_decor=\"off\", colorbar=False, label=[\"R\", \"G\", \"B\"])"
   ]
  },
  {
   "cell_type": "markdown",
   "metadata": {},
   "source": [
    "We can index the navigation axes using `inav`. For example, to obtain just the image in the first channel (R):"
   ]
  },
  {
   "cell_type": "code",
   "execution_count": 28,
   "metadata": {},
   "outputs": [],
   "source": [
    "# Use the `inav` method to plot only the first channel:\n",
    "im.inav[0].plot()"
   ]
  },
  {
   "cell_type": "markdown",
   "metadata": {},
   "source": [
    "A range of incides can be obtained using the `:` between the first and the last indices wanted. If the first or the last index isn't provide, hyperspy will consider the first or the last, respectively"
   ]
  },
  {
   "cell_type": "code",
   "execution_count": 29,
   "metadata": {},
   "outputs": [
    {
     "data": {
      "text/plain": [
       "[<matplotlib.axes._subplots.AxesSubplot at 0x7f5e7f4eca58>,\n",
       " <matplotlib.axes._subplots.AxesSubplot at 0x7f5e7caa09b0>]"
      ]
     },
     "execution_count": 29,
     "metadata": {},
     "output_type": "execute_result"
    }
   ],
   "source": [
    "# Use the `plot_images` function to plot the two last channels in the same figure:\n",
    "hs.plot.plot_images(im.inav[1:3])"
   ]
  },
  {
   "cell_type": "markdown",
   "metadata": {},
   "source": [
    "Negative indices are interpreted as counting from the end, so the following is an alternative syntax to obtain the last two channels:"
   ]
  },
  {
   "cell_type": "code",
   "execution_count": 30,
   "metadata": {},
   "outputs": [
    {
     "data": {
      "text/plain": [
       "[<matplotlib.axes._subplots.AxesSubplot at 0x7f5e7c928438>,\n",
       " <matplotlib.axes._subplots.AxesSubplot at 0x7f5e7f5e9940>]"
      ]
     },
     "execution_count": 30,
     "metadata": {},
     "output_type": "execute_result"
    }
   ],
   "source": [
    "# Use negative indices indexing to plot the two last channels:\n",
    "hs.plot.plot_images(im.inav[-2:])"
   ]
  },
  {
   "cell_type": "markdown",
   "metadata": {},
   "source": [
    "Equivalently, we can use `isig` to index the signal axes"
   ]
  },
  {
   "cell_type": "code",
   "execution_count": 31,
   "metadata": {},
   "outputs": [],
   "source": [
    "# Plot a small portion of the image (for example 128 to -128 and 0 to -256):\n",
    "im.isig[128:-128, 0:-256].plot()"
   ]
  },
  {
   "cell_type": "markdown",
   "metadata": {},
   "source": [
    "Like most other methods, `isig` and `inav` can be chained e.g.:"
   ]
  },
  {
   "cell_type": "code",
   "execution_count": 32,
   "metadata": {},
   "outputs": [],
   "source": [
    "# Do the same as above with the first navigation index only:\n",
    "im.inav[0].isig[128:-128, 0:-256].plot()"
   ]
  },
  {
   "cell_type": "markdown",
   "metadata": {},
   "source": [
    "The image is calibrated in centimetres and the centre of the coordinates is located between the astronaut eyes:"
   ]
  },
  {
   "cell_type": "code",
   "execution_count": 33,
   "metadata": {},
   "outputs": [],
   "source": [
    "im.plot(axes_ticks=True)\n",
    "im.add_marker(hs.plot.markers.point(0, 0)) # Add a \"point\" marker at the position (0, 0)"
   ]
  },
  {
   "cell_type": "markdown",
   "metadata": {},
   "source": [
    "HyperSpy signals allow indexing using float numbers to index using the axes calibration instead of data index. For example:"
   ]
  },
  {
   "cell_type": "code",
   "execution_count": 34,
   "metadata": {},
   "outputs": [],
   "source": [
    "# Use float indexing to plot a small portion of the image (for example, -5 to -5 and -2 to 2):\n",
    "im.isig[-5.0:5.0,-2.0:2.0].plot()"
   ]
  },
  {
   "cell_type": "markdown",
   "metadata": {},
   "source": [
    "## 12. Process with external function"
   ]
  },
  {
   "cell_type": "markdown",
   "metadata": {},
   "source": [
    "The HyperSpy signals contain a number of methods that operate on their data. However, we often need to operate on the data using external functions. HyperSpy provides the `map` method to make it easy to apply external functions to multi-dimensional datasets."
   ]
  },
  {
   "cell_type": "markdown",
   "metadata": {},
   "source": [
    "We will use the previous RGB image to show how to apply the `rotate` function from `scipy.ndimage` to an RGB image. Lets import `rotate` and load the image:"
   ]
  },
  {
   "cell_type": "code",
   "execution_count": 35,
   "metadata": {},
   "outputs": [
    {
     "data": {
      "text/plain": [
       "<Signal2D, title: , dimensions: (3|512, 512)>"
      ]
     },
     "execution_count": 35,
     "metadata": {},
     "output_type": "execute_result"
    }
   ],
   "source": [
    "from scipy.ndimage import rotate\n",
    "im = hs.load(\"astronaut.hspy\")\n",
    "im"
   ]
  },
  {
   "cell_type": "markdown",
   "metadata": {},
   "source": [
    "Same as above, this image navigation size is 3 because the navigation axis corresponds to the 3 color channels, R, G and B.\n",
    "\n",
    "`rotate` can operate on multidimensional images, but the rotation angle must be the same for all images. With HyperSpy we can easily specify the rotation angle for each image by creating a signal of the same navigation dimensions as `im` containing the rotation angle:"
   ]
  },
  {
   "cell_type": "code",
   "execution_count": 36,
   "metadata": {},
   "outputs": [
    {
     "data": {
      "text/plain": [
       "<BaseSignal, title: , dimensions: (|3)>"
      ]
     },
     "execution_count": 36,
     "metadata": {},
     "output_type": "execute_result"
    }
   ],
   "source": [
    "angles = hs.signals.BaseSignal([-15, 0, 15])\n",
    "angles"
   ]
  },
  {
   "cell_type": "markdown",
   "metadata": {},
   "source": [
    "`angles` has the right size, but we need to swap the signal and navigation axes. We can do this using `transpose`:"
   ]
  },
  {
   "cell_type": "code",
   "execution_count": 37,
   "metadata": {},
   "outputs": [
    {
     "data": {
      "text/plain": [
       "<BaseSignal, title: , dimensions: (3|)>"
      ]
     },
     "execution_count": 37,
     "metadata": {},
     "output_type": "execute_result"
    }
   ],
   "source": [
    "# Tranpose the data:\n",
    "angles.transpose()"
   ]
  },
  {
   "cell_type": "markdown",
   "metadata": {},
   "source": [
    "When no arguments are passed to transpose (as in this case) we can use the `T` shortcut instead:"
   ]
  },
  {
   "cell_type": "code",
   "execution_count": 38,
   "metadata": {},
   "outputs": [
    {
     "data": {
      "text/plain": [
       "<BaseSignal, title: , dimensions: (3|)>"
      ]
     },
     "execution_count": 38,
     "metadata": {},
     "output_type": "execute_result"
    }
   ],
   "source": [
    "# Same as above using the `T` shortcut:\n",
    "angles.T"
   ]
  },
  {
   "cell_type": "markdown",
   "metadata": {},
   "source": [
    "The following uses the `map` method to rotate each color channel by a different angle using SciPy's `rotate` function:"
   ]
  },
  {
   "cell_type": "code",
   "execution_count": 39,
   "metadata": {},
   "outputs": [
    {
     "data": {
      "application/vnd.jupyter.widget-view+json": {
       "model_id": "",
       "version_major": 2,
       "version_minor": 0
      },
      "text/plain": [
       "HBox(children=(IntProgress(value=0, max=3), HTML(value='')))"
      ]
     },
     "metadata": {},
     "output_type": "display_data"
    },
    {
     "name": "stdout",
     "output_type": "stream",
     "text": [
      "\n"
     ]
    }
   ],
   "source": [
    "# Use the `map` method to rotate the each channels using angles:\n",
    "# Hint: check the documentation of the `rotate` function to check what parameters need to be pass to `map`. \n",
    "im.map(rotate,\n",
    "       angle=angles.T,\n",
    "       reshape=False,)"
   ]
  },
  {
   "cell_type": "code",
   "execution_count": 40,
   "metadata": {},
   "outputs": [
    {
     "name": "stderr",
     "output_type": "stream",
     "text": [
      "WARNING:hyperspy.drawing.utils:vmin have to be a scalar to be compatible with a single colorbar\n",
      "WARNING:hyperspy.drawing.utils:vmax have to be a scalar to be compatible with a single colorbar\n"
     ]
    },
    {
     "data": {
      "text/plain": [
       "[<matplotlib.axes._subplots.AxesSubplot at 0x7f5e7cadf550>,\n",
       " <matplotlib.axes._subplots.AxesSubplot at 0x7f5e7c07beb8>,\n",
       " <matplotlib.axes._subplots.AxesSubplot at 0x7f5e7c029f98>]"
      ]
     },
     "execution_count": 40,
     "metadata": {},
     "output_type": "execute_result"
    }
   ],
   "source": [
    "# Plot `im`:\n",
    "hs.plot.plot_images(im, label=[\"R\", \"G\", \"B\"], axes_decor=\"off\", colorbar=\"single\")"
   ]
  },
  {
   "cell_type": "code",
   "execution_count": 41,
   "metadata": {},
   "outputs": [],
   "source": [
    "# Convert `im` to a signal1D and store the results to `im_rgb`:\n",
    "# Hint: find the corresponding function by inspecting the method of `im`.\n",
    "im_rgb = im.to_signal1D()\n",
    "im_rgb.change_dtype(\"rgb8\")\n",
    "im_rgb.plot()"
   ]
  },
  {
   "cell_type": "markdown",
   "metadata": {},
   "source": [
    "To display the result in colour we need to change the data type to `rgb8`:"
   ]
  },
  {
   "cell_type": "markdown",
   "metadata": {},
   "source": [
    "Notice that now there are no navigation axes:"
   ]
  },
  {
   "cell_type": "code",
   "execution_count": 42,
   "metadata": {},
   "outputs": [
    {
     "data": {
      "text/plain": [
       "<Signal2D, title: , dimensions: (|512, 512)>"
      ]
     },
     "execution_count": 42,
     "metadata": {},
     "output_type": "execute_result"
    }
   ],
   "source": [
    "# Check the shape of `im` converted to rgb\n",
    "im_rgb"
   ]
  },
  {
   "cell_type": "markdown",
   "metadata": {},
   "source": [
    "## Appendix"
   ]
  },
  {
   "cell_type": "markdown",
   "metadata": {},
   "source": [
    "### Create astronaut file for indexing example"
   ]
  },
  {
   "cell_type": "code",
   "execution_count": null,
   "metadata": {},
   "outputs": [],
   "source": [
    "import hyperspy.api as hs\n",
    "from skimage.data import astronaut\n",
    "s = hs.signals.Signal1D(astronaut())\n",
    "\n",
    "# Calibrate the image\n",
    "s.axes_manager[0].name = \"width\"\n",
    "s.axes_manager[0].scale = 0.13\n",
    "s.axes_manager[0].offset = -29.2\n",
    "s.axes_manager[0].units = \"cm\"\n",
    "\n",
    "s.axes_manager[1].name = \"height\"\n",
    "s.axes_manager[1].scale = 0.13\n",
    "s.axes_manager[1].offset = -12.9\n",
    "s.axes_manager[1].units = \"cm\"\n",
    "\n",
    "s.axes_manager[2].name = \"RGB\"\n",
    "s.to_signal2D().save(\"astronaut.hspy\")"
   ]
  }
 ],
 "metadata": {
  "kernelspec": {
   "display_name": "Python 3",
   "language": "python",
   "name": "python3"
  },
  "language_info": {
   "codemirror_mode": {
    "name": "ipython",
    "version": 3
   },
   "file_extension": ".py",
   "mimetype": "text/x-python",
   "name": "python",
   "nbconvert_exporter": "python",
   "pygments_lexer": "ipython3",
   "version": "3.7.2"
  }
 },
 "nbformat": 4,
 "nbformat_minor": 2
}
