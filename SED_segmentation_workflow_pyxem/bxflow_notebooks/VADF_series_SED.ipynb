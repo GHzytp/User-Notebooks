{
 "cells": [
  {
   "cell_type": "markdown",
   "id": "3c371630",
   "metadata": {},
   "source": [
    "## This notebook does the follwoing:\n",
    "- loads an SED dataset (lazily)\n",
    "- User defines diffraction calibration, min angle / max angle / virtual detector width \n",
    "- We generate a series of virtual ADF images (summing in diff plane over ranges defined by above params)\n",
    "- Saves the images in a sub-dir VDF_images to the path where the data is located"
   ]
  },
  {
   "cell_type": "markdown",
   "id": "a362fc10",
   "metadata": {},
   "source": [
    "```yaml\n",
    "global_min_angle: \n",
    "    value: '50'\n",
    "global_max_angle: \n",
    "    value: '200'\n",
    "global_detector_width:\n",
    "    value: '10'\n",
    "global_estimated_probe_radius_px:\n",
    "    value: '8'\n",
    "cal_json_path:\n",
    "    value: '/dls/e02/data/2022/mg31953-1/processing/Merlin/Au_grating/calibrations_diff_CL_0.4.json'\n",
    "```"
   ]
  },
  {
   "cell_type": "code",
   "execution_count": null,
   "id": "975114bd",
   "metadata": {
    "execution": {
     "iopub.execute_input": "2022-12-11T14:32:41.818011Z",
     "iopub.status.busy": "2022-12-11T14:32:41.817053Z",
     "iopub.status.idle": "2022-12-11T14:32:41.831789Z",
     "shell.execute_reply": "2022-12-11T14:32:41.830646Z"
    }
   },
   "outputs": [],
   "source": [
    "# # dataset name\n",
    "# data_label = 'Winchcombe_site9/20221205_172448'\n",
    "# # notebook name\n",
    "# notebook = 'VADF_series'\n",
    "# global_min_angle = '50'\n",
    "# global_max_angle = '200'\n",
    "# global_detector_width = '10'\n",
    "# global_estimated_probe_radius_px = '8'\n",
    "# cal_json_path = '/dls/e02/data/2022/mg31953-1/processing/Merlin/Au_grating/calibrations_diff_CL_0.4.json'\n",
    "\n",
    "# BEAMLINE = 'e02'\n",
    "# YEAR = '2022'\n",
    "# VISIT = 'mg31953-1'"
   ]
  },
  {
   "cell_type": "code",
   "execution_count": null,
   "id": "dc43b0c6",
   "metadata": {
    "execution": {
     "iopub.execute_input": "2022-12-11T14:32:41.835757Z",
     "iopub.status.busy": "2022-12-11T14:32:41.835569Z",
     "iopub.status.idle": "2022-12-11T14:32:58.827008Z",
     "shell.execute_reply": "2022-12-11T14:32:58.825512Z"
    }
   },
   "outputs": [],
   "source": [
    "%%capture --no-display\n",
    "%matplotlib notebook\n",
    "import numpy as np\n",
    "import h5py\n",
    "import json\n",
    "import matplotlib.pyplot as plt\n",
    "import hyperspy.api as hs\n",
    "import os\n",
    "import pyxem as pxm\n",
    "import logging\n",
    "import py4DSTEM \n"
   ]
  },
  {
   "cell_type": "code",
   "execution_count": null,
   "id": "9eb47925",
   "metadata": {
    "execution": {
     "iopub.execute_input": "2022-12-11T14:32:58.843370Z",
     "iopub.status.busy": "2022-12-11T14:32:58.842976Z",
     "iopub.status.idle": "2022-12-11T14:32:58.853532Z",
     "shell.execute_reply": "2022-12-11T14:32:58.852720Z"
    }
   },
   "outputs": [],
   "source": [
    "path = f'/dls/{BEAMLINE}/data/{YEAR}/{VISIT}/processing/Merlin/'\n",
    "timestamp = data_label.split('/')[-1]\n",
    "ibf_path = f'{path}/{data_label}/{timestamp}_ibf.hspy'\n",
    "meta_path = f'{path}/{data_label}/{timestamp}.hdf'\n",
    "full_path = f'{path}/{data_label}/{timestamp}_data.hdf5'\n",
    "cal_data_path = f'{path}/{data_label}/{timestamp}_calibrated_data.hspy'\n",
    "\n",
    "with open(os.path.join(cal_json_path)) as json_file:\n",
    "    cals = json.load(json_file)\n",
    "recip_pix = cals['reciprocal_space_pix(1/A)']\n",
    "print(recip_pix)\n"
   ]
  },
  {
   "cell_type": "code",
   "execution_count": null,
   "id": "d6b23026",
   "metadata": {
    "execution": {
     "iopub.execute_input": "2022-12-11T14:32:58.857186Z",
     "iopub.status.busy": "2022-12-11T14:32:58.856860Z",
     "iopub.status.idle": "2022-12-11T14:32:58.986724Z",
     "shell.execute_reply": "2022-12-11T14:32:58.985728Z"
    }
   },
   "outputs": [],
   "source": [
    "d = hs.load(cal_data_path, lazy=True)\n",
    "print(d)"
   ]
  },
  {
   "cell_type": "code",
   "execution_count": null,
   "id": "2b8a8cce",
   "metadata": {
    "execution": {
     "iopub.execute_input": "2022-12-11T14:32:58.991446Z",
     "iopub.status.busy": "2022-12-11T14:32:58.991149Z",
     "iopub.status.idle": "2022-12-11T14:32:58.995171Z",
     "shell.execute_reply": "2022-12-11T14:32:58.994101Z"
    }
   },
   "outputs": [],
   "source": [
    "min_ang = int(global_min_angle) # in pix\n",
    "max_ang = int(global_max_angle) # in pix\n",
    "detector_width = int(global_detector_width) # in pix"
   ]
  },
  {
   "cell_type": "code",
   "execution_count": null,
   "id": "00ddcb9c",
   "metadata": {
    "execution": {
     "iopub.execute_input": "2022-12-11T14:32:58.999283Z",
     "iopub.status.busy": "2022-12-11T14:32:58.999002Z",
     "iopub.status.idle": "2022-12-11T14:32:59.005307Z",
     "shell.execute_reply": "2022-12-11T14:32:59.004309Z"
    }
   },
   "outputs": [],
   "source": [
    "d.axes_manager"
   ]
  },
  {
   "cell_type": "code",
   "execution_count": null,
   "id": "78e9c34e",
   "metadata": {
    "execution": {
     "iopub.execute_input": "2022-12-11T14:32:59.015316Z",
     "iopub.status.busy": "2022-12-11T14:32:59.015052Z",
     "iopub.status.idle": "2022-12-11T14:32:59.401610Z",
     "shell.execute_reply": "2022-12-11T14:32:59.400841Z"
    }
   },
   "outputs": [],
   "source": [
    "d_mean = d.mean()"
   ]
  },
  {
   "cell_type": "code",
   "execution_count": null,
   "id": "61b58306",
   "metadata": {
    "execution": {
     "iopub.execute_input": "2022-12-11T14:32:59.406443Z",
     "iopub.status.busy": "2022-12-11T14:32:59.405982Z",
     "iopub.status.idle": "2022-12-11T14:34:52.092635Z",
     "shell.execute_reply": "2022-12-11T14:34:52.090640Z"
    }
   },
   "outputs": [],
   "source": [
    "d_mean.compute()"
   ]
  },
  {
   "cell_type": "code",
   "execution_count": null,
   "id": "80322c8e",
   "metadata": {
    "execution": {
     "iopub.execute_input": "2022-12-11T14:34:52.098880Z",
     "iopub.status.busy": "2022-12-11T14:34:52.098627Z",
     "iopub.status.idle": "2022-12-11T14:34:52.103968Z",
     "shell.execute_reply": "2022-12-11T14:34:52.103248Z"
    }
   },
   "outputs": [],
   "source": [
    "step_num = int((max_ang - min_ang) / detector_width)\n",
    "print(step_num)"
   ]
  },
  {
   "cell_type": "code",
   "execution_count": null,
   "id": "433cf786",
   "metadata": {
    "execution": {
     "iopub.execute_input": "2022-12-11T14:34:52.109427Z",
     "iopub.status.busy": "2022-12-11T14:34:52.109252Z",
     "iopub.status.idle": "2022-12-11T14:34:52.114173Z",
     "shell.execute_reply": "2022-12-11T14:34:52.113536Z"
    }
   },
   "outputs": [],
   "source": [
    "data_path = f'/dls/{BEAMLINE}/data/{YEAR}/{VISIT}/processing/Merlin/{data_label}'\n",
    "data_path"
   ]
  },
  {
   "cell_type": "code",
   "execution_count": null,
   "id": "3bf5b119",
   "metadata": {
    "execution": {
     "iopub.execute_input": "2022-12-11T14:34:52.117231Z",
     "iopub.status.busy": "2022-12-11T14:34:52.117061Z",
     "iopub.status.idle": "2022-12-11T14:34:52.123172Z",
     "shell.execute_reply": "2022-12-11T14:34:52.122510Z"
    }
   },
   "outputs": [],
   "source": [
    "save_dir = os.path.join(data_path, 'VADF_series_images')\n",
    "\n",
    "if not os.path.exists(save_dir):\n",
    "    os.makedirs(save_dir)"
   ]
  },
  {
   "cell_type": "code",
   "execution_count": null,
   "id": "ef493a63",
   "metadata": {
    "execution": {
     "iopub.execute_input": "2022-12-11T14:34:52.125621Z",
     "iopub.status.busy": "2022-12-11T14:34:52.125439Z",
     "iopub.status.idle": "2022-12-11T15:33:18.548783Z",
     "shell.execute_reply": "2022-12-11T15:33:18.547996Z"
    },
    "scrolled": false
   },
   "outputs": [],
   "source": [
    "import gc\n",
    "d_mean.plot(vmax=0.1, norm='log')\n",
    "d_T = d.T\n",
    "# intensities = []\n",
    "adf_images = []\n",
    "index_key = []\n",
    "\n",
    "\n",
    "class ADF_image(hs.signals.Signal2D):\n",
    "    def det_position(self, det):\n",
    "        self.det_position = list((det.r, det.r_inner))\n",
    "#     def bragg_vector_len(self, ap):\n",
    "#         self.bragg_vector_len = np.sqrt(ap.cx ** 2 + ap.cy ** 2)\n",
    "    def sum_intensity(self):\n",
    "        self.sum_intensity = np.sum(self.data)\n",
    "    def label(self):\n",
    "        self.label = None\n",
    "        \n",
    "    \n",
    "for i, index in enumerate(range(step_num)):\n",
    "    adf_det = hs.roi.CircleROI(cx=0.0, cy=0.0, \n",
    "                           r=(min_ang + (i + 1) *detector_width) * recip_pix, \n",
    "                           r_inner=(min_ang + i * detector_width) * recip_pix)\n",
    "    adf_sig = adf_det.interactive(d_T, navigation_signal=d_mean)\n",
    "    adf_sig = adf_sig.data.astype('uint16')\n",
    "    adf_sig[np.isnan(adf_sig)] = 0\n",
    "    adf_sig = hs.signals.Signal2D(adf_sig).as_lazy()\n",
    "\n",
    "    adf_sig.compute()\n",
    "    adf_im = adf_sig.sum()\n",
    "#     intensities.append(int(np.sum(adf_im.data)))\n",
    "    adf_ = ADF_image(adf_im)\n",
    "    adf_.det_position(adf_det)\n",
    "    adf_.label = str(index)\n",
    "    adf_images.append(adf_)\n",
    "    \n",
    "    \n",
    "    adf_im = 255 * adf_im.data / np.max(adf_im.data)\n",
    "    adf_im = hs.signals.Signal2D(adf_im)\n",
    "    adf_im.save(f'{save_dir}/vadf_{i}_{(min_ang + i * detector_width)}_to_{(min_ang + (i + 1) *detector_width)}_px.jpg')\n",
    "    adf_.save(f'{save_dir}/vadf_{i}_{(min_ang + i * detector_width)}_to_{(min_ang + (i + 1) *detector_width)}_px.hspy')\n",
    "    \n",
    "    del(adf_sig)\n",
    "    del(adf_im)\n",
    "    gc.collect()\n",
    "\n",
    "plt.savefig(os.path.join(os.getcwd(), 'mean_diff_pattern_VADF_detectors.png'))"
   ]
  },
  {
   "cell_type": "code",
   "execution_count": null,
   "id": "8044949c",
   "metadata": {},
   "outputs": [],
   "source": [
    "reshaped_adf = [x.data.flatten() for x in adf_images]\n",
    "len(reshaped_adf)"
   ]
  },
  {
   "cell_type": "code",
   "execution_count": null,
   "id": "5105bb38",
   "metadata": {},
   "outputs": [],
   "source": [
    "data_array = np.zeros((len(adf_images), reshaped_adf[0].shape[0]))\n",
    "for i in range(data_array.shape[0]):\n",
    "    for j in range(data_array.shape[1]):\n",
    "        data_array[i,j]= reshaped_adf[i][j]"
   ]
  },
  {
   "cell_type": "code",
   "execution_count": null,
   "id": "29375a5b",
   "metadata": {},
   "outputs": [],
   "source": [
    "max_index = np.zeros((reshaped_adf[0].shape[0],))\n",
    "for i in range(reshaped_adf[0].shape[0]):\n",
    "#     max_index[i] = np.argmax(data_array, axis=0)[0]  \n",
    "    max_index[i] = np.argmax(data_array[:,i]) "
   ]
  },
  {
   "cell_type": "code",
   "execution_count": null,
   "id": "df6634cd",
   "metadata": {},
   "outputs": [],
   "source": [
    "segment = max_index.reshape((d.axes_manager[0].size,d.axes_manager[1].size))\n",
    "plt.figure()\n",
    "plt.imshow(segment, cmap = 'turbo_r')\n",
    "plt.colorbar()\n",
    "plt.savefig(os.path.join(os.getcwd(), 'segmentation_based_on_max_ADF_signal.png'))"
   ]
  },
  {
   "cell_type": "code",
   "execution_count": null,
   "id": "fdb570eb",
   "metadata": {},
   "outputs": [],
   "source": [
    "segment = hs.signals.Signal2D(segment)\n",
    "segment.save(os.path.join(os.getcwd(), 'segmentation_based_on_max_ADF_signal.hspy'))"
   ]
  }
 ],
 "metadata": {
  "kernelspec": {
   "display_name": "Python 3.10 - EPSIC [DLS Conda]",
   "language": "python",
   "name": "conda-env-DLS_Conda-epsic3.10-kernel.json"
  },
  "language_info": {
   "codemirror_mode": {
    "name": "ipython",
    "version": 3
   },
   "file_extension": ".py",
   "mimetype": "text/x-python",
   "name": "python",
   "nbconvert_exporter": "python",
   "pygments_lexer": "ipython3",
   "version": "3.10.5"
  },
  "widgets": {
   "application/vnd.jupyter.widget-state+json": {
    "state": {
     "74d6566ca2494a838b60c9a7dbda7aa8": {
      "model_module": "@jupyter-widgets/base",
      "model_module_version": "1.2.0",
      "model_name": "LayoutModel",
      "state": {
       "_model_module": "@jupyter-widgets/base",
       "_model_module_version": "1.2.0",
       "_model_name": "LayoutModel",
       "_view_count": null,
       "_view_module": "@jupyter-widgets/base",
       "_view_module_version": "1.2.0",
       "_view_name": "LayoutView",
       "align_content": null,
       "align_items": null,
       "align_self": null,
       "border": null,
       "bottom": null,
       "display": null,
       "flex": null,
       "flex_flow": null,
       "grid_area": null,
       "grid_auto_columns": null,
       "grid_auto_flow": null,
       "grid_auto_rows": null,
       "grid_column": null,
       "grid_gap": null,
       "grid_row": null,
       "grid_template_areas": null,
       "grid_template_columns": null,
       "grid_template_rows": null,
       "height": null,
       "justify_content": null,
       "justify_items": null,
       "left": null,
       "margin": null,
       "max_height": null,
       "max_width": null,
       "min_height": null,
       "min_width": null,
       "object_fit": null,
       "object_position": null,
       "order": null,
       "overflow": null,
       "overflow_x": null,
       "overflow_y": null,
       "padding": null,
       "right": null,
       "top": null,
       "visibility": null,
       "width": "500px"
      }
     }
    },
    "version_major": 2,
    "version_minor": 0
   }
  }
 },
 "nbformat": 4,
 "nbformat_minor": 5
}
