{
 "cells": [
  {
   "cell_type": "markdown",
   "id": "35e293f1",
   "metadata": {},
   "source": [
    "# This notebook does the follwoing:\n",
    "\n",
    "- loads an SED dataset \n",
    "\n",
    "- Get sum diffraction pattern signal over an ROI\n",
    "\n",
    "- Create VDF images \n",
    "\n",
    "- Created arbitrary masks to apply to data\n"
   ]
  },
  {
   "cell_type": "markdown",
   "id": "6238b2ca",
   "metadata": {},
   "source": [
    "## Loading the data"
   ]
  },
  {
   "cell_type": "code",
   "execution_count": null,
   "id": "6534b613",
   "metadata": {},
   "outputs": [],
   "source": [
    "%matplotlib notebook\n",
    "import hyperspy.api as hs\n",
    "import pyxem as pxm\n",
    "import numpy as np"
   ]
  },
  {
   "cell_type": "code",
   "execution_count": null,
   "id": "facfbd24",
   "metadata": {},
   "outputs": [],
   "source": [
    "d = hs.load('/dls/e02/data/2023/mg31973-1/processing/Merlin/pct50_FIB/20230125_103432/20230125_103432_data.hdf5')\n",
    "# d = hs.load('/dls/e02/data/2022/mg33722-1/processing/Merlin/AK49/20221121_135635/20221121_135635_calibrated_data.hspy')"
   ]
  },
  {
   "cell_type": "code",
   "execution_count": null,
   "id": "908345ae",
   "metadata": {},
   "outputs": [],
   "source": [
    "d"
   ]
  },
  {
   "cell_type": "code",
   "execution_count": null,
   "id": "418ed3fa",
   "metadata": {},
   "outputs": [],
   "source": [
    "d.plot(vmax = 5, cmap = 'inferno')"
   ]
  },
  {
   "cell_type": "markdown",
   "id": "99cdd5be",
   "metadata": {},
   "source": [
    "# Sum over a region"
   ]
  },
  {
   "cell_type": "code",
   "execution_count": null,
   "id": "ac3bde21",
   "metadata": {},
   "outputs": [],
   "source": [
    "# d.axes_manager[0].offset = 0\n",
    "# d.axes_manager[1].offset = 0\n",
    "d.axes_manager"
   ]
  },
  {
   "cell_type": "code",
   "execution_count": null,
   "id": "9ad771c8",
   "metadata": {},
   "outputs": [],
   "source": [
    "rect_roi = hs.roi.RectangularROI(5,20, 50,70)"
   ]
  },
  {
   "cell_type": "code",
   "execution_count": null,
   "id": "a0c1fcd0",
   "metadata": {},
   "outputs": [],
   "source": [
    "d_sum = rect_roi.interactive(d)"
   ]
  },
  {
   "cell_type": "code",
   "execution_count": null,
   "id": "37c6f03d",
   "metadata": {},
   "outputs": [],
   "source": [
    "rect_roi"
   ]
  },
  {
   "cell_type": "code",
   "execution_count": null,
   "id": "ddeeadbf",
   "metadata": {},
   "outputs": [],
   "source": [
    "d_sum"
   ]
  },
  {
   "cell_type": "code",
   "execution_count": null,
   "id": "24e8159a",
   "metadata": {},
   "outputs": [],
   "source": [
    "d_sum.sum().plot(vmax = 100, cmap = 'inferno')"
   ]
  },
  {
   "cell_type": "markdown",
   "id": "6cc22d35",
   "metadata": {},
   "source": [
    "# To make ADF images"
   ]
  },
  {
   "cell_type": "code",
   "execution_count": null,
   "id": "2e5e14c9",
   "metadata": {},
   "outputs": [],
   "source": [
    "d_T = d.T"
   ]
  },
  {
   "cell_type": "code",
   "execution_count": null,
   "id": "5322eafc",
   "metadata": {},
   "outputs": [],
   "source": [
    "d_T"
   ]
  },
  {
   "cell_type": "code",
   "execution_count": null,
   "id": "67ad06ff",
   "metadata": {},
   "outputs": [],
   "source": [
    "d_T.plot()"
   ]
  },
  {
   "cell_type": "code",
   "execution_count": null,
   "id": "6cc73e47",
   "metadata": {},
   "outputs": [],
   "source": [
    "circ_roi = hs.roi.CircleROI(286,334, 10, r_inner = 0)"
   ]
  },
  {
   "cell_type": "code",
   "execution_count": null,
   "id": "19ad77b7",
   "metadata": {},
   "outputs": [],
   "source": [
    "v_adf = circ_roi.interactive(d_T)"
   ]
  },
  {
   "cell_type": "code",
   "execution_count": null,
   "id": "9c65ff68",
   "metadata": {},
   "outputs": [],
   "source": [
    "v_adf"
   ]
  },
  {
   "cell_type": "code",
   "execution_count": null,
   "id": "e7c37b8b",
   "metadata": {},
   "outputs": [],
   "source": [
    "v_adf.plot()"
   ]
  },
  {
   "cell_type": "code",
   "execution_count": null,
   "id": "8fe71b28",
   "metadata": {},
   "outputs": [],
   "source": [
    "v_adf_test = np.nan_to_num(v_adf.data)"
   ]
  },
  {
   "cell_type": "code",
   "execution_count": null,
   "id": "7e14b3ee",
   "metadata": {},
   "outputs": [],
   "source": [
    "v_adf_hs = hs.signals.Signal2D(v_adf_test)"
   ]
  },
  {
   "cell_type": "code",
   "execution_count": null,
   "id": "072b3336",
   "metadata": {},
   "outputs": [],
   "source": [
    "v_adf_hs.plot()"
   ]
  },
  {
   "cell_type": "code",
   "execution_count": null,
   "id": "babcd644",
   "metadata": {},
   "outputs": [],
   "source": [
    "v_adf_im = v_adf_hs.sum()"
   ]
  },
  {
   "cell_type": "code",
   "execution_count": null,
   "id": "7a8638ca",
   "metadata": {},
   "outputs": [],
   "source": [
    "v_adf_im.plot(vmax = 1000)"
   ]
  },
  {
   "cell_type": "code",
   "execution_count": null,
   "id": "96bc56d8",
   "metadata": {},
   "outputs": [],
   "source": [
    "# Making a mask based on v_adf intensity\n",
    "\n",
    "mask = v_adf_im.data > 900"
   ]
  },
  {
   "cell_type": "code",
   "execution_count": null,
   "id": "e9944a36",
   "metadata": {},
   "outputs": [],
   "source": [
    "mask = hs.signals.Signal2D(mask)"
   ]
  },
  {
   "cell_type": "code",
   "execution_count": null,
   "id": "092f4462",
   "metadata": {},
   "outputs": [],
   "source": [
    "mask.plot()"
   ]
  },
  {
   "cell_type": "code",
   "execution_count": null,
   "id": "24abe176",
   "metadata": {},
   "outputs": [],
   "source": [
    "d"
   ]
  },
  {
   "cell_type": "code",
   "execution_count": null,
   "id": "046c2a33",
   "metadata": {},
   "outputs": [],
   "source": [
    "mask"
   ]
  },
  {
   "cell_type": "code",
   "execution_count": null,
   "id": "ca17699a",
   "metadata": {},
   "outputs": [],
   "source": [
    "d_masked = d * mask.T"
   ]
  },
  {
   "cell_type": "code",
   "execution_count": null,
   "id": "f6b1c9a8",
   "metadata": {},
   "outputs": [],
   "source": [
    "grain_dp = d_masked.sum()\n"
   ]
  },
  {
   "cell_type": "code",
   "execution_count": null,
   "id": "db11ef65",
   "metadata": {},
   "outputs": [],
   "source": [
    "grain_dp.plot(vmax = 100, cmap = 'inferno')"
   ]
  },
  {
   "cell_type": "markdown",
   "id": "09e15d5f",
   "metadata": {},
   "source": [
    "## Check magnification"
   ]
  },
  {
   "cell_type": "code",
   "execution_count": null,
   "id": "64fd5296",
   "metadata": {},
   "outputs": [],
   "source": [
    "import glob\n",
    "import h5py\n",
    "path = '/dls/e02/data/2023/mg31973-1/processing/Merlin/au_xgrating'\n",
    "for file in glob.glob(path + '/*/*.hdf'):\n",
    "    print(file)\n",
    "    with h5py.File(file, 'r') as f:\n",
    "        print(f['metadata/magnification'][()])\n",
    "\n",
    "    "
   ]
  },
  {
   "cell_type": "markdown",
   "id": "bee6089d",
   "metadata": {},
   "source": [
    "## Make arbitrary mask"
   ]
  },
  {
   "cell_type": "code",
   "execution_count": null,
   "id": "327c0305",
   "metadata": {},
   "outputs": [],
   "source": [
    "# im here is a saved version of the image modified in PAINT\n",
    "im = hs.load('/dls/e02/data/2023/mg31973-1/processing/Merlin/pct50_Film/20230125_131719/20230125_131719_ibf.hspy')\n",
    "d = hs.load('/dls/e02/data/2023/mg31973-1/processing/Merlin/pct50_Film/20230125_131719/20230125_131719_data.hdf5')"
   ]
  },
  {
   "cell_type": "code",
   "execution_count": null,
   "id": "4fdf5319",
   "metadata": {},
   "outputs": [],
   "source": [
    "im_mask = hs.load('/dls/e02/data/2023/mg31973-1/processing/Merlin/pct50_Film/20230125_131719/20230125_131719_ibf_mask.jpg')"
   ]
  },
  {
   "cell_type": "code",
   "execution_count": null,
   "id": "c4cce7f2",
   "metadata": {},
   "outputs": [],
   "source": [
    "im_mask.plot()"
   ]
  },
  {
   "cell_type": "code",
   "execution_count": null,
   "id": "a9caa40f",
   "metadata": {},
   "outputs": [],
   "source": [
    "mask_gb = im_mask.data == 0.0"
   ]
  },
  {
   "cell_type": "code",
   "execution_count": null,
   "id": "696d1b79",
   "metadata": {},
   "outputs": [],
   "source": [
    "mask_gb = hs.signals.Signal2D(mask_gb)"
   ]
  },
  {
   "cell_type": "code",
   "execution_count": null,
   "id": "1ca62134",
   "metadata": {},
   "outputs": [],
   "source": [
    "mask_gb.plot()"
   ]
  },
  {
   "cell_type": "code",
   "execution_count": null,
   "id": "910f8d73",
   "metadata": {},
   "outputs": [],
   "source": [
    "d"
   ]
  },
  {
   "cell_type": "code",
   "execution_count": null,
   "id": "71cf3228",
   "metadata": {},
   "outputs": [],
   "source": [
    "d_gb = d * mask_gb.T"
   ]
  },
  {
   "cell_type": "code",
   "execution_count": null,
   "id": "82461247",
   "metadata": {},
   "outputs": [],
   "source": [
    "gb_diff_sum = d_gb.sum()"
   ]
  },
  {
   "cell_type": "code",
   "execution_count": null,
   "id": "8a397e52",
   "metadata": {},
   "outputs": [],
   "source": [
    "gb_diff_sum.plot(vmax = 500, cmap = 'inferno')"
   ]
  }
 ],
 "metadata": {
  "kernelspec": {
   "display_name": "Python 3.10 - EPSIC [DLS Conda]",
   "language": "python",
   "name": "conda-env-DLS_Conda-epsic3.10-kernel.json"
  },
  "language_info": {
   "codemirror_mode": {
    "name": "ipython",
    "version": 3
   },
   "file_extension": ".py",
   "mimetype": "text/x-python",
   "name": "python",
   "nbconvert_exporter": "python",
   "pygments_lexer": "ipython3",
   "version": "3.10.8"
  }
 },
 "nbformat": 4,
 "nbformat_minor": 5
}
