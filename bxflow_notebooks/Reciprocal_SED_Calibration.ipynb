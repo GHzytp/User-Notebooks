{
 "cells": [
  {
   "cell_type": "markdown",
   "id": "75dde0b4",
   "metadata": {},
   "source": [
    "## This notebook is to automatically measure reciprocal space pixel size for SEND and to measure the affine transform needed to correct for diffraction roundness\n",
    "\n",
    "- We assume au-xgrating sample is being used \n",
    "\n",
    "- We assume 256*256 scans are collected"
   ]
  },
  {
   "cell_type": "markdown",
   "id": "7e302903",
   "metadata": {},
   "source": [
    "```yaml\n",
    "global_align_BF:\n",
    "    value: '1'\n",
    "    explanation: 'Leave at 1 to align the BF disc, otherwise set to 0.'\n",
    "    prompt: 'align BF'\n",
    "global_write_to_file: \n",
    "    value: '1'\n",
    "    explanation: 'If happy with the calibrations setting this flag to 1 writes json file with reciprocal pixel size and affine transform matrix.'\n",
    "    prompt: 'write_to_file'\n",
    "global_crop_window_size:\n",
    "    value: '0.05'\n",
    "    explanation: 'This is the relative crop size around the BF disc to use for alignment. If the BF disc gitters too much, e.g. low MAG data, a larger value should be used.'\n",
    "    prompt: 'crop window'\n",
    "remex_hints:\n",
    "    value: 'standard_science_cluster'\n",
    "    explanation: 'Hints to the workflow engine regarding cluster processing. Please consult the beamline staff before changing this. Valid choices are: standard_science_cluster, ptypy_mpi, ptyrex_mpi, local'\n",
    "    prompt: 'remote execution hints'\n",
    "```"
   ]
  },
  {
   "cell_type": "code",
   "execution_count": null,
   "id": "8e2e4b15",
   "metadata": {},
   "outputs": [],
   "source": [
    "# This cell will be replaced by bxflow"
   ]
  },
  {
   "cell_type": "code",
   "execution_count": null,
   "id": "2688eed3",
   "metadata": {},
   "outputs": [],
   "source": [
    "%%capture --no-display\n",
    "%matplotlib notebook\n",
    "import numpy as np\n",
    "import h5py\n",
    "import json\n",
    "import matplotlib.pyplot as plt\n",
    "import hyperspy.api as hs\n",
    "import os\n",
    "import pyxem as pxm\n",
    "import py4DSTEM\n",
    "import logging\n",
    "from pyxem.libraries.calibration_library import CalibrationDataLibrary\n",
    "from pyxem.generators.calibration_generator import CalibrationGenerator"
   ]
  },
  {
   "cell_type": "code",
   "execution_count": null,
   "id": "439030c7",
   "metadata": {},
   "outputs": [],
   "source": [
    "# global_align_BF= '1'\n",
    "# global_write_to_file = '1'\n",
    "\n",
    "# # dataset name\n",
    "# data_label = 'au_xgrating/20221121_112053'\n",
    "# # notebook name\n",
    "# notebook = 'Reciprocal_SED_Calibration'\n",
    "# global_align_BF = '1'\n",
    "# global_write_to_file = '1'\n",
    "\n",
    "# BEAMLINE = 'e02'\n",
    "# YEAR = '2022'\n",
    "# VISIT = 'mg33722-1'\n",
    "\n"
   ]
  },
  {
   "cell_type": "code",
   "execution_count": null,
   "id": "34c6098e",
   "metadata": {},
   "outputs": [],
   "source": [
    "path = f'/dls/{BEAMLINE}/data/{YEAR}/{VISIT}/processing/Merlin/'\n",
    "timestamp = data_label.split('/')[-1]\n",
    "ibf_path = f'{path}/{data_label}/{timestamp}_ibf.hspy'\n",
    "meta_path = f'{path}/{data_label}/{timestamp}.hdf'\n",
    "full_path = f'{path}/{data_label}/{timestamp}_data.hdf5'"
   ]
  },
  {
   "cell_type": "code",
   "execution_count": null,
   "id": "baf58be2",
   "metadata": {},
   "outputs": [],
   "source": [
    "save_path = os.path.dirname(ibf_path)\n",
    "print(save_path)\n",
    "base_name = os.path.dirname(save_path)\n",
    "print(base_name)\n",
    "print(os.getcwd())"
   ]
  },
  {
   "cell_type": "code",
   "execution_count": null,
   "id": "4dbdec23",
   "metadata": {},
   "outputs": [],
   "source": [
    "im = hs.load(ibf_path)\n",
    "with h5py.File(meta_path, 'r') as f:\n",
    "    print(f['metadata'].keys())\n",
    "    print(f['metadata/magnification'][()])\n",
    "    mag = f['metadata/magnification'][()]\n",
    "    print(f['metadata/field_of_view(m)'][()])\n",
    "    fov = f['metadata/field_of_view(m)'][()]\n",
    "    sh = f['metadata/4D_shape'][()]\n",
    "    print(f['metadata/aperture_size'][()])\n",
    "    print(f['metadata/nominal_camera_length(m)'][()])\n",
    "    cam_len = f['metadata/nominal_camera_length(m)'][()]\n",
    "    print(f['data/mask'].shape)\n",
    "    mask = f['data/mask'][()]\n"
   ]
  },
  {
   "cell_type": "code",
   "execution_count": null,
   "id": "9e3a6ea4",
   "metadata": {},
   "outputs": [],
   "source": [
    "# This should not be needed in future with updated mask\n",
    "with h5py.File('/dls_sw/e02/medipix_mask/Merlin_12bit_mask.h5', 'r') as f:\n",
    "    print(f.keys())\n",
    "    mask = f['data/mask'][()]\n",
    "mask = mask.astype('bool')\n",
    "mask = np.invert(mask)\n",
    "mask = hs.signals.Signal2D(mask)\n",
    "mask.plot()"
   ]
  },
  {
   "cell_type": "code",
   "execution_count": null,
   "id": "b960c8f1",
   "metadata": {},
   "outputs": [],
   "source": [
    "d = hs.load(full_path)\n",
    "d.axes_manager[2].offset = 0.\n",
    "d.axes_manager[3].offset = 0.\n",
    "d.axes_manager[2].scale = 1\n",
    "d.axes_manager[3].scale = 1\n",
    "d_mask = d * mask"
   ]
  },
  {
   "cell_type": "code",
   "execution_count": null,
   "id": "3a986700",
   "metadata": {},
   "outputs": [],
   "source": [
    "# This can be removed once py4DSTEM gets updated in env\n",
    "import numpy as np\n",
    "from py4DSTEM.process.utils import get_CoM\n",
    "def get_probe_size(DP, thresh_lower=0.01, thresh_upper=0.99, N=100):\n",
    "    \"\"\"\n",
    "    Gets the center and radius of the probe in the diffraction plane.\n",
    "    The algorithm is as follows:\n",
    "    First, create a series of N binary masks, by thresholding the diffraction pattern\n",
    "    DP with a linspace of N thresholds from thresh_lower to thresh_upper, measured\n",
    "    relative to the maximum intensity in DP.\n",
    "    Using the area of each binary mask, calculate the radius r of a circular probe.\n",
    "    Because the central disk is typically very intense relative to the rest of the DP, r\n",
    "    should change very little over a wide range of intermediate values of the threshold.\n",
    "    The range in which r is trustworthy is found by taking the derivative of r(thresh)\n",
    "    and finding identifying where it is small.  The radius is taken to be the mean of\n",
    "    these r values. Using the threshold corresponding to this r, a mask is created and\n",
    "    the CoM of the DP times this mask it taken.  This is taken to be the origin x0,y0.\n",
    "    Args:\n",
    "        DP (2D array): the diffraction pattern in which to find the central disk.\n",
    "            A position averaged, or shift-corrected and averaged, DP works best.\n",
    "        thresh_lower (float, 0 to 1): the lower limit of threshold values\n",
    "        thresh_upper (float, 0 to 1): the upper limit of threshold values\n",
    "        N (int): the number of thresholds / masks to use\n",
    "    Returns:\n",
    "        (3-tuple): A 3-tuple containing:\n",
    "            * **r**: *(float)* the central disk radius, in pixels\n",
    "            * **x0**: *(float)* the x position of the central disk center\n",
    "            * **y0**: *(float)* the y position of the central disk center\n",
    "    \"\"\"\n",
    "    thresh_vals = np.linspace(thresh_lower, thresh_upper, N)\n",
    "    r_vals = np.zeros(N)\n",
    "\n",
    "    # Get r for each mask\n",
    "    DPmax = np.max(DP)\n",
    "    for i in range(len(thresh_vals)):\n",
    "        thresh = thresh_vals[i]\n",
    "        mask = DP > DPmax * thresh\n",
    "        r_vals[i] = np.sqrt(np.sum(mask) / np.pi)\n",
    "\n",
    "    # Get derivative and determine trustworthy r-values\n",
    "    dr_dtheta = np.gradient(r_vals)\n",
    "    mask = (dr_dtheta <= 0) * (dr_dtheta >= 2 * np.median(dr_dtheta))\n",
    "    r = np.mean(r_vals[mask])\n",
    "\n",
    "    # Get origin\n",
    "    thresh = np.mean(thresh_vals[mask])\n",
    "    mask = DP > DPmax * thresh\n",
    "    x0, y0 = get_CoM(DP * mask)\n",
    "    \n",
    "    return r, x0, y0\n",
    "\n",
    "def find_origin_using_cropped_signal(data, rad, x0, y0, crop_window_size = float(global_crop_window_size)):\n",
    "    '''\n",
    "    Args:\n",
    "        data (DataCube instance): 4D-STEM dataset for which the origins will be found\n",
    "        rad (float): approximate radius of the central beam\n",
    "        x0 (float): approximate x coordinate of the central beam\n",
    "        y0 (float): approximate y coordinate of the central beam\n",
    "        crop_window_size (float, 0 to 1) proportion of the diffraction plane to use as a search window around the approximate centre\n",
    "    Returns:\n",
    "        (np.array): \n",
    "            A numpy array of shape (2, Rx,Ry) containing the central coordinates at each real space location\n",
    "    '''    \n",
    "    \n",
    "    #get a search window around the approximate centre based on a proportion of the total diffraction imaging plane\n",
    "    central_search_width = int(np.ceil(rad + data.data.shape[2]*crop_window_size))\n",
    "    \n",
    "    #calculate the bounds of this search window\n",
    "    x0r, y0r = int(x0//1), int(y0//1)\n",
    "    x_lower, x_upper =  x0r-central_search_width, x0r+central_search_width\n",
    "    y_lower, y_upper =  y0r-central_search_width, y0r+central_search_width\n",
    "    \n",
    "    #create a cropped DataCube instance\n",
    "    d_cent = py4DSTEM.io.DataCube(data.data[:,:,x_lower:x_upper,y_lower:y_upper])\n",
    "\n",
    "    #Find the origin of these cropped patterns\n",
    "    origins = py4DSTEM.process.calibration.origin.get_origin(d_cent, r = rad, rscale = 1.1) \n",
    "    cent_coords = list(origins)\n",
    "    cent_coords = np.asarray(cent_coords)\n",
    "    \n",
    "    #translate these central coordinates to uncropped image \n",
    "    cent_coords += np.array((x_lower, y_lower))[:,None,None]\n",
    "    \n",
    "    return cent_coords\n"
   ]
  },
  {
   "cell_type": "code",
   "execution_count": null,
   "id": "160e3bdb",
   "metadata": {},
   "outputs": [],
   "source": [
    "if global_align_BF=='1':\n",
    "    # shift function\n",
    "    logging.info(\"Aligning the BF disc in the data.\")\n",
    "    d_before = d_mask.mean()\n",
    "    from scipy import ndimage\n",
    "    def shift_image(im, shift=0, interpolation_order=1, fill_value=0):\n",
    "        if not np.any(shift):\n",
    "            return im\n",
    "        else:\n",
    "            fractional, integral = np.modf(shift)\n",
    "            if fractional.any():\n",
    "                order = interpolation_order\n",
    "            else:\n",
    "                # Disable interpolation\n",
    "                order = 0\n",
    "            return ndimage.shift(im, shift, cval=fill_value, order=order)\n",
    "    # Getting the origin coordinates\n",
    "    data = py4DSTEM.io.DataCube(d_mask.data)\n",
    "    \n",
    "    # find good value for r for arbitrary data\n",
    "    rad, x0, y0 = get_probe_size(data.data[0,0,:,:])\n",
    "    print('BF disc radius in pixels:', int(rad))\n",
    "    # Here rad is radius of BF disc\n",
    "    \n",
    "    cent_coords = find_origin_using_cropped_signal(data, rad, x0, y0)\n",
    "    \n",
    "    # expressing them as shift values\n",
    "    cent_coords = cent_coords.reshape(2, d.data.shape[0]*d.data.shape[1])\n",
    "    shifts = -1 * (cent_coords - 515 // 2)\n",
    "    \n",
    "    # Apply the above shifts\n",
    "    data_resh = np.reshape(data.data, (d.data.shape[0]*d.data.shape[1],515,515))\n",
    "    for i in range(data_resh.shape[0]):\n",
    "        data_resh[i,:,:] = shift_image(data_resh[i,:,:], shift= [shifts[0][i], shifts[1][i]])\n",
    "        \n",
    "    # replacing d_mask here\n",
    "    d_mask = pxm.signals.ElectronDiffraction2D(np.reshape(data_resh, (d.data.shape[0],d.data.shape[1],515,515)))\n",
    "    d_mean = d_mask.mean()\n",
    "\n",
    "    #Plotting mean signal with the estimate of the centre positions\n",
    "    fig, axs = plt.subplots(1,3)\n",
    "    axs[0].imshow(np.log10(1 + d_before.data), vmax=0.4)\n",
    "    axs[0].set_title('before align')\n",
    "    axs[1].plot(cent_coords[1], cent_coords[0])\n",
    "    axs[1].set_xlim([0,515])\n",
    "    axs[1].set_ylim([0,515])\n",
    "    axs[1].set_aspect(1)\n",
    "    axs[1].invert_yaxis()\n",
    "    axs[1].set_title('estimated centre pos')\n",
    "    axs[2].imshow(np.log10(1 + d_mean.data), vmax=0.4)\n",
    "    axs[2].set_title('after align')\n",
    "    for ax in axs.flatten():\n",
    "        ax.set_xticks([])\n",
    "        ax.set_yticks([])\n",
    "    plt.savefig(f'{os.getcwd()}/aligning_BF_disc.png')\n",
    "    \n",
    "else:\n",
    "    logging.info(\"No BF disc alignment performed.\")\n",
    "    d_mean = d_mask.mean()\n",
    "    fig, axs = plt.subplots(1,1)\n",
    "    axs.imshow(np.log10(1 + d_mean.data), vmax=0.1)\n",
    "    axs.set_title('without aligning')\n",
    "    plt.savefig(f'{os.getcwd()}/without_BF_disc_alignment.png')"
   ]
  },
  {
   "cell_type": "code",
   "execution_count": null,
   "id": "e4dd2ef1",
   "metadata": {},
   "outputs": [],
   "source": [
    "cal_lib = CalibrationDataLibrary(au_x_grating_dp=d_mean)\n",
    "cal = CalibrationGenerator(diffraction_pattern=d_mean)"
   ]
  },
  {
   "cell_type": "code",
   "execution_count": null,
   "id": "68e0d00a",
   "metadata": {},
   "outputs": [],
   "source": [
    "cal.get_elliptical_distortion(mask_radius=int(2*rad)+1,\n",
    "                              scale=100, amplitude=np.max(d_mean.data),\n",
    "                              asymmetry=0.9,spread=2)"
   ]
  },
  {
   "cell_type": "code",
   "execution_count": null,
   "id": "05f1b5b1",
   "metadata": {},
   "outputs": [],
   "source": [
    "residuals = cal.get_distortion_residuals(mask_radius=int(2*rad)+1, spread=2)\n",
    "residuals.plot(cmap='RdBu', vmax=20)"
   ]
  },
  {
   "cell_type": "code",
   "execution_count": null,
   "id": "cee25195",
   "metadata": {},
   "outputs": [],
   "source": [
    "cal.plot_corrected_diffraction_pattern(vmax=0.1)"
   ]
  },
  {
   "cell_type": "code",
   "execution_count": null,
   "id": "a7d2e3fa",
   "metadata": {},
   "outputs": [],
   "source": [
    "fig = plt.gcf()\n",
    "fig.savefig(f'{os.getcwd()}/After_affine_correction.png')"
   ]
  },
  {
   "cell_type": "code",
   "execution_count": null,
   "id": "d61e174a",
   "metadata": {},
   "outputs": [],
   "source": [
    "affine_matrix = cal.affine_matrix\n",
    "print(affine_matrix)"
   ]
  },
  {
   "cell_type": "code",
   "execution_count": null,
   "id": "b067c029",
   "metadata": {},
   "outputs": [],
   "source": [
    "recip_pix = cal.get_diffraction_calibration(mask_length=30,\n",
    "                                linewidth=5)"
   ]
  },
  {
   "cell_type": "code",
   "execution_count": null,
   "id": "4abd6495",
   "metadata": {},
   "outputs": [],
   "source": [
    "recip_pix"
   ]
  },
  {
   "cell_type": "code",
   "execution_count": null,
   "id": "0a262017",
   "metadata": {},
   "outputs": [],
   "source": [
    "cal_dict = {}\n",
    "cal_dict['reciprocal_space_pix(1/A)'] = recip_pix\n",
    "cal_dict['affine_transform'] = affine_matrix.tolist()\n",
    "\n",
    "# Check if write_to_file flag is on if so write to root, otherwise write in cwd\n",
    "\n",
    "if global_write_to_file=='1':\n",
    "    with open(os.path.join(base_name, f'calibrations_diff_{timestamp}_cam_len_{cam_len}_m.json'), 'w') as fp:\n",
    "        json.dump(cal_dict, fp)\n",
    "    \n",
    "else:\n",
    "    with open(os.path.join(os.getcwd(), f'calibrations_diff_{timestamp}_cam_len_{cam_len}_m.json'), 'w') as fp:\n",
    "        json.dump(cal_dict, fp)"
   ]
  }
 ],
 "metadata": {
  "kernelspec": {
   "display_name": "Python 3.6.8 64-bit",
   "language": "python",
   "name": "python3"
  },
  "language_info": {
   "codemirror_mode": {
    "name": "ipython",
    "version": 3
   },
   "file_extension": ".py",
   "mimetype": "text/x-python",
   "name": "python",
   "nbconvert_exporter": "python",
   "pygments_lexer": "ipython3",
   "version": "3.6.8"
  },
  "vscode": {
   "interpreter": {
    "hash": "e7370f93d1d0cde622a1f8e1c04877d8463912d04d973331ad4851f04de6915a"
   }
  }
 },
 "nbformat": 4,
 "nbformat_minor": 5
}
