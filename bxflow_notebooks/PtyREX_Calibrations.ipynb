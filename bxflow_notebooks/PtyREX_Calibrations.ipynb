{
 "cells": [
  {
   "cell_type": "markdown",
   "id": "57b9afe3",
   "metadata": {},
   "source": [
    "# This notebook is to prepare a config file to run ptyrex recon\n",
    "\n",
    "- read metadata \n",
    "\n",
    "- Detect BF dic diameter and form VADF image\n",
    "\n",
    "- estimate CL and probe convergence semi-angle\n",
    "\n",
    "- Help user decide on region to reconstruct"
   ]
  },
  {
   "cell_type": "markdown",
   "id": "6c2fce7f",
   "metadata": {},
   "source": [
    "```yaml\n",
    "global_template_json:\n",
    "    value: '/dls_sw/e02/PtyREX_templates/template_MD.json'\n",
    "    explanation: 'This is the template json file used as the starting point to populate based on the metadata.'\n",
    "global_write_json: \n",
    "    value: '1'\n",
    "    explanation: 'Leave at 0 if exploring parameters. Set to 1 to write a json file.'\n",
    "global_json_path: \n",
    "    value: '/dls/e02/data/2023/cm33902-1/processing/Merlin/ptyrex_json_files'\n",
    "    explanation: 'A global path to hold the json files. If None and json file write requested defaults to data folder.'\n",
    "global_tag_name: \n",
    "    value: 'full'\n",
    "    explanation: 'This prefix tag will be added to the json file and the reconstruction.'\n",
    "    prompt: 'recosntruction prefix'\n",
    "global_thresholds: \n",
    "    value: '0.01, 0.7'\n",
    "    explanation: 'Provide two values to be used for lower and upper threshold when detecting the BF disc.'\n",
    "    prompt: 'thresholds'\n",
    "global_scan_rot:\n",
    "    value: '-55'\n",
    "    explanation: 'This is the scan rotation used in the PtyREX json file. It can be determined using CoM_DPC_ABF_ouputs notebook.'\n",
    "    prompt: 'scan rotation'\n",
    "global_recon_reg:\n",
    "    value: '0,1,0,1,1,1'\n",
    "    explanation: 'The first four values determine x and y ranges in fraction (0 to 1). the last two values should be integers and correspond to skips.'\n",
    "    prompt: 'x/y ranges and skips'\n",
    "remex_hints:\n",
    "    value: 'standard_science_cluster'\n",
    "    explanation: 'Hints to the workflow engine regarding cluster processing. Please consult the beamline staff before changing this.'\n",
    "    prompt: 'remote execution hints'\n",
    "```"
   ]
  },
  {
   "cell_type": "code",
   "execution_count": null,
   "id": "55e3e5d8",
   "metadata": {},
   "outputs": [],
   "source": [
    "# Leave empty!"
   ]
  },
  {
   "cell_type": "code",
   "execution_count": null,
   "id": "99eb8ebd",
   "metadata": {},
   "outputs": [],
   "source": [
    "\n",
    "\n",
    "# # dataset name\n",
    "# data_label = 'cam_length_cal_data/20221130_114122'\n",
    "# # notebook name\n",
    "# notebook = 'ptyrex_calibrations'\n",
    "# global_template_json = '/dls/e02/data/2022/mg31702-1/processing/template.json'\n",
    "# global_write_json = '1'\n",
    "# global_json_path = '/dls/e02/data/2022/mg31702-1/processing/Merlin/json_files'\n",
    "# global_tag_name = 'test'\n",
    "# global_thresholds = '0.01, 0.6'\n",
    "\n",
    "# BEAMLINE = 'e02'\n",
    "# YEAR = '2022'\n",
    "# VISIT = 'cm31101-5'\n",
    "\n"
   ]
  },
  {
   "cell_type": "code",
   "execution_count": null,
   "id": "39040b17",
   "metadata": {},
   "outputs": [],
   "source": [
    "%%capture --no-display\n",
    "%matplotlib notebook\n",
    "import sys\n",
    "sys.path.append('/dls_sw/apps/pycho/ptyrex_latest')\n",
    "import ptyrex\n",
    "from ptyrex import np\n",
    "from ptyrex import tb\n",
    "from ptyrex import h5py\n",
    "import json\n",
    "sys.path.append('/dls/science/groups/e02/Mohsen/code/Git_Repos/Merlin-Medipix/')\n",
    "import epsic_tools.api as epsic\n",
    "import h5py\n",
    "import os\n",
    "import py4DSTEM\n",
    "import hyperspy.api as hs\n",
    "import matplotlib.pyplot as plt"
   ]
  },
  {
   "cell_type": "code",
   "execution_count": null,
   "id": "26442745",
   "metadata": {},
   "outputs": [],
   "source": [
    "# This cell to be deleted when running live with bxflow\n",
    "# BEAMLINE = 'e02'\n",
    "# YEAR = '2022'\n",
    "# VISIT = 'cm31101-4'\n",
    "# data_label = 'JM_RE252/20221006_145211'"
   ]
  },
  {
   "cell_type": "code",
   "execution_count": null,
   "id": "4953635b",
   "metadata": {},
   "outputs": [],
   "source": [
    "# # dataset name\n",
    "# data_label = 'Au_test/20221011_162517'\n",
    "# # notebook name\n",
    "# notebook = 'ptyrex_calibrations'\n",
    "# global_template_json = '/dls/e02/data/2022/cm31101-4/processing/Merlin/graphene_example/template.json'\n",
    "# global_write_json = '1'\n",
    "# global_json_path = 'None'\n",
    "# global_tag_name = 'test'\n",
    "\n",
    "# BEAMLINE = 'e02'\n",
    "# YEAR = '2022'\n",
    "# VISIT = 'cm31101-4'"
   ]
  },
  {
   "cell_type": "code",
   "execution_count": null,
   "id": "38deec2b",
   "metadata": {},
   "outputs": [],
   "source": [
    "path = f'/dls/{BEAMLINE}/data/{YEAR}/{VISIT}/processing/Merlin/'\n",
    "timestamp = data_label.split('/')[-1]\n",
    "ibf_path = f'{path}/{data_label}/{timestamp}_ibf.hspy'\n",
    "meta_path = f'{path}/{data_label}/{timestamp}.hdf'\n",
    "full_path = f'{path}/{data_label}/{timestamp}_data.hdf5'"
   ]
  },
  {
   "cell_type": "code",
   "execution_count": null,
   "id": "ef38abf5",
   "metadata": {},
   "outputs": [],
   "source": [
    "save_path = os.path.dirname(ibf_path)\n",
    "print(save_path)\n",
    "base_name = os.path.dirname(save_path)\n",
    "print(base_name)\n",
    "print(os.getcwd())"
   ]
  },
  {
   "cell_type": "code",
   "execution_count": null,
   "id": "a6545c7c",
   "metadata": {},
   "outputs": [],
   "source": [
    "scan_rot = float(global_scan_rot)\n",
    "with h5py.File(meta_path, 'r') as f:\n",
    "    print(f['metadata'].keys())\n",
    "    mag = f['metadata/magnification'][()]\n",
    "    fov = f['metadata/field_of_view(m)'][()]\n",
    "    sh = f['metadata/4D_shape'][()]\n",
    "    print(f['metadata/aperture_size'][()])\n",
    "    print(f['metadata/nominal_camera_length(m)'][()])\n",
    "    print(f['data/mask'].shape)\n",
    "#     mask = f['data/mask'][()]\n",
    "    def_val = f['metadata/defocus(nm)'][()] * 1e-9\n",
    "    step_size = fov / sh[0]\n",
    "    acc_volt = f['metadata/ht_value(V)'][()]\n",
    "    e_wave_len = epsic.sim_utils.e_lambda(acc_volt)\n",
    "    probe_conv = f['metadata/convergence_semi-angle(rad)'][()] * 2"
   ]
  },
  {
   "cell_type": "code",
   "execution_count": null,
   "id": "41839b0b",
   "metadata": {},
   "outputs": [],
   "source": [
    "with h5py.File('/dls_sw/e02/medipix_mask/Merlin_12bit_mask.h5', 'r') as f:\n",
    "    mask = f['data/mask'][()]"
   ]
  },
  {
   "cell_type": "code",
   "execution_count": null,
   "id": "d1eafd05",
   "metadata": {},
   "outputs": [],
   "source": [
    "plt.figure()\n",
    "plt.imshow(mask)"
   ]
  },
  {
   "cell_type": "code",
   "execution_count": null,
   "id": "4bf555c7",
   "metadata": {},
   "outputs": [],
   "source": [
    "# This can be removed once py4DSTEM gets updated in env\n",
    "import numpy as np\n",
    "from py4DSTEM.process.utils import get_CoM\n",
    "# def get_probe_size(DP, thresh_lower=0.01, thresh_upper=0.6, N=100):\n",
    "#     \"\"\"\n",
    "#     Gets the center and radius of the probe in the diffraction plane.\n",
    "#     The algorithm is as follows:\n",
    "#     First, create a series of N binary masks, by thresholding the diffraction pattern\n",
    "#     DP with a linspace of N thresholds from thresh_lower to thresh_upper, measured\n",
    "#     relative to the maximum intensity in DP.\n",
    "#     Using the area of each binary mask, calculate the radius r of a circular probe.\n",
    "#     Because the central disk is typically very intense relative to the rest of the DP, r\n",
    "#     should change very little over a wide range of intermediate values of the threshold.\n",
    "#     The range in which r is trustworthy is found by taking the derivative of r(thresh)\n",
    "#     and finding identifying where it is small.  The radius is taken to be the mean of\n",
    "#     these r values. Using the threshold corresponding to this r, a mask is created and\n",
    "#     the CoM of the DP times this mask it taken.  This is taken to be the origin x0,y0.\n",
    "#     Args:\n",
    "#         DP (2D array): the diffraction pattern in which to find the central disk.\n",
    "#             A position averaged, or shift-corrected and averaged, DP works best.\n",
    "#         thresh_lower (float, 0 to 1): the lower limit of threshold values\n",
    "#         thresh_upper (float, 0 to 1): the upper limit of threshold values\n",
    "#         N (int): the number of thresholds / masks to use\n",
    "#     Returns:\n",
    "#         (3-tuple): A 3-tuple containing:\n",
    "#             * **r**: *(float)* the central disk radius, in pixels\n",
    "#             * **x0**: *(float)* the x position of the central disk center\n",
    "#             * **y0**: *(float)* the y position of the central disk center\n",
    "#     \"\"\"\n",
    "#     thresh_vals = np.linspace(thresh_lower, thresh_upper, N)\n",
    "#     r_vals = np.zeros(N)\n",
    "\n",
    "#     # Get r for each mask\n",
    "#     DPmax = np.max(DP)\n",
    "#     for i in range(len(thresh_vals)):\n",
    "#         thresh = thresh_vals[i]\n",
    "#         mask = DP > DPmax * thresh\n",
    "#         r_vals[i] = np.sqrt(np.sum(mask) / np.pi)\n",
    "\n",
    "#     # Get derivative and determine trustworthy r-values\n",
    "#     dr_dtheta = np.gradient(r_vals)\n",
    "#     mask = (dr_dtheta <= 0) * (dr_dtheta >= 2 * np.median(dr_dtheta))\n",
    "#     r = np.mean(r_vals[mask])\n",
    "\n",
    "#     # Get origin\n",
    "#     thresh = np.mean(thresh_vals[mask])\n",
    "#     mask = DP > DPmax * thresh\n",
    "#     x0, y0 = get_CoM(DP * mask)\n",
    "    \n",
    "#     return r, x0, y0"
   ]
  },
  {
   "cell_type": "code",
   "execution_count": null,
   "id": "8aac770b",
   "metadata": {},
   "outputs": [],
   "source": [
    "mask = mask.astype('bool')\n",
    "d = hs.load(full_path, lazy=True)\n",
    "d.axes_manager[2].offset = 0.\n",
    "d.axes_manager[3].offset = 0.\n",
    "d.axes_manager[2].scale = 1\n",
    "d.axes_manager[3].scale = 1\n",
    "d_mask = d * np.invert(mask)"
   ]
  },
  {
   "cell_type": "code",
   "execution_count": null,
   "id": "02c7457a",
   "metadata": {},
   "outputs": [],
   "source": [
    "# with h5py.File('/dls_sw/e02/medipix_mask/Merlin_12bit_mask_2.h5', 'w') as f:\n",
    "#     f.create_dataset('data/mask', data=mask)\n"
   ]
  },
  {
   "cell_type": "code",
   "execution_count": null,
   "id": "6f3e7ddd",
   "metadata": {},
   "outputs": [],
   "source": [
    "input_vals = global_thresholds.split(',')\n",
    "v_min = float(input_vals[0])\n",
    "v_max = float(input_vals[1])"
   ]
  },
  {
   "cell_type": "code",
   "execution_count": null,
   "id": "3761809b",
   "metadata": {},
   "outputs": [],
   "source": [
    "d_mean = d_mask.mean()\n",
    "d_mean.compute()\n",
    "# find good value for r for arbitrary data\n",
    "# Estimate the radius of the BF disk, and the center coordinates\n",
    "rad, x0, y0  = py4DSTEM.process.calibration.get_probe_size(d_mean.data, v_min, v_max)\n",
    "# rad, x0, y0 = get_probe_size(d_mean.data, v_min, v_max)\n",
    "# rad, x0, y0 = get_probe_size(data)\n",
    "print('BF disc radius in pixels:', int(rad))\n",
    "# Here rad is radius of BF disc\n",
    "print(f'Optical axis coordinates are {int(x0)} and {int(y0)}')"
   ]
  },
  {
   "cell_type": "code",
   "execution_count": null,
   "id": "27c3aa0d",
   "metadata": {},
   "outputs": [],
   "source": [
    "d_mean.plot()"
   ]
  },
  {
   "cell_type": "code",
   "execution_count": null,
   "id": "e69ccbe3",
   "metadata": {},
   "outputs": [],
   "source": [
    "cam_len = (55e-6 * int(rad)) / (probe_conv / 2)\n",
    "print(cam_len)"
   ]
  },
  {
   "cell_type": "code",
   "execution_count": null,
   "id": "a4020ea9",
   "metadata": {},
   "outputs": [],
   "source": [
    "# plot mean pattern with deteced BF disc\n",
    "d_mean.plot(vmax = 50)\n",
    "circ_ROI = hs.roi.CircleROI(cx = int(y0), cy = int(x0), r = int(rad))\n",
    "circ_ROI.interactive(d_mean)\n",
    "# plt.savefig(f'{save_path}/BF_disc_detected.png')\n",
    "plt.savefig(f'{os.getcwd()}/BF_disc_detected.png')"
   ]
  },
  {
   "cell_type": "code",
   "execution_count": null,
   "id": "6035d27f",
   "metadata": {},
   "outputs": [],
   "source": [
    "min_ang = int(rad) + 20 # in pix\n",
    "max_ang = 250 # in pix\n",
    "\n",
    "\n",
    "d_mean.plot(vmax=30)\n",
    "d_T = d_mask.T"
   ]
  },
  {
   "cell_type": "code",
   "execution_count": null,
   "id": "8348fe9a",
   "metadata": {},
   "outputs": [],
   "source": [
    "adf_det = hs.roi.CircleROI(cx=int(y0), cy=int(x0), \n",
    "                           r=max_ang, \n",
    "                           r_inner=min_ang)\n"
   ]
  },
  {
   "cell_type": "code",
   "execution_count": null,
   "id": "02fb3b2f",
   "metadata": {},
   "outputs": [],
   "source": [
    "adf_sig = adf_det.interactive(d_T, navigation_signal=d_mean)\n",
    "fig = plt.gcf()\n",
    "# fig.savefig(f'{save_path}/ADF_detector.png')\n",
    "fig.savefig(f'{os.getcwd()}/ADF_detector.png')"
   ]
  },
  {
   "cell_type": "code",
   "execution_count": null,
   "id": "2e26890d",
   "metadata": {},
   "outputs": [],
   "source": [
    "adf_sig = adf_sig.data.astype('uint16')\n",
    "adf_sig[np.isnan(adf_sig)] = 0\n",
    "adf_sig = hs.signals.Signal2D(adf_sig).as_lazy()\n",
    "adf_sig.compute()\n",
    "adf_im = adf_sig.sum()\n",
    "adf_im = 255 * adf_im.data / np.max(adf_im.data)\n",
    "adf_im = hs.signals.Signal2D(adf_im)"
   ]
  },
  {
   "cell_type": "code",
   "execution_count": null,
   "id": "b9b6503e",
   "metadata": {},
   "outputs": [],
   "source": [
    "adf_im.plot()"
   ]
  },
  {
   "cell_type": "code",
   "execution_count": null,
   "id": "6fc793ad",
   "metadata": {},
   "outputs": [],
   "source": [
    "# plt.savefig(f'{save_path}/ADF_im.png')\n",
    "plt.savefig(f'{os.getcwd()}/ADF_im.png')"
   ]
  },
  {
   "cell_type": "code",
   "execution_count": null,
   "id": "137fb3c9",
   "metadata": {},
   "outputs": [],
   "source": [
    "from skimage.transform import rotate\n",
    "adf_rot = np.flip(rotate(adf_im.data, -1 * scan_rot, resize=True), axis = 1)\n",
    "fig, axs = plt.subplots(1,1)\n",
    "axs.imshow(adf_rot, cmap = 'gray')\n",
    "# Major ticks\n",
    "axs.set_xticks(np.arange(0, adf_rot.shape[0], adf_rot.shape[0]//5))\n",
    "axs.set_yticks(np.arange(0, adf_rot.shape[0], adf_rot.shape[0]//5))\n",
    "\n",
    "# # Labels for major ticks\n",
    "axs.set_xticklabels([0. , 0.2, 0.4, 0.6, 0.8, 1. ])\n",
    "axs.set_yticklabels([0. , 0.2, 0.4, 0.6, 0.8, 1. ])\n",
    "\n",
    "# Gridlines based on minor ticks\n",
    "axs.grid(which='major', color='w', linestyle='-', linewidth=1)\n",
    "# plt.savefig(f'{save_path}/ADF_im_rotated_grid.png')\n",
    "plt.savefig(f'{os.getcwd()}/ADF_im_rotated_grid.png')"
   ]
  },
  {
   "cell_type": "code",
   "execution_count": null,
   "id": "8a17981b",
   "metadata": {},
   "outputs": [],
   "source": [
    "recon_reg_x0 = float(global_recon_reg.split(',')[0])\n",
    "recon_reg_x1 = float(global_recon_reg.split(',')[1])\n",
    "recon_reg_y0 = float(global_recon_reg.split(',')[2])\n",
    "recon_reg_y1 = float(global_recon_reg.split(',')[3])\n",
    "recon_reg_skipx = int(global_recon_reg.split(',')[4])\n",
    "recon_reg_skipy = int(global_recon_reg.split(',')[5])\n"
   ]
  },
  {
   "cell_type": "code",
   "execution_count": null,
   "id": "ece61bf0",
   "metadata": {},
   "outputs": [],
   "source": [
    "if not os.path.exists(f'{save_path}/ptyrex_recon'):\n",
    "    os.makedirs(f'{save_path}/ptyrex_recon')"
   ]
  },
  {
   "cell_type": "code",
   "execution_count": null,
   "id": "0f9757f9",
   "metadata": {},
   "outputs": [],
   "source": [
    "try:\n",
    "    with open(global_template_json,'r') as template_file:\n",
    "        pty_expt = json.load(template_file)\n",
    "    # modify the above:\n",
    "    pty_expt['base_dir'] = f'{save_path}/ptyrex_recon'\n",
    "    pty_expt['process']['save_dir'] = f'{save_path}/ptyrex_recon'\n",
    "    pty_expt['experiment']['data']['data_path'] = meta_path\n",
    "    pty_expt['process']['common']['scan']['rotation'] = scan_rot\n",
    "    pty_expt['process']['common']['scan']['N'] = [int(sh[0]), int(sh[1])]\n",
    "    pty_expt['experiment']['detector']['position'] = [0, 0, float(cam_len)]\n",
    "    pty_expt['experiment']['optics']['lens']['alpha'] = float(probe_conv)\n",
    "    pty_expt['process']['common']['source']['energy'] = int(acc_volt)\n",
    "    pty_expt['process']['common']['scan']['dR'] = [float(step_size), float(step_size)]\n",
    "    pty_expt['experiment']['optics']['lens']['defocus'] = [float(def_val),float(def_val)]\n",
    "    pty_expt['process']['save_prefix'] = global_tag_name\n",
    "    pty_expt['process']['common']['scan']['region']  = [recon_reg_x0, recon_reg_x1, recon_reg_y0 ,recon_reg_y1,recon_reg_skipx,recon_reg_skipy]\n",
    "except OSError: \n",
    "    print('no valid template path')"
   ]
  },
  {
   "cell_type": "code",
   "execution_count": null,
   "id": "6e5fb15d",
   "metadata": {},
   "outputs": [],
   "source": [
    "if global_json_path is not 'None':\n",
    "    if not os.path.exists(f'{global_json_path}'):\n",
    "        os.makedirs(f'{global_json_path}')"
   ]
  },
  {
   "cell_type": "code",
   "execution_count": null,
   "id": "7e1225b2",
   "metadata": {},
   "outputs": [],
   "source": [
    "if global_write_json == '1':\n",
    "    if global_json_path is not 'None':\n",
    "        with open(f'{global_json_path}/{timestamp}_{global_tag_name}.json','w') as f:\n",
    "            json.dump(pty_expt, f, indent=4)\n",
    "    else:\n",
    "        with open(f'{path}/{data_label}/{timestamp}_{global_tag_name}.json','w') as f:\n",
    "            json.dump(pty_expt, f, indent=4)\n"
   ]
  }
 ],
 "metadata": {
  "kernelspec": {
   "display_name": "Python 3.10.5 64-bit ('epsic3.10')",
   "language": "python",
   "name": "python3"
  },
  "language_info": {
   "codemirror_mode": {
    "name": "ipython",
    "version": 3
   },
   "file_extension": ".py",
   "mimetype": "text/x-python",
   "name": "python",
   "nbconvert_exporter": "python",
   "pygments_lexer": "ipython3",
   "version": "3.10.5"
  },
  "vscode": {
   "interpreter": {
    "hash": "dc5794907e8a9079b52e9a7d7cfe777b44285c61a5fc7203350978bfb3f4209d"
   }
  }
 },
 "nbformat": 4,
 "nbformat_minor": 5
}
