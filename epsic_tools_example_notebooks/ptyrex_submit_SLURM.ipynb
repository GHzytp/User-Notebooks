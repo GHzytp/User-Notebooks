{
 "cells": [
  {
   "cell_type": "markdown",
   "id": "b58dd9a0-58ac-4bca-8fd0-483b18bdfa7f",
   "metadata": {},
   "source": [
    "In this notebook one can:\n"
   ]
  },
  {
   "cell_type": "code",
   "execution_count": 54,
   "id": "bdd346c1-bdbf-4f9b-84ca-9021e632d528",
   "metadata": {},
   "outputs": [],
   "source": [
    "import sys\n",
    "sys.path.append('/dls_sw/e02/software/epsic_tools')\n",
    "import epsic_tools.api as ep\n",
    "import pprint\n",
    "import re\n",
    "import subprocess\n",
    "import os\n",
    "from __future__ import print_function,unicode_literals\n",
    "import subprocess\n",
    "import glob\n",
    "import json\n",
    "import h5py\n",
    "import numpy as np"
   ]
  },
  {
   "cell_type": "code",
   "execution_count": 55,
   "id": "57719b27-56d2-4e56-ab9a-42295ebb5446",
   "metadata": {},
   "outputs": [],
   "source": [
    "base_path = '/dls/e02/data/2023/cm33902-5/processing/Merlin/tile_graphene_ptycho_multi'\n",
    "template_json = '/dls/e02/data/2023/mg35540-1/processing/Merlin/graphene_mosaic_20Mx_x30_y80_pieze/20231004_162104/pty_out/inital_recons/Mosaic_graphene_20Mx_162104.json'"
   ]
  },
  {
   "cell_type": "code",
   "execution_count": 56,
   "id": "64f8b4ea-4d9a-4fc8-8cdc-3a5a6efaf0f1",
   "metadata": {},
   "outputs": [],
   "source": [
    "meta_files = glob.glob(base_path+'/*/*.hdf')"
   ]
  },
  {
   "cell_type": "code",
   "execution_count": 58,
   "id": "6e3adee2-da80-4108-9f01-f84ca3a7664d",
   "metadata": {},
   "outputs": [
    {
     "name": "stdout",
     "output_type": "stream",
     "text": [
      "0 /dls/e02/data/2023/cm33902-5/processing/Merlin/tile_graphene_ptycho_multi/20231031_120836/20231031_120836.hdf\n",
      "1 /dls/e02/data/2023/cm33902-5/processing/Merlin/tile_graphene_ptycho_multi/20231031_121557/20231031_121557.hdf\n",
      "2 /dls/e02/data/2023/cm33902-5/processing/Merlin/tile_graphene_ptycho_multi/20231031_122419/20231031_122419.hdf\n",
      "3 /dls/e02/data/2023/cm33902-5/processing/Merlin/tile_graphene_ptycho_multi/20231031_121659/20231031_121659.hdf\n",
      "4 /dls/e02/data/2023/cm33902-5/processing/Merlin/tile_graphene_ptycho_multi/20231031_122934/20231031_122934.hdf\n",
      "5 /dls/e02/data/2023/cm33902-5/processing/Merlin/tile_graphene_ptycho_multi/20231031_121351/20231031_121351.hdf\n",
      "6 /dls/e02/data/2023/cm33902-5/processing/Merlin/tile_graphene_ptycho_multi/20231031_121042/20231031_121042.hdf\n",
      "7 /dls/e02/data/2023/cm33902-5/processing/Merlin/tile_graphene_ptycho_multi/20231031_123037/20231031_123037.hdf\n",
      "8 /dls/e02/data/2023/cm33902-5/processing/Merlin/tile_graphene_ptycho_multi/20231031_121905/20231031_121905.hdf\n",
      "9 /dls/e02/data/2023/cm33902-5/processing/Merlin/tile_graphene_ptycho_multi/20231031_120219/20231031_120219.hdf\n",
      "10 /dls/e02/data/2023/cm33902-5/processing/Merlin/tile_graphene_ptycho_multi/20231031_120116/20231031_120116.hdf\n",
      "11 /dls/e02/data/2023/cm33902-5/processing/Merlin/tile_graphene_ptycho_multi/20231031_122111/20231031_122111.hdf\n",
      "12 /dls/e02/data/2023/cm33902-5/processing/Merlin/tile_graphene_ptycho_multi/20231031_123140/20231031_123140.hdf\n",
      "13 /dls/e02/data/2023/cm33902-5/processing/Merlin/tile_graphene_ptycho_multi/20231031_122831/20231031_122831.hdf\n",
      "14 /dls/e02/data/2023/cm33902-5/processing/Merlin/tile_graphene_ptycho_multi/20231031_120631/20231031_120631.hdf\n",
      "15 /dls/e02/data/2023/cm33902-5/processing/Merlin/tile_graphene_ptycho_multi/20231031_120940/20231031_120940.hdf\n"
     ]
    }
   ],
   "source": [
    "for i, file in enumerate(meta_files):\n",
    "    print(i, file)"
   ]
  },
  {
   "cell_type": "code",
   "execution_count": 59,
   "id": "827b3693-9b4b-4fc8-a271-3c54b89193de",
   "metadata": {},
   "outputs": [],
   "source": [
    "# Load json file and modify\n",
    "# config_file = '/dls/e02/data/2023/mg35540-1/processing/Merlin/graphene_mosaic_20Mx_x30_y80_pieze/20231004_105110/pty_out/inital_recons/Mosaic_graphene_20Mx_105110.json'\n",
    "with open(template_json,'r') as template_file:\n",
    "    pty_expt = json.load(template_file)"
   ]
  },
  {
   "cell_type": "code",
   "execution_count": 60,
   "id": "baafd823-ba01-4a51-b792-3b7003540f1d",
   "metadata": {},
   "outputs": [
    {
     "data": {
      "text/plain": [
       "{'base_dir': '/dls/e02/data/2023/mg35540-1/processing/Merlin/graphene_mosaic_20Mx_x30_y80_pieze/20231004_162104/pty_out/inital_recons',\n",
       " 'experiment': {'data': {'dask': 1,\n",
       "   'data_key': 'data/frames',\n",
       "   'data_path': '/dls/e02/data/2023/mg35540-1/processing/Merlin/graphene_mosaic_20Mx_x30_y80_pieze/20231004_162104/20231004_162104.hdf',\n",
       "   'dead_pixel_flag': 1,\n",
       "   'dead_pixel_path': '/dls/science/groups/e02/Frederick/DetecotrMasks/Mask11082023a.h5',\n",
       "   'flat_field_flag': 0,\n",
       "   'flat_field_path': 'None',\n",
       "   'load_flag': 1,\n",
       "   'meta_type': 'hdf'},\n",
       "  'detector': {'position': [0, 0, 0.124]},\n",
       "  'experiment_ID': '80keV',\n",
       "  'optics': {'lens': {'alpha': 0.0496,\n",
       "    'defocus': [-8.500000000000005e-09, -8.500000000000005e-09],\n",
       "    'use': 1}},\n",
       "  'sample': {'position': [0, 0, 0]}},\n",
       " 'process': {'PIE': {'decay': [1, 1, 1],\n",
       "   'detector': {'border': [0, 0], 'border_float': 1, 'upsample': [1, 1]},\n",
       "   'iterations': 200,\n",
       "   'object': {'alpha': 0.1, 'end': -1, 'start': 1},\n",
       "   'probe': {'alpha': 0.2, 'end': -1, 'n': 1, 'start': 1},\n",
       "   'scan': {'area': [-1, -1],\n",
       "    'end': -1,\n",
       "    'shift radius': 2,\n",
       "    'shift trials': 1,\n",
       "    'start': -10,\n",
       "    'tilt radius': 1,\n",
       "    'tilt trials': 1},\n",
       "   'source': {'alpha': 1, 'end': -1, 'start': 1, 'sx': 7, 'sy': 1}},\n",
       "  'common': {'detector': {'bin': [2, 2],\n",
       "    'crop': [512, 512],\n",
       "    'mask_flag': 0,\n",
       "    'min_max': [0, 512],\n",
       "    'name': 'pty_data',\n",
       "    'optic_axis': [-1, -1],\n",
       "    'orientation': '00',\n",
       "    'pix_pitch': [5.5e-05, 5.5e-05]},\n",
       "   'object': {'load_flag': 0, 'path': 'None'},\n",
       "   'probe': {'load_flag': 0,\n",
       "    'path': '/dls/e02/data/2023/cm33902-3/processing/Merlin/graphene_600C/20230531_160359/pty_out/inital_recons/cm33902-3_160359_0_0_20230614-102547.hdf'},\n",
       "   'scan': {'N': [255, 255],\n",
       "    'dR': [3.90625e-11, 3.90625e-11],\n",
       "    'fast_axis': 1,\n",
       "    'load_flag': 0,\n",
       "    'orientation': '11',\n",
       "    'path': 'None',\n",
       "    'region': [0.25, 0.75, 0.25, 0.75, 1, 1],\n",
       "    'rotation': 238.5,\n",
       "    'scale': [1.0, 1.0],\n",
       "    'type': 'tv'},\n",
       "   'source': {'energy': [80000.0], 'flux': -1, 'radiation': 'electron'}},\n",
       "  'cores': 4,\n",
       "  'gpu_flag': 1,\n",
       "  'interaction': 'matplotlib',\n",
       "  'save_dir': '/dls/e02/data/2023/mg35540-1/processing/Merlin/graphene_mosaic_20Mx_x30_y80_pieze/20231004_162104/pty_out/inital_recons',\n",
       "  'save_interval': 5,\n",
       "  'save_prefix': 'Mosaic_graphene_20Mx_162104',\n",
       "  'subset_type': 'random_blocks'}}"
      ]
     },
     "execution_count": 60,
     "metadata": {},
     "output_type": "execute_result"
    }
   ],
   "source": [
    "pty_expt"
   ]
  },
  {
   "cell_type": "code",
   "execution_count": 61,
   "id": "2f16580a-f0ea-4d68-b300-b04fbf39bdc5",
   "metadata": {},
   "outputs": [],
   "source": [
    "def gen_config(template_json, dest_path, config_name, meta_file_path):\n",
    "    config_file = dest_path + '/' + config_name + '.json'\n",
    "\n",
    "    with open(template_json,'r') as template_file:\n",
    "        pty_expt = json.load(template_file)\n",
    "    data_path = meta_file_path\n",
    "\n",
    "    pty_expt['base_dir'] = dest_path\n",
    "    pty_expt['process']['save_dir'] = dest_path\n",
    "    pty_expt['experiment']['data']['data_path'] = data_path\n",
    "\n",
    "    # pty_expt['process']['common']['scan']['rotation'] = rotation_angle\n",
    "\n",
    "\n",
    "    # pty_expt['process']['common']['scan']['N'] = scan_shape\n",
    "    # pty_expt['experiment']['detector']['position'] = [0, 0, camera_length]\n",
    "    # pty_expt['experiment']['optics']['lens']['alpha'] = conv_angle\n",
    "\n",
    "\n",
    "    with h5py.File(meta_file_path,'r') as microscope_meta:\n",
    "        meta_values = microscope_meta['metadata']\n",
    "        pty_expt['process']['common']['scan']['N'] = [int(meta_values['4D_shape'][:2][0]), int(meta_values['4D_shape'][:2][1])]\n",
    "        pty_expt['process']['common']['source']['energy'] = [float(np.array(meta_values['ht_value(V)']))]\n",
    "        pty_expt['process']['PIE']['source']['sx'] = 3\n",
    "        # pty_expt['process']['common']['scan']['dR'] = [float(np.array(meta_values['step_size(m)'])), float(np.array(meta_values['step_size(m)']))]\n",
    "        # pty_expt['experiment']['optics']['lens']['alpha'] = 2 * float(np.array(meta_values['convergence_semi-angle(rad)']))\n",
    "        # pty_expt['experiment']['optics']['lens']['defocus'] = [float(np.array(meta_values['defocus(nm)'])*1e-9), float(np.array(meta_values['defocus(nm)'])*1e-9)]\n",
    "        pty_expt['process']['save_prefix'] = config_name\n",
    "\n",
    " \n",
    "\n",
    "    \n",
    "    with open(config_file,'w') as f:\n",
    "        json.dump(pty_expt, f, indent=4)"
   ]
  },
  {
   "cell_type": "code",
   "execution_count": 62,
   "id": "99afd6b7-666f-4e57-8d1d-03782f0a7592",
   "metadata": {},
   "outputs": [],
   "source": [
    "file_index = 10"
   ]
  },
  {
   "cell_type": "code",
   "execution_count": 64,
   "id": "1bd8519d-4089-4baf-849d-94343a127cc7",
   "metadata": {},
   "outputs": [],
   "source": [
    "base_dir = os.path.dirname(meta_files[file_index])\n",
    "ptyrex_dir = os.path.join(base_dir, 'ptyrex_recon')\n",
    "if not os.path.exists(ptyrex_dir):\n",
    "    os.makedirs(ptyrex_dir)\n",
    "time_stamp = os.path.basename(meta_files[file_index]).split('.')[0]\n",
    "gen_config(template_json, ptyrex_dir, time_stamp, meta_files[file_index])"
   ]
  },
  {
   "cell_type": "code",
   "execution_count": 65,
   "id": "daa73296-2561-4760-b1bc-10e4c6cca373",
   "metadata": {},
   "outputs": [
    {
     "data": {
      "text/plain": [
       "'20231031_120116'"
      ]
     },
     "execution_count": 65,
     "metadata": {},
     "output_type": "execute_result"
    }
   ],
   "source": [
    "time_stamp"
   ]
  },
  {
   "cell_type": "code",
   "execution_count": 66,
   "id": "b1e6c4ac",
   "metadata": {},
   "outputs": [],
   "source": [
    "# Create a bash script to submit to SLURM \n",
    "bash_script_path = os.path.join(ptyrex_dir, 'cluster_submit.sh')\n",
    "new_json_path = os.path.join(ptyrex_dir, f'{time_stamp}.json')\n",
    "with open (bash_script_path, 'w') as f:\n",
    "    f.write('''#!/usr/bin/env bash\n",
    "#SBATCH --partition=cs05r\n",
    "#SBATCH --job-name=ptyrex_recon\n",
    "#SBATCH --nodes=1\n",
    "#SBATCH --ntasks-per-node=4\n",
    "#SBATCH --cpus-per-task=1\n",
    "#SBATCH --time=08:00:00\n",
    "#SBATCH --gpus-per-node=4\n",
    "#SBATCH --mem=60G\n",
    "'''\n",
    "f\"#SBATCH --error={ptyrex_dir}{os.sep}error_%j.out\\n\"\n",
    "f\"#SBATCH --output={ptyrex_dir}{os.sep}output_%j.out\\n\"\n",
    "f\"module load ptyrex/latest\\n\"\n",
    "f\"mpirun -np 4 ptyrex_recon -c {new_json_path}\\n\"\n",
    "           )"
   ]
  },
  {
   "cell_type": "code",
   "execution_count": 67,
   "id": "4940fea2-bd17-4628-83da-99f8405cc9c2",
   "metadata": {},
   "outputs": [
    {
     "name": "stdout",
     "output_type": "stream",
     "text": [
      "\n",
      " _______   __        ______         __    __  _______    ______\n",
      "|       \\ |  \\      /      \\       |  \\  |  \\|       \\  /      \\\n",
      "| $$$$$$$\\| $$     |  $$$$$$\\      | $$  | $$| $$$$$$$\\|  $$$$$$\\\n",
      "| $$  | $$| $$     | $$___\\$$      | $$__| $$| $$__/ $$| $$   \\$$\n",
      "| $$  | $$| $$      \\$$    \\       | $$    $$| $$    $$| $$\n",
      "| $$  | $$| $$      _\\$$$$$$\\      | $$$$$$$$| $$$$$$$ | $$   __\n",
      "| $$__/ $$| $$_____|  \\__| $$      | $$  | $$| $$      | $$__/  \\\n",
      "| $$    $$| $$     \\\\$$    $$      | $$  | $$| $$       \\$$    $$\n",
      " \\$$$$$$$  \\$$$$$$$$ \\$$$$$$        \\$$   \\$$ \\$$        \\$$$$$$\n",
      "\n",
      "Welcome To Wilson - The DLS Slurm Cluster\n",
      "For Help or Support - Visit: https://schelpdesk.diamond.ac.uk\n",
      "\n",
      "Please Refrain From Running Any Tasks Directly On This Node - It Is A Submission Node Only\n",
      "\n",
      "For jobs needing to access the GPFS02 filesystem please use the cs04r partition, for the GPFS03 filesystem please use the cs05r partition status\n",
      "\n",
      "To get an interactive session on a GPFS02 node enter \"iact02\", for a GPFS03 node enter \"iact03\"\n",
      "Last login: Tue Oct 31 14:10:39 2023 from cs05r-sc-cloud-15.diamond.ac.uk\n",
      "\n",
      "ls .\n",
      "echo END\n",
      "sbatch /dls/e02/data/2023/cm33902-5/processing/Merlin/tile_graphene_ptycho_multi/20231031_120116/ptyrex_recon/cluster_submit.sh\n",
      "uptime\n",
      "logout\n",
      "\u001b]0;eha56862@cs04r-sc-vserv-300:~\u0007\u001b[32m[\u001b[m\u001b[31meha56862\u001b[m\u001b[33m@\u001b[m\u001b[32mcs04r-sc-vserv-300\u001b[m:\u001b[36m~\u001b[m\u001b[32m]\u001b[33m\u001b[00m\u001b[m\u001b[32;47m$\u001b[m ls .\n",
      ",bashrc_local               \u001b[0m\u001b[01;34mPictures\u001b[0m\n",
      "\u001b[01;34mDAWN_2.30\u001b[0m                   \u001b[01;34mprivatemodules\u001b[0m\n",
      "\u001b[01;34mDAWN_2.31\u001b[0m                   \u001b[01;34mPublic\u001b[0m\n",
      "\u001b[01;34mDAWN_2.32\u001b[0m                   \u001b[01;34mpy4DSTEM\u001b[0m\n",
      "\u001b[01;34mDesktop\u001b[0m                     \u001b[01;34mPycharmProjects\u001b[0m\n",
      "\u001b[01;34mdls-bxflow-epsic-workflows\u001b[0m  \u001b[01;32mqsub_to_submit.sh~\u001b[0m\n",
      "\u001b[01;34mDocuments\u001b[0m                   \u001b[01;32mrclone\u001b[0m\n",
      "\u001b[01;34mDownloads\u001b[0m                   slurm-1195997.out\n",
      "epsic3.10.txt               \u001b[01;34mTemplates\u001b[0m\n",
      "epsic3.7.txt                test.is_done\n",
      "epsic3p10_env.singularity   tf_hyperspy_mamba.singularity\n",
      "hyperspy.singularity        tf_hyperspy.singularity\n",
      "multibox.yaml               \u001b[01;32mThumbs.db\u001b[0m\n",
      "\u001b[01;34mMusic\u001b[0m                       \u001b[01;34mVideos\u001b[0m\n",
      "\u001b[01;34mperl5\u001b[0m                       \u001b[01;34mworkspace\u001b[0m\n",
      "\u001b]0;eha56862@cs04r-sc-vserv-300:~\u0007\u001b[32m[\u001b[m\u001b[31meha56862\u001b[m\u001b[33m@\u001b[m\u001b[32mcs04r-sc-vserv-300\u001b[m:\u001b[36m~\u001b[m\u001b[32m]\u001b[33m\u001b[00m\u001b[m\u001b[32;47m$\u001b[m echo END\n",
      "\u001b]0;eha56862@cs04r-sc-vserv-300:~\u0007\u001b[32m[\u001b[m\u001b[31meha56862\u001b[m\u001b[33m@\u001b[m\u001b[32mcs04r-sc-vserv-300\u001b[m:\u001b[36m~\u001b[m\u001b[32m]\u001b[33m\u001b[00m\u001b[m\u001b[32;47m$\u001b[m sbatch /dls/e02/data/2023/cm33902-5/processing/M\n",
      "Merlin/tile_graphene_ptycho_multi/20231031_120116/ptyrex_recon/cluster_submit.sh \n",
      "\u001b[A\u001b[C\u001b[C\u001b[C\u001b[C\u001b[C\u001b[C\u001b[C\u001b[C\u001b[C\u001b[C\u001b[C\u001b[C\u001b[C\u001b[C\u001b[C\u001b[C\u001b[C\u001b[C\u001b[C\u001b[C\u001b[C\u001b[C\u001b[C\u001b[C\u001b[C\u001b[C\u001b[C\u001b[C\u001b[C\u001b[C\u001b[C\u001b[C\u001b[C\u001b[C\u001b[C\u001b[C\u001b[C\u001b[C\u001b[C\u001b[C\u001b[C\u001b[C\u001b[C\u001b[C\u001b[C\u001b[C\u001b[C\u001b[C\u001b[C\u001b[C\u001b[C\u001b[C\u001b[C\u001b[C\u001b[C\u001b[C\u001b[C\u001b[C\u001b[C\u001b[C\u001b[C\u001b[C\u001b[C\u001b[C\u001b[C\u001b[C\u001b[C\u001b[C\u001b[C\u001b[C\u001b[C\u001b[C\u001b[C\u001b[C\u001b[C\u001b[C\u001b[C\u001b[C\u001b[C\u001b[Kh\n",
      "Submitted batch job 1481520\n",
      "\u001b]0;eha56862@cs04r-sc-vserv-300:~\u0007\u001b[32m[\u001b[m\u001b[31meha56862\u001b[m\u001b[33m@\u001b[m\u001b[32mcs04r-sc-vserv-300\u001b[m:\u001b[36m~\u001b[m\u001b[32m]\u001b[33m\u001b[00m\u001b[m\u001b[32;47m$\u001b[m uptime\n",
      " 14:30:12 up 68 days, 23:34, 53 users,  load average: 0.09, 0.05, 0.01\n",
      "\u001b]0;eha56862@cs04r-sc-vserv-300:~\u0007\u001b[32m[\u001b[m\u001b[31meha56862\u001b[m\u001b[33m@\u001b[m\u001b[32mcs04r-sc-vserv-300\u001b[m:\u001b[36m~\u001b[m\u001b[32m]\u001b[33m\u001b[00m\u001b[m\u001b[32;47m$\u001b[m logout\n"
     ]
    },
    {
     "name": "stderr",
     "output_type": "stream",
     "text": [
      "Connection to wilson closed.\n"
     ]
    }
   ],
   "source": [
    "\n",
    "sshProcess = subprocess.Popen(['ssh',\n",
    "                               '-tt',\n",
    "                               'wilson'],\n",
    "                               stdin=subprocess.PIPE, \n",
    "                               stdout = subprocess.PIPE,\n",
    "                               universal_newlines=True,\n",
    "                               bufsize=0)\n",
    "sshProcess.stdin.write(\"ls .\\n\")\n",
    "sshProcess.stdin.write(\"echo END\\n\")\n",
    "sshProcess.stdin.write(f\"sbatch {bash_script_path}\\n\")\n",
    "sshProcess.stdin.write(\"uptime\\n\")\n",
    "sshProcess.stdin.write(\"logout\\n\")\n",
    "sshProcess.stdin.close()\n",
    "\n",
    "\n",
    "for line in sshProcess.stdout:\n",
    "    if line == \"END\\n\":\n",
    "        break\n",
    "    print(line,end=\"\")\n",
    "\n",
    "#to catch the lines up to logout\n",
    "for line in  sshProcess.stdout: \n",
    "    print(line,end=\"\")"
   ]
  },
  {
   "cell_type": "code",
   "execution_count": 68,
   "id": "fae542dc-a4c9-49e9-a456-36d47a29413c",
   "metadata": {},
   "outputs": [
    {
     "data": {
      "text/plain": [
       "'/dls/science/groups/e02/Mohsen/code/jupyterhub_active/SLURM_notebook_submit'"
      ]
     },
     "execution_count": 68,
     "metadata": {},
     "output_type": "execute_result"
    }
   ],
   "source": [
    "pwd"
   ]
  },
  {
   "cell_type": "code",
   "execution_count": null,
   "id": "d650409d-ce93-481a-97d0-15c3c5ce3632",
   "metadata": {},
   "outputs": [],
   "source": []
  }
 ],
 "metadata": {
  "kernelspec": {
   "display_name": "Python 3.10 - EPSIC [DLS Conda]",
   "language": "python",
   "name": "conda-env-DLS_Conda-epsic3.10-kernel.json"
  },
  "language_info": {
   "codemirror_mode": {
    "name": "ipython",
    "version": 3
   },
   "file_extension": ".py",
   "mimetype": "text/x-python",
   "name": "python",
   "nbconvert_exporter": "python",
   "pygments_lexer": "ipython3",
   "version": "3.10.11"
  }
 },
 "nbformat": 4,
 "nbformat_minor": 5
}
