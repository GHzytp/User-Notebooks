{
 "cells": [
  {
   "cell_type": "markdown",
   "id": "b58dd9a0-58ac-4bca-8fd0-483b18bdfa7f",
   "metadata": {},
   "source": [
    "In this notebook one can:\n",
    "- load a notebook's settings as a dictionary\n",
    "- change it \n",
    "- save it as a new notebook \n",
    "- submit it as a job to SLURM cluster. "
   ]
  },
  {
   "cell_type": "code",
   "execution_count": 1,
   "id": "bdd346c1-bdbf-4f9b-84ca-9021e632d528",
   "metadata": {},
   "outputs": [],
   "source": [
    "import sys\n",
    "sys.path.append('/dls_sw/e02/software/epsic_tools')\n",
    "import epsic_tools.api as ep\n",
    "import pprint\n",
    "import re\n",
    "import subprocess\n",
    "import os\n",
    "from __future__ import print_function,unicode_literals\n",
    "import subprocess"
   ]
  },
  {
   "cell_type": "code",
   "execution_count": 2,
   "id": "06978039-4b67-4ae2-a1b7-be2a9fa173ea",
   "metadata": {},
   "outputs": [],
   "source": [
    "starting_notebook_path = '/dls/science/groups/e02/Mohsen/code/jupyterhub_active/SLURM_notebook_submit'\n",
    "starting_notebook_name = 'test_notebook'\n",
    "nb = ep.notebook_utils.NotebookHelper(starting_notebook_path, starting_notebook_name)"
   ]
  },
  {
   "cell_type": "code",
   "execution_count": 3,
   "id": "27eba8ff-6918-41fa-8159-0d6d4d7fa380",
   "metadata": {},
   "outputs": [
    {
     "name": "stdout",
     "output_type": "stream",
     "text": [
      "{'global_save_2D_azimuthal_projection': {'explanation': ' Set to true to save '\n",
      "                                                        'the 2D r-theta '\n",
      "                                                        'projectionof the full '\n",
      "                                                        '4D data set - this '\n",
      "                                                        'will be several GB.',\n",
      "                                         'prompt': 'save r-theta projection.',\n",
      "                                         'value': 'False'},\n",
      " 'global_use_binned_data': {'explanation': 'Perform analysis on real space '\n",
      "                                           'binned data.',\n",
      "                            'prompt': 'use binned data',\n",
      "                            'value': 'False'},\n",
      " 'remex_hints': {'explanation': 'Hints to the workflow engine regarding '\n",
      "                                'cluster processing. Please consult the '\n",
      "                                'beamline staff before changing this. Valid '\n",
      "                                'choices are: standard_science_cluster, '\n",
      "                                'ptypy_mpi, ptyrex_mpi, local',\n",
      "                 'prompt': 'remote execution hints',\n",
      "                 'value': 'slurm'}}\n"
     ]
    }
   ],
   "source": [
    "old_settings = nb.get_settings(1) # settings should be cell index 1\n",
    "\n",
    "pprint.pprint(old_settings)"
   ]
  },
  {
   "cell_type": "code",
   "execution_count": 4,
   "id": "69f19541-a7e5-4e0a-8f03-d26206a53467",
   "metadata": {},
   "outputs": [
    {
     "name": "stdout",
     "output_type": "stream",
     "text": [
      "{'global_save_2D_azimuthal_projection': True,\n",
      " 'global_use_binned_data': {'explanation': 'Perform analysis on real space '\n",
      "                                           'binned data.',\n",
      "                            'prompt': 'use binned data',\n",
      "                            'value': 'False'},\n",
      " 'remex_hints': {'explanation': 'Hints to the workflow engine regarding '\n",
      "                                'cluster processing. Please consult the '\n",
      "                                'beamline staff before changing this. Valid '\n",
      "                                'choices are: standard_science_cluster, '\n",
      "                                'ptypy_mpi, ptyrex_mpi, local',\n",
      "                 'prompt': 'remote execution hints',\n",
      "                 'value': 'slurm'}}\n"
     ]
    }
   ],
   "source": [
    "# make some changes in new setting\n",
    "new_setting = old_settings.copy()\n",
    "new_setting['global_save_2D_azimuthal_projection'] = True\n",
    "pprint.pprint(new_setting)"
   ]
  },
  {
   "cell_type": "code",
   "execution_count": 6,
   "id": "4e67a029-8c1a-4650-af1d-aef14b37846e",
   "metadata": {},
   "outputs": [],
   "source": [
    "# Save a new version of the notebook with new settings:\n",
    "save_path = '/dls/science/groups/e02/Mohsen/code/jupyterhub_active/SLURM_notebook_submit/test_2'\n",
    "new_notebook_path = os.path.join(save_path, 'new_version.ipynb')\n",
    "nb.set_settings(new_setting, new_notebook_path)"
   ]
  },
  {
   "cell_type": "code",
   "execution_count": 7,
   "id": "33185494-127a-4a00-93b1-0073ecb35980",
   "metadata": {},
   "outputs": [
    {
     "name": "stdout",
     "output_type": "stream",
     "text": [
      "new notebook path: /dls/science/groups/e02/Mohsen/code/jupyterhub_active/SLURM_notebook_submit/test_2/new_version.ipynb\n"
     ]
    }
   ],
   "source": [
    "print(f'new notebook path: {new_notebook_path}')"
   ]
  },
  {
   "cell_type": "code",
   "execution_count": 8,
   "id": "b1e6c4ac",
   "metadata": {},
   "outputs": [],
   "source": [
    "# Create a bash script to submit to SLURM \n",
    "bash_script_path = os.path.join(save_path, 'cluster_submit.sh')\n",
    "with open (bash_script_path, 'w') as f:\n",
    "    f.write('''#!/usr/bin/env bash\n",
    "#SBATCH --partition=cs04r\n",
    "#SBATCH --job-name epsic_notebook\n",
    "#SBATCH --time=05:00:00\n",
    "#SBATCH --nodes=1\n",
    "#SBATCH --tasks-per-node=1\n",
    "#SBATCH --cpus-per-task=4\n",
    "#SBATCH --mem=60G\n",
    "'''\n",
    "f\"#SBATCH --error={save_path}{os.sep}error_%j.out\\n\"\n",
    "f\"#SBATCH --output={save_path}{os.sep}output_%j.out\\n\"\n",
    "f\"module load python/epsic3.10\\n\"\n",
    "f\"jupyter nbconvert --to notebook --inplace --ClearMetadataPreprocessor.enabled=True {new_notebook_path}\\n\"\n",
    "f\"jupyter nbconvert --to notebook --allow-errors --execute {new_notebook_path}\\n\"\n",
    "           )"
   ]
  },
  {
   "cell_type": "code",
   "execution_count": 9,
   "id": "4940fea2-bd17-4628-83da-99f8405cc9c2",
   "metadata": {},
   "outputs": [
    {
     "name": "stdout",
     "output_type": "stream",
     "text": [
      "\n",
      " _______   __        ______         __    __  _______    ______\n",
      "|       \\ |  \\      /      \\       |  \\  |  \\|       \\  /      \\\n",
      "| $$$$$$$\\| $$     |  $$$$$$\\      | $$  | $$| $$$$$$$\\|  $$$$$$\\\n",
      "| $$  | $$| $$     | $$___\\$$      | $$__| $$| $$__/ $$| $$   \\$$\n",
      "| $$  | $$| $$      \\$$    \\       | $$    $$| $$    $$| $$\n",
      "| $$  | $$| $$      _\\$$$$$$\\      | $$$$$$$$| $$$$$$$ | $$   __\n",
      "| $$__/ $$| $$_____|  \\__| $$      | $$  | $$| $$      | $$__/  \\\n",
      "| $$    $$| $$     \\\\$$    $$      | $$  | $$| $$       \\$$    $$\n",
      " \\$$$$$$$  \\$$$$$$$$ \\$$$$$$        \\$$   \\$$ \\$$        \\$$$$$$\n",
      "\n",
      "Welcome To Wilson - The DLS Slurm Cluster\n",
      "For Help or Support - Visit: https://schelpdesk.diamond.ac.uk\n",
      "\n",
      "Please Refrain From Running Any Tasks Directly On This Node - It Is A Submission Node Only\n",
      "\n",
      "For jobs needing to access the GPFS02 filesystem please use the cs04r partition, for the GPFS03 filesystem please use the cs05r partition status\n",
      "\n",
      "To get an interactive session on a GPFS02 node enter \"iact02\", for a GPFS03 node enter \"iact03\"\n",
      "Last login: Wed Oct 18 16:36:56 2023 from cs05r-sc-cloud-15.diamond.ac.uk\n",
      "\n",
      "ls .\n",
      "echo END\n",
      "sbatch /dls/science/groups/e02/Mohsen/code/jupyterhub_active/SLURM_notebook_submit/test_2/cluster_submit.sh\n",
      "uptime\n",
      "logout\n",
      "\u001b]0;eha56862@cs04r-sc-vserv-300:~\u0007\u001b[32m[\u001b[m\u001b[31meha56862\u001b[m\u001b[33m@\u001b[m\u001b[32mcs04r-sc-vserv-300\u001b[m:\u001b[36m~\u001b[m\u001b[32m]\u001b[33m\u001b[00m\u001b[m\u001b[32;47m$\u001b[m ls .\n",
      ",bashrc_local               hyperspy.singularity  \u001b[0m\u001b[01;32mrclone\u001b[0m\n",
      "\u001b[01;34mDAWN_2.30\u001b[0m                   multibox.yaml         slurm-1195997.out\n",
      "\u001b[01;34mDAWN_2.31\u001b[0m                   \u001b[01;34mMusic\u001b[0m                 \u001b[01;34mTemplates\u001b[0m\n",
      "\u001b[01;34mDesktop\u001b[0m                     \u001b[01;34mperl5\u001b[0m                 test.is_done\n",
      "\u001b[01;34mdls-bxflow-epsic-workflows\u001b[0m  \u001b[01;34mPictures\u001b[0m              tf_hyperspy_mamba.singularity\n",
      "\u001b[01;34mDocuments\u001b[0m                   \u001b[01;34mprivatemodules\u001b[0m        tf_hyperspy.singularity\n",
      "\u001b[01;34mDownloads\u001b[0m                   \u001b[01;34mPublic\u001b[0m                \u001b[01;32mThumbs.db\u001b[0m\n",
      "epsic3.10.txt               \u001b[01;34mpy4DSTEM\u001b[0m              \u001b[01;34mVideos\u001b[0m\n",
      "epsic3.7.txt                \u001b[01;34mPycharmProjects\u001b[0m       \u001b[01;34mworkspace\u001b[0m\n",
      "epsic3p10_env.singularity   \u001b[01;32mqsub_to_submit.sh~\u001b[0m\n",
      "\u001b]0;eha56862@cs04r-sc-vserv-300:~\u0007\u001b[32m[\u001b[m\u001b[31meha56862\u001b[m\u001b[33m@\u001b[m\u001b[32mcs04r-sc-vserv-300\u001b[m:\u001b[36m~\u001b[m\u001b[32m]\u001b[33m\u001b[00m\u001b[m\u001b[32;47m$\u001b[m echo END\n",
      "\u001b]0;eha56862@cs04r-sc-vserv-300:~\u0007\u001b[32m[\u001b[m\u001b[31meha56862\u001b[m\u001b[33m@\u001b[m\u001b[32mcs04r-sc-vserv-300\u001b[m:\u001b[36m~\u001b[m\u001b[32m]\u001b[33m\u001b[00m\u001b[m\u001b[32;47m$\u001b[m sbatch /dls/science/groups/e02/Mohsen/code/jupyt\n",
      "terhub_active/SLURM_notebook_submit/test_2/cluster_submit.sh\n",
      "Submitted batch job 1336502\n",
      "\u001b]0;eha56862@cs04r-sc-vserv-300:~\u0007\u001b[32m[\u001b[m\u001b[31meha56862\u001b[m\u001b[33m@\u001b[m\u001b[32mcs04r-sc-vserv-300\u001b[m:\u001b[36m~\u001b[m\u001b[32m]\u001b[33m\u001b[00m\u001b[m\u001b[32;47m$\u001b[m uptime\n",
      " 13:07:25 up 56 days, 21:12, 70 users,  load average: 0.00, 0.00, 0.00\n",
      "\u001b]0;eha56862@cs04r-sc-vserv-300:~\u0007\u001b[32m[\u001b[m\u001b[31meha56862\u001b[m\u001b[33m@\u001b[m\u001b[32mcs04r-sc-vserv-300\u001b[m:\u001b[36m~\u001b[m\u001b[32m]\u001b[33m\u001b[00m\u001b[m\u001b[32;47m$\u001b[m logout\n"
     ]
    },
    {
     "name": "stderr",
     "output_type": "stream",
     "text": [
      "Connection to wilson closed.\r\n"
     ]
    }
   ],
   "source": [
    "\n",
    "sshProcess = subprocess.Popen(['ssh',\n",
    "                               '-tt',\n",
    "                               'wilson'],\n",
    "                               stdin=subprocess.PIPE, \n",
    "                               stdout = subprocess.PIPE,\n",
    "                               universal_newlines=True,\n",
    "                               bufsize=0)\n",
    "sshProcess.stdin.write(\"ls .\\n\")\n",
    "sshProcess.stdin.write(\"echo END\\n\")\n",
    "sshProcess.stdin.write(f\"sbatch {bash_script_path}\\n\")\n",
    "sshProcess.stdin.write(\"uptime\\n\")\n",
    "sshProcess.stdin.write(\"logout\\n\")\n",
    "sshProcess.stdin.close()\n",
    "\n",
    "\n",
    "for line in sshProcess.stdout:\n",
    "    if line == \"END\\n\":\n",
    "        break\n",
    "    print(line,end=\"\")\n",
    "\n",
    "#to catch the lines up to logout\n",
    "for line in  sshProcess.stdout: \n",
    "    print(line,end=\"\")"
   ]
  },
  {
   "cell_type": "code",
   "execution_count": null,
   "id": "fae542dc-a4c9-49e9-a456-36d47a29413c",
   "metadata": {},
   "outputs": [],
   "source": []
  }
 ],
 "metadata": {
  "kernelspec": {
   "display_name": "Python 3.10 - EPSIC [DLS Conda]",
   "language": "python",
   "name": "conda-env-DLS_Conda-epsic3.10-kernel.json"
  },
  "language_info": {
   "codemirror_mode": {
    "name": "ipython",
    "version": 3
   },
   "file_extension": ".py",
   "mimetype": "text/x-python",
   "name": "python",
   "nbconvert_exporter": "python",
   "pygments_lexer": "ipython3",
   "version": "3.10.11"
  }
 },
 "nbformat": 4,
 "nbformat_minor": 5
}
