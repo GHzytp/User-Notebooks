{
 "cells": [
  {
   "cell_type": "code",
   "execution_count": null,
   "id": "2091ffab",
   "metadata": {},
   "outputs": [],
   "source": [
    "%matplotlib widget \n",
    "import matplotlib.pyplot as plt\n",
    "import hyperspy.api as hs\n",
    "from sklearn.cluster import DBSCAN\n",
    "from skimage import filters\n",
    "import numpy as np\n",
    "from skimage.morphology import dilation\n",
    "from skimage.morphology import disk\n",
    "from scipy.signal import find_peaks\n",
    "import os\n",
    "import py4DSTEM\n",
    "print(py4DSTEM.__file__)\n",
    "print(py4DSTEM.__version__)\n",
    "# py4DSTEM.utils.configuration_checker.check_cupy_gpu(True)\n",
    "# py4DSTEM.utils.check_config()\n",
    "from scipy.ndimage import gaussian_filter\n",
    "import h5py\n",
    "from py4DSTEM.visualize import show\n",
    "import sys, io\n",
    "sys.path.append('/dls_sw/e02/software/epsic_tools')\n",
    "import epsic_tools.api as epsic\n",
    "import glob\n",
    "import json\n",
    "\n",
    "### Logging set-up\n",
    "def console_handler(stream='stdout'):\n",
    "    \"\"\"\n",
    "    Create a handler for logging to the original console.\n",
    "    \"\"\"\n",
    "    assert stream in {'stdout', 'stderr'}, \"stream must be one of 'stdin' or 'stdout'\"\n",
    "    # Get the file handle of the original std stream.\n",
    "    fh = getattr(sys, stream)._original_stdstream_copy\n",
    "    # Create a writable IO stream.\n",
    "    stream = io.TextIOWrapper(io.FileIO(fh, 'w'))\n",
    "    # Set up a stream handler.\n",
    "    return logging.StreamHandler(stream)\n",
    "\n",
    "import logging\n",
    "\n",
    "logger = logging.getLogger('myLogger')\n",
    "logger.setLevel(logging.DEBUG)\n",
    "logger.addHandler(console_handler())\n",
    "\n",
    "logger.debug(f\"py4DSTEM.__file__ is {py4DSTEM.__file__}\")\n",
    "logger.debug(f\"py4DSTEM.__version__ is {py4DSTEM.__version__}\")\n"
   ]
  },
  {
   "cell_type": "markdown",
   "id": "a2f528e1-e4c8-419a-9a54-51b9a1902df9",
   "metadata": {},
   "source": [
    "\n",
    "fill_cross=0 \n",
    "crop_q=130\n",
    "raw_data_path=/dls/tmp/ePSIC_User/mg35544-Bozzini/Merlin/aged_cryo/20231205_124302/20231205_124302_data.hdf5\n",
    "v_min=0.01\n",
    "v_max=0.99\n",
    "bin_factor=2\n",
    "synthetic_probe=1\n",
    "syn_probe_rad=4\n",
    "syn_probe_width=4\n",
    "probe_kernel_pre=0.5 \n",
    "probe_kernel_post=5\n",
    "peak_finding_minAbsoluteIntensity=0.25\n",
    "peak_finding_minPeakSpacing=5\n",
    "probe_path=\n",
    "hot_pix_thresh=0.1\n",
    "load_prepared_data=0\n",
    "prepared_data_path=\n",
    "save_path_name=Segemntation_test_v0.14.14"
   ]
  },
  {
   "cell_type": "code",
   "execution_count": null,
   "id": "5388ace4-292f-4d07-aeab-d100bdc7e7a2",
   "metadata": {},
   "outputs": [],
   "source": [
    "fill_cross='0'\n",
    "crop_q=''#'130'\n",
    "raw_data_path='/dls/e02/data/2024/mg37302-1/processing/Merlin/SP41/20240418_151824/20240418_151824_data.hdf5'\n",
    "v_min='0.01'\n",
    "v_max='0.99'\n",
    "bin_factor='2'\n",
    "synthetic_probe='1'\n",
    "syn_probe_rad='4'\n",
    "syn_probe_width='4'\n",
    "probe_kernel_pre='0.5'\n",
    "probe_kernel_post='5'\n",
    "peak_finding_minAbsoluteIntensity='0.25'\n",
    "peak_finding_minPeakSpacing='5'\n",
    "probe_path=''\n",
    "hot_pix_thresh='0.1'\n",
    "load_prepared_data='0'\n",
    "prepared_data_path=''\n",
    "save_path_name='manual_test'#'testing_SLURM_submit'\n",
    "Au_calib_path = r'/dls/e02/data/2024/mg37302-1/processing/Merlin/Au_xgrating'"
   ]
  },
  {
   "cell_type": "markdown",
   "id": "089939c1-0a56-4d00-8d7e-130d4153ba77",
   "metadata": {},
   "source": [
    "# Calibration values"
   ]
  },
  {
   "cell_type": "code",
   "execution_count": null,
   "id": "43a723f1-bcf0-44a0-941f-e3c4d65a560d",
   "metadata": {},
   "outputs": [],
   "source": [
    "#load CL calibrations\n",
    "json_calibration_files = glob.glob(Au_calib_path + '/**/*.json', recursive = True)\n",
    "\n",
    "cal_dict_list = []\n",
    "for this_cal_file in json_calibration_files:\n",
    "    print(this_cal_file)\n",
    "    with open(this_cal_file, 'r') as fp:\n",
    "        cal_dict_list.append(json.load(fp))"
   ]
  },
  {
   "cell_type": "code",
   "execution_count": null,
   "id": "e044fa65-beda-4312-b9b3-f62171c0237c",
   "metadata": {},
   "outputs": [],
   "source": [
    "#check CL of data\n",
    "## Get data\n",
    "#path = r'/dls/e02/data/2024/mg37302-1/processing/Merlin/Au_xgrating/20240418_120328/'\n",
    "# time_stamp = os.path.basename(raw_data_path).split('.')[0][:15]\n",
    "# print('time_stamp : ' , time_stamp)\n",
    "meta_path = raw_data_path.split('_data')[0] + '.hdf'\n",
    "print('meta_path : ', meta_path)\n",
    "with h5py.File(meta_path, 'r') as f:\n",
    "    print(f['metadata'].keys())\n",
    "    print('kV : ' , f['metadata/ht_value(V)'][()])\n",
    "    nominal_CL = f['metadata/nominal_camera_length(m)'][()]\n",
    "    probe_step_size_Ang = f['metadata/step_size(m)'][()]*1e10 # This is a guess!\n",
    "    print('camera_length : ', nominal_CL)\n",
    "\n",
    "for this_dict in cal_dict_list:\n",
    "    if this_dict['nominal_camera_length(m)'] == nominal_CL:\n",
    "        pixel_size_inv_Ang = this_dict['reciprocal_space_pix(1/A)']\n",
    "        p_ellipse = this_dict['p_ellipse']\n",
    "        #probe_step_size_Ang = \n",
    "\n",
    "\n",
    "print('pixel_size_inv_Ang : ', pixel_size_inv_Ang)\n",
    "print('p_ellipse : ', p_ellipse)\n",
    "print('probe_step_size_Ang : ', probe_step_size_Ang)\n"
   ]
  },
  {
   "cell_type": "markdown",
   "id": "25cfa16e-ac24-4fba-9573-8a49af2f4ca1",
   "metadata": {},
   "source": [
    "# Prepare data"
   ]
  },
  {
   "cell_type": "code",
   "execution_count": null,
   "id": "794c65f6-1e66-40d5-b251-35b08c53d7dd",
   "metadata": {},
   "outputs": [],
   "source": [
    "root_path = os.path.dirname(raw_data_path)\n",
    "print(root_path) \n",
    "logger.debug(f'root path is: {root_path}')\n",
    "save_path = os.path.join(root_path, save_path_name)\n",
    "logger.debug(f'saving path is: {save_path}')\n",
    "if not os.path.exists(save_path):\n",
    "    os.mkdir(save_path)\n",
    "\n",
    "time_stamp = os.path.basename(raw_data_path).split('.')[0][:15]\n",
    "print(time_stamp)"
   ]
  },
  {
   "cell_type": "code",
   "execution_count": null,
   "id": "2149080b-6584-428d-accf-3dbc3de684d6",
   "metadata": {},
   "outputs": [],
   "source": [
    "if load_prepared_data == '0':\n",
    "    d = hs.load(raw_data_path, reader='HSPY')\n",
    "    logger.debug(f'raw dataset shape after loading is: {d.data.shape}')\n",
    "    \n",
    "    if fill_cross == '1':\n",
    "        d_cross_rm = map(epsic.warp_3d.remove_cross, d.data)\n",
    "        d_cross_rm = list(d_cross_rm)\n",
    "        d = hs.signals.Signal2D(d_cross_rm)\n",
    "        d_mean = d.mean()\n",
    "    else:\n",
    "        d_mean = d.mean()\n",
    "    \n",
    "    v_min = float(v_min) # 0.01\n",
    "    v_max = float(v_max) # 0.99\n",
    "    probe_semiangle, qx0, qy0 = py4DSTEM.process.calibration.origin.get_probe_size(d_mean.data, v_min,v_max)\n",
    "    logger.debug(f'probe_size and coordinates: {probe_semiangle, qx0, qy0}')\n",
    "    d_mean.plot(vmax = '90th', cmap = 'inferno')\n",
    "    fig = plt.gcf()\n",
    "    fig.savefig(os.path.join(save_path, 'mean_raw_diff.png'))\n",
    "    \n",
    "    if crop_q != '':\n",
    "        crop_q = int(crop_q)\n",
    "        d = d.isig[int(qy0 - crop_q):int(qy0 + crop_q), int(qx0 - crop_q):int(qx0 + crop_q)]\n",
    "        logger.debug(f'cropped data to: {d.data.shape}')\n",
    "    if len(d.data.shape) == 3:\n",
    "        s1 = int(np.floor(d.data.shape[0]**0.5))\n",
    "        s2 = d.data.shape[0]//s1\n",
    "        s3, s4 = d.data.shape[1], d.data.shape[2]\n",
    "        d = hs.signals.Signal2D(d.data.reshape((s1,s2,s3,s4)))\n",
    "        d = d.inav[:-1,:]\n",
    "        # binning by 2\n",
    "        # d = d.inav[1:,1:].rebin(scale=(2,2,1,1))\n",
    "    if bin_factor != '':\n",
    "        bin_factor = int(bin_factor)\n",
    "        if d.data.shape[0]%2 != 0:\n",
    "            d = d.inav[1:,1:].rebin(scale=(bin_factor,bin_factor,1,1))\n",
    "        else:\n",
    "            d = d.rebin(scale=(bin_factor,bin_factor,1,1))\n",
    "    \n",
    "    # Save data\n",
    "    d_mean = d.mean()\n",
    "    d_mean.plot(vmax = '90th', cmap = 'inferno')\n",
    "    fig = plt.gcf()\n",
    "    fig.savefig(os.path.join(save_path, 'mean_prepared_diff.png'))\n",
    "    \n",
    "    prepared_data_path = os.path.join(save_path, f'{time_stamp}_prepared_data.h5')\n",
    "    py4DSTEM.io.save(prepared_data_path, d.data, mode = 'o')"
   ]
  },
  {
   "cell_type": "markdown",
   "id": "a02b8d31-22fc-4161-9d7c-85cc55e719d7",
   "metadata": {},
   "source": [
    "# Reload data to Py4DSTEM"
   ]
  },
  {
   "cell_type": "code",
   "execution_count": null,
   "id": "214f98f2-9ed0-47af-9f82-c96083c7f5ae",
   "metadata": {},
   "outputs": [],
   "source": [
    "prepared_data_path"
   ]
  },
  {
   "cell_type": "code",
   "execution_count": null,
   "id": "2cd45c4f",
   "metadata": {},
   "outputs": [],
   "source": [
    "\n",
    "dataset = py4DSTEM.read(prepared_data_path)\n",
    "dataset = py4DSTEM.DataCube(dataset.data)\n"
   ]
  },
  {
   "cell_type": "code",
   "execution_count": null,
   "id": "1f2554d6",
   "metadata": {},
   "outputs": [],
   "source": [
    "# Diffraction space\n",
    "dataset.calibration.set_Q_pixel_size(pixel_size_inv_Ang)\n",
    "dataset.calibration.set_Q_pixel_units('A^-1')\n",
    "# dataset_probe.calibration.set_Q_pixel_size(pixel_size_inv_Ang)\n",
    "# dataset_probe.calibration.set_Q_pixel_units('A^-1')\n",
    "\n",
    "# Real space\n",
    "dataset.calibration.set_R_pixel_size(probe_step_size_Ang)\n",
    "dataset.calibration.set_R_pixel_units('A')"
   ]
  },
  {
   "cell_type": "code",
   "execution_count": null,
   "id": "29f6e153-7115-4e36-a83a-735c3ef955ee",
   "metadata": {},
   "outputs": [],
   "source": [
    "# Check masking\n",
    "hot_pix_thresh = float(hot_pix_thresh)\n",
    "dataset, mask = dataset.filter_hot_pixels(thresh = hot_pix_thresh, return_mask=True)\n",
    "# dataset_probe, mask_probe = dataset_probe.filter_hot_pixels(thresh = 0.02, return_mask=True)"
   ]
  },
  {
   "cell_type": "code",
   "execution_count": null,
   "id": "64699d91",
   "metadata": {},
   "outputs": [],
   "source": [
    "plt.figure()\n",
    "plt.imshow(mask)\n",
    "fig = plt.gcf()\n",
    "fig.savefig(os.path.join(save_path, 'hot_pix_mask.png'))\n",
    "logger.debug(f'dataset shape is: {dataset.shape}')"
   ]
  },
  {
   "cell_type": "code",
   "execution_count": null,
   "id": "2ad48ba3",
   "metadata": {},
   "outputs": [],
   "source": [
    "dataset.get_dp_max();\n",
    "dataset.get_dp_mean();\n",
    "# dataset_probe.get_dp_mean();"
   ]
  },
  {
   "cell_type": "code",
   "execution_count": null,
   "id": "29fe7075",
   "metadata": {},
   "outputs": [],
   "source": [
    "fig, ax = py4DSTEM.show([\n",
    "        dataset.tree('dp_mean'), \n",
    "        dataset.tree('dp_max'), \n",
    "        # dataset_probe.tree('dp_mean'),\n",
    "    ],\n",
    "    cmap='inferno',\n",
    "    power = 0.5,\n",
    "    returnfig=True,\n",
    ")\n",
    "fig.savefig(os.path.join(save_path,'dp_mean_max.PNG'))"
   ]
  },
  {
   "cell_type": "code",
   "execution_count": null,
   "id": "717cc0ec-ac0e-430e-8dd3-2f483b8980ac",
   "metadata": {},
   "outputs": [],
   "source": [
    "#get one dp to estimate center position of bfd\n",
    "dp = dataset[10,30]\n",
    "probe_semiangle, probe_qx0, probe_qy0 = py4DSTEM.process.calibration.get_probe_size(\n",
    "    dp,\n",
    "#     thresh_lower = 0.02,\n",
    "#     thresh_upper = 0.04,\n",
    ")"
   ]
  },
  {
   "cell_type": "code",
   "execution_count": null,
   "id": "6e598c79",
   "metadata": {},
   "outputs": [],
   "source": [
    "# Create an annular dark field (ADF) virtual detector using user-chosen values:\n",
    "center =probe_qx0,probe_qy0#(dataset.shape[-1]//2,dataset.shape[-1]//2)\n",
    "radii = (50,175)\n",
    "\n",
    "# Plot the ADF detector\n",
    "py4DSTEM.visualize.show(\n",
    "    dataset.tree('dp_max'), \n",
    "    scaling='log',\n",
    "    annulus = {\n",
    "      'center':center,\n",
    "      'radii':radii,\n",
    "      'alpha':0.3,\n",
    "      'fill':True\n",
    "    }\n",
    ")\n",
    "\n",
    "# Calculate the ADF image\n",
    "dataset.get_virtual_image(\n",
    "    mode = 'annulus',\n",
    "    geometry = ((center),radii),\n",
    "    name = 'dark_field',\n",
    ")\n",
    "\n",
    "# Plot the ADF image\n",
    "py4DSTEM.visualize.show(\n",
    "    dataset.tree('dark_field'),\n",
    ")"
   ]
  },
  {
   "cell_type": "code",
   "execution_count": null,
   "id": "1de0b82d",
   "metadata": {},
   "outputs": [],
   "source": [
    "# Choose some diffraction patterns to use for hyperparameter tuning\n",
    "#pick random positions with high intensity from df image\n",
    "n_pos = 4 # number of positinos\n",
    "df_mean =dataset.tree('dark_field').data.mean()\n",
    "pos = np.where(dataset.tree('dark_field').data > df_mean)\n",
    "xy_pos = np.zeros(shape = (2, n_pos))\n",
    "for i in range(n_pos):\n",
    "    rand_int = np.random.randint(0, pos[0].shape[0])\n",
    "    xy_pos[0,i] = pos[0][rand_int]\n",
    "    xy_pos[1,i] = pos[1][rand_int]\n",
    "# rxs = 100,90,110,118\n",
    "# rys = 100,90,80,115\n",
    "# colors=['r','limegreen','c','b']\n",
    "\n",
    "# py4DSTEM.visualize.show_points(\n",
    "#     dataset.tree('dark_field'),\n",
    "#     x=rxs,\n",
    "#     y=rys,\n",
    "#     pointcolor=colors,\n",
    "#     figsize=(8,8)\n",
    "# )"
   ]
  },
  {
   "cell_type": "code",
   "execution_count": null,
   "id": "2938cd53-c788-4fd1-bf0a-ffeecc7cb681",
   "metadata": {},
   "outputs": [],
   "source": [
    "rxs = tuple(xy_pos[0].astype(int))#10,18,40,35,50,30\n",
    "rys = tuple(xy_pos[1].astype(int)) #40,10,10,20,30,50\n",
    "#colors=['r','c','r','c','r','c']\n",
    "\n",
    "py4DSTEM.visualize.show_points(\n",
    "    dataset.tree('dark_field'),\n",
    "    x=xy_pos[0],\n",
    "    y=xy_pos[1],\n",
    "    #pointcolor=colors,\n",
    "    figsize=(8,8)\n",
    ")"
   ]
  },
  {
   "cell_type": "code",
   "execution_count": null,
   "id": "a4e589d7-fa67-4ee5-b1af-41167ec46e13",
   "metadata": {},
   "outputs": [],
   "source": [
    "# Try making a synthetic probe\n",
    "# syn_probe_rad = '4'\n",
    "# syn_probe_width = '4'\n",
    "syn_probe_rad = int(syn_probe_rad)\n",
    "syn_probe_width = float(syn_probe_width)\n",
    "\n",
    "syn_probe = py4DSTEM.braggvectors.probe.Probe.generate_synthetic_probe(syn_probe_rad, syn_probe_width, (dataset.data.shape[-1], dataset.data.shape[-1]))"
   ]
  },
  {
   "cell_type": "code",
   "execution_count": null,
   "id": "c5f6b85e-973e-4176-b35e-4043286dbc24",
   "metadata": {},
   "outputs": [],
   "source": [
    "plt.figure()\n",
    "plt.imshow(syn_probe.data[0, : ,: ])\n",
    "plt.savefig(os.path.join(save_path,'synthetic_probe.PNG'))"
   ]
  },
  {
   "cell_type": "code",
   "execution_count": null,
   "id": "4937cb32-baaf-4efa-8bff-80a06cd4907c",
   "metadata": {},
   "outputs": [],
   "source": [
    "# Construct a probe template to use as a kernel for correlation disk detection\n",
    "probe_semiangle = syn_probe_rad\n",
    "probe_kernel_pre = float(probe_kernel_pre)\n",
    "probe_kernel_post = float(probe_kernel_post)\n",
    "syn_probe_kernel = syn_probe.get_kernel(\n",
    "    mode = 'sigmoid',\n",
    "    radii = (probe_semiangle * probe_kernel_pre, probe_semiangle * probe_kernel_post),\n",
    "    bilinear=True,\n",
    ")\n",
    "\n",
    "# Plot the probe kernel\n",
    "py4DSTEM.visualize.show_kernel(\n",
    "    syn_probe.kernel, \n",
    "    R=20, \n",
    "    L=20, \n",
    "    W=1,\n",
    "    figsize = (8,4),\n",
    ")\n"
   ]
  },
  {
   "cell_type": "code",
   "execution_count": null,
   "id": "021d49c9",
   "metadata": {},
   "outputs": [],
   "source": [
    "# Test hyperparameters on a few probe positions\n",
    "# Visualize the diffraction patterns and the located disk positions\n",
    "peak_finding_minAbsoluteIntensity = float(peak_finding_minAbsoluteIntensity)\n",
    "peak_finding_minPeakSpacing = int(peak_finding_minPeakSpacing)\n",
    "# Hyperparameters\n",
    "detect_params = {\n",
    "    'corrPower': 1.0, #1.0,\n",
    "    'sigma': 0,\n",
    "    'edgeBoundary': 2,\n",
    "    'minRelativeIntensity': 0.0,\n",
    "    'minAbsoluteIntensity': peak_finding_minAbsoluteIntensity, #0.25, \n",
    "    'minPeakSpacing': peak_finding_minPeakSpacing, # 5,\n",
    "    'subpixel' : 'poly',\n",
    "#     'subpixel' : 'multicorr',\n",
    "    'upsample_factor': 2,\n",
    "    'maxNumPeaks': 1000,\n",
    "#     'CUDA': True,\n",
    "}\n",
    "\n",
    "disks_selected = dataset.find_Bragg_disks(\n",
    "    data = (rxs, rys),\n",
    "    # template = probe_kernel,\n",
    "    template=syn_probe_kernel,\n",
    "    **detect_params,\n",
    ")\n",
    "\n",
    "fig, ax = py4DSTEM.visualize.show_image_grid(\n",
    "    get_ar = lambda i:dataset.data[rxs[i],rys[i],:,:],\n",
    "    H=2, \n",
    "    W=2,\n",
    "    axsize=(3,3),\n",
    "    returnfig=True,\n",
    "#     intensity_range='absolute',\n",
    "#     vmin=10,\n",
    "    vmax=0.98,\n",
    "#     scaling='power',\n",
    "    # power=0.2,\n",
    "    #get_bordercolor = lambda i:colors[i],\n",
    "    get_x = lambda i: disks_selected[i].data['qx'],\n",
    "    get_y = lambda i: disks_selected[i].data['qy'],\n",
    "    #get_pointcolors = lambda i: colors[i],\n",
    "    open_circles = True,\n",
    "    scale = 50,\n",
    ")\n",
    "fig.savefig(os.path.join(save_path,'peak_finding_test.PNG'))"
   ]
  },
  {
   "cell_type": "code",
   "execution_count": null,
   "id": "af61abb3",
   "metadata": {},
   "outputs": [],
   "source": [
    "bragg_peaks = dataset.find_Bragg_disks(\n",
    "    template = syn_probe_kernel,\n",
    "    **detect_params,\n",
    ")"
   ]
  },
  {
   "cell_type": "code",
   "execution_count": null,
   "id": "b0c5d658-d1ac-4d26-9c92-b63f4587787d",
   "metadata": {},
   "outputs": [],
   "source": [
    "# compute\n",
    "bvm = bragg_peaks.histogram( mode='raw' )\n",
    "\n",
    "# show\n",
    "show(bvm)"
   ]
  },
  {
   "cell_type": "code",
   "execution_count": null,
   "id": "8cf7b806-0e3a-42c1-a881-cfc7582715f3",
   "metadata": {},
   "outputs": [],
   "source": [
    "dataset.calibration"
   ]
  },
  {
   "cell_type": "code",
   "execution_count": null,
   "id": "1f42f86f-f0c7-4d3b-a0f6-cac6fe0cf6eb",
   "metadata": {},
   "outputs": [],
   "source": [
    "bragg_peaks.setcal()"
   ]
  },
  {
   "cell_type": "code",
   "execution_count": null,
   "id": "3472b5ea-3897-4ecc-bf75-107075ceaaa4",
   "metadata": {},
   "outputs": [],
   "source": [
    "bragg_peaks.calstate"
   ]
  },
  {
   "cell_type": "code",
   "execution_count": null,
   "id": "1faaf9e4-6807-4d0d-9a94-ea617153f889",
   "metadata": {},
   "outputs": [],
   "source": [
    "# Masking the cross region\n",
    "mask_cross = np.zeros_like(dp.data)\n",
    "width = 6\n",
    "cent_x = dp.data.shape[0]/2\n",
    "cent_y = dp.data.shape[1]/2\n",
    "mask_cross[int(cent_x - width):int(cent_x + width), :] = 1\n",
    "mask_cross[:, int(cent_y - width):int(cent_y + width)] = 1\n",
    "mask_cross = mask_cross.astype('bool')\n",
    "plt.figure()\n",
    "plt.imshow(mask_cross)\n",
    "fig = plt.gcf()\n",
    "fig.savefig(os.path.join(save_path, 'cross_mask.png'))"
   ]
  },
  {
   "cell_type": "code",
   "execution_count": null,
   "id": "a24a7e62-09e9-40b2-9ac3-36612885ba74",
   "metadata": {},
   "outputs": [],
   "source": [
    "# First, generate a mask of the beamstop, plot it\n",
    "dataset.get_beamstop_mask(\n",
    "    threshold = 0.01,\n",
    "    distance_edge = 7,\n",
    "    # include_edges=False,\n",
    ");\n",
    "dataset.tree(\"mask_beamstop\").data = mask_cross\n",
    "py4DSTEM.show(\n",
    "    dataset.tree(\"mask_beamstop\"),\n",
    "    intensity_range='absolute',\n",
    "    vmin=0,\n",
    "    vmax=1,\n",
    "    figsize = (4,4),\n",
    ")"
   ]
  },
  {
   "cell_type": "code",
   "execution_count": null,
   "id": "e57a1374-c889-4b22-9942-c9e3292ba39d",
   "metadata": {},
   "outputs": [],
   "source": [
    "# Apply the mask to the raw bragg peaks\n",
    "bragg_peaks_masked = bragg_peaks.mask_in_Q(\n",
    "    dataset.tree(\"mask_beamstop\").data,\n",
    ")\n",
    "# Create a bragg vector map (2D histogram of all detected bragg peaks) for both raw and masked Bragg peaks\n",
    "bragg_vector_map = bragg_peaks.get_bvm(mode='raw')\n",
    "bragg_vector_map_masked = bragg_peaks_masked.get_bvm(mode='raw')\n",
    "# Plot a comparison image between the original and masked bragg vector map\n",
    "fig, ax = py4DSTEM.show(\n",
    "    [\n",
    "        bragg_vector_map,\n",
    "        bragg_vector_map_masked,\n",
    "    ],\n",
    "    combine_images = True,\n",
    "    figsize = (4,4),\n",
    "    returnfig=True,\n",
    ")\n",
    "fig.savefig(os.path.join(save_path,'bragg_peaks_masked.PNG'))"
   ]
  },
  {
   "cell_type": "code",
   "execution_count": null,
   "id": "d3c4c435-758c-44b7-83ed-f020fafb3e02",
   "metadata": {},
   "outputs": [],
   "source": [
    "# Measure the origin\n",
    "\n",
    "qx0_meas,qy0_meas,mask_meas = bragg_peaks_masked.measure_origin(\n",
    "    center_guess=(probe_qx0,probe_qy0),\n",
    "    score_method='intensity weighted distance', #'distance',\n",
    "    findcenter='max',\n",
    ")\n",
    "\n",
    "fig, ax = show(\n",
    "    [qx0_meas,qy0_meas],\n",
    "    cmap = 'RdBu',\n",
    "    # mask = mask_meas,\n",
    "    returnfig=True,\n",
    ")\n",
    "fig.savefig(os.path.join(save_path,'bragg_peaks_masked_measure_origin.PNG'))"
   ]
  },
  {
   "cell_type": "code",
   "execution_count": null,
   "id": "4edc499b-265c-453f-8246-88cb8bdb53a3",
   "metadata": {},
   "outputs": [],
   "source": [
    "# Fit a plane to the origins\n",
    "\n",
    "qx0_fit,qy0_fit,qx0_residuals,qy0_residuals = bragg_peaks_masked.fit_origin(\n",
    "    robust= True,\n",
    "    # robust_thresh= 1.2,\n",
    "    fitfunction = 'bezier_two',\n",
    ")"
   ]
  },
  {
   "cell_type": "code",
   "execution_count": null,
   "id": "e63fa50c-85dd-4362-b3c9-dc239fc55491",
   "metadata": {},
   "outputs": [],
   "source": [
    "fig = plt.gcf()\n",
    "fig.savefig(os.path.join(save_path, 'BF_disc_align.png'))\n"
   ]
  },
  {
   "cell_type": "code",
   "execution_count": null,
   "id": "55db8367-d61f-4323-b63a-68aa3c59cac4",
   "metadata": {},
   "outputs": [],
   "source": [
    "logger.debug(f\"Calibration state: {bragg_peaks_masked.calibration}\")"
   ]
  },
  {
   "cell_type": "code",
   "execution_count": null,
   "id": "8cc2d2d4-e210-4459-b660-4877fd04ea92",
   "metadata": {},
   "outputs": [],
   "source": [
    "bragg_peaks_masked.calstate"
   ]
  },
  {
   "cell_type": "code",
   "execution_count": null,
   "id": "3290eea9-b871-418e-8792-f32c6d8f0e72",
   "metadata": {},
   "outputs": [],
   "source": [
    "# Now that we've calibrated the center positions, we can re-compute\n",
    "# the Bragg vector map, this time with the center correction applied\n",
    "\n",
    "sampling = 1\n",
    "\n",
    "# compute\n",
    "bvm = bragg_peaks_masked.histogram(\n",
    "    #mode='cal',             # 'cal' is the default mode, so this line can be included or left out\n",
    "    sampling = sampling,\n",
    ")\n",
    "\n",
    "# show\n",
    "# overlay a circle around the center for visualization purposes\n",
    "fig, ax = show(\n",
    "    bvm,\n",
    "    circle={\n",
    "        'center' : bvm.origin,   # the centered BVM knows where its origin is \n",
    "        'R' : 4*sampling,\n",
    "        'fill' : False,\n",
    "        'linewidth' : 1\n",
    "    },\n",
    "    returnfig = True,\n",
    "    #vmax=0.9\n",
    ")\n",
    "fig.savefig(os.path.join(save_path, 'BF_disc_align_bvm.png'))"
   ]
  },
  {
   "cell_type": "code",
   "execution_count": null,
   "id": "2f2ea07a-7d6d-453c-b656-5833ed97131c",
   "metadata": {},
   "outputs": [],
   "source": [
    "# Compare this to the uncalibrated BVM - much better!\n",
    "\n",
    "# compute raw vs. centered\n",
    "bvm_r = bragg_peaks_masked.histogram( mode='raw', sampling=sampling )\n",
    "bvm_c = bragg_peaks_masked.histogram( mode='cal', sampling=sampling )\n",
    "\n",
    "# show\n",
    "show( [bvm_r, bvm_c] ,vmax=0.99)\n",
    "\n",
    "# show, zooming in on origin\n",
    "L = 20\n",
    "x,y = bvm_c.origin\n",
    "import numpy as np\n",
    "x0,xf = np.round([x-L,x+L]).astype(int)\n",
    "y0,yf = np.round([y-L,y+L]).astype(int)\n",
    "\n",
    "show(\n",
    "    [\n",
    "    bvm_r[x0:xf,y0:yf],\n",
    "    bvm_c[x0:xf,y0:yf]\n",
    "    ],\n",
    "    vmax=0.9\n",
    ")"
   ]
  },
  {
   "cell_type": "code",
   "execution_count": null,
   "id": "95508bfb-17ab-47ec-806e-2a3a8ffc4246",
   "metadata": {},
   "outputs": [],
   "source": [
    "fig = plt.gcf()\n",
    "fig.savefig(os.path.join(save_path, 'BF_disc_align_before_after.png'))"
   ]
  },
  {
   "cell_type": "code",
   "execution_count": null,
   "id": "be1365d8-7a3b-4cdf-880f-842e435778f0",
   "metadata": {},
   "outputs": [],
   "source": [
    "bragg_peaks_masked.calibration.set_p_ellipse(p_ellipse)"
   ]
  },
  {
   "cell_type": "code",
   "execution_count": null,
   "id": "c7ff4664-e613-41f2-baa8-79eab0a2b765",
   "metadata": {},
   "outputs": [],
   "source": [
    "logger.debug(f\"Calibration state: {bragg_peaks_masked.calibration}\")"
   ]
  },
  {
   "cell_type": "code",
   "execution_count": null,
   "id": "88a1521e-f04e-417d-8f42-cada23697c54",
   "metadata": {},
   "outputs": [],
   "source": [
    "bragg_peaks_masked.calibration.set_QR_rotflip((0, False))"
   ]
  },
  {
   "cell_type": "code",
   "execution_count": null,
   "id": "9b77105f-1e5d-413f-8d6f-add488f15f2d",
   "metadata": {},
   "outputs": [],
   "source": [
    "bragg_peaks_masked.calstate"
   ]
  },
  {
   "cell_type": "code",
   "execution_count": null,
   "id": "1108bd81-813f-4521-9d10-b3ab79e6cb8c",
   "metadata": {},
   "outputs": [],
   "source": [
    "# Save calibrated Bragg peaks\n",
    "filepath_braggdisks_cali = os.path.join(save_path, f'{time_stamp}_braggdisks_cali.h5')\n",
    "py4DSTEM.save(\n",
    "    filepath_braggdisks_cali,\n",
    "    bragg_peaks_masked,\n",
    "    mode='o',\n",
    ")"
   ]
  },
  {
   "cell_type": "code",
   "execution_count": null,
   "id": "8fb9bf9b-d07b-49d1-9dae-19cb7e41cf71",
   "metadata": {},
   "outputs": [],
   "source": []
  },
  {
   "attachments": {},
   "cell_type": "markdown",
   "id": "76439d4f-c0dd-4737-a1ad-d9eeddb708d9",
   "metadata": {},
   "source": [
    "<!-- ## Masking the real space / carbon rimgs\n",
    "\n",
    "qx0_fit\n",
    "\n",
    "print(np.mean(qy0_fit), np.mean(qx0_fit))\n",
    "\n",
    "bvm_c = bragg_peaks_masked.histogram( mode='cal', sampling=sampling )\n",
    "\n",
    "\n",
    "\n",
    "\n",
    "\n",
    "#plot ADF and DF \n",
    "#provide center co-ords and radii:\n",
    "center = (128,129) # y, x\n",
    "radii = (24,32)\n",
    "# radii = (45,50)\n",
    "#calculate calibrated valued for virtual image\n",
    "cal_center = (center[0]- bvm_c.origin[0])*bvm_c.pixelsize, (center[1]- bvm_c.origin[1])*bvm_c.pixelsize\n",
    "cal_radii = radii[0] *bvm_c.pixelsize,radii[1]*bvm_c.pixelsize\n",
    "\n",
    "show(\n",
    "    [\n",
    "    bvm_c\n",
    "    ],\n",
    "    intensity_range='absolute',\n",
    "    # scaling = 'log', \n",
    "    vmax=5,\n",
    "    \n",
    "    annulus={\n",
    "    'center' : (center),   # the centered BVM knows where its origin is \n",
    "    'radii' : radii,\n",
    "    'alpha' : 0.3,\n",
    "    'fill' : True,\n",
    "\n",
    "    },\n",
    ")\n",
    "\n",
    "#calculate bf image\n",
    "im_adf = bragg_peaks_masked.get_virtual_image(\n",
    "    mode = 'annular', \n",
    "    geometry= ((0,0),(5 *bvm_c.pixelsize, 250 *bvm_c.pixelsize)),  \n",
    "    name = 'adf_virtual_image',\n",
    ")\n",
    "\n",
    "# show(\n",
    "#     im_adf,\n",
    "# )\n",
    "\n",
    "im_df = bragg_peaks_masked.get_virtual_image(\n",
    "    mode = 'annular', \n",
    "    geometry= ((cal_center),(cal_radii)),  \n",
    "    name = 'df_virtual_image',\n",
    ")\n",
    "\n",
    "show(\n",
    "    im_df,\n",
    ")\n",
    "\n",
    "\n",
    "mask_np = im_df.data > 1\n",
    "\n",
    "plt.figure()\n",
    "plt.imshow(mask_np)\n",
    "\n",
    "\n",
    "\n",
    "\n",
    "# set geometry\n",
    "mask_x0, mask_y0 = 104,95\n",
    "mask_radius = 20\n",
    "\n",
    "\n",
    "# plot the mask geometry, overlaid onto the dark field image we created earlier\n",
    "py4DSTEM.visualize.show(\n",
    "    im_adf,\n",
    "    circle = {\n",
    "      'center':(mask_x0, mask_y0),\n",
    "      'R': mask_radius,\n",
    "      'alpha':0.3,\n",
    "      'fill':True\n",
    "    },\n",
    "    figsize=(4,4)\n",
    ")\n",
    "\n",
    "import numpy as np\n",
    "ryy,rxx = np.meshgrid(\n",
    "    np.arange(dataset.R_Ny),\n",
    "    np.arange(dataset.R_Nx),\n",
    ")\n",
    "rrr = np.hypot( rxx-mask_x0, ryy-mask_y0 )\n",
    "mask = rrr < mask_radius\n",
    "\n",
    "# show\n",
    "show(\n",
    "    im_adf,\n",
    "    mask = mask,\n",
    "    figsize=(4,4)\n",
    ")\n",
    "\n",
    "# Find the mean of the diffraction pattern in the specified region\n",
    "\n",
    "selected_area_diffraction_01 = dataset.get_virtual_diffraction(\n",
    "    method = 'mean',\n",
    "    mask = mask,\n",
    "    name = 'selected_area_diffraction_01'\n",
    ")\n",
    "\n",
    "# show\n",
    "py4DSTEM.visualize.show(\n",
    "    selected_area_diffraction_01,\n",
    "    scaling='log',\n",
    "    figsize=(4,4)\n",
    ")\n",
    "\n",
    "# DF image\n",
    "# Get an off-axis dark-field image\n",
    "\n",
    "\n",
    "# Set detector geometry\n",
    "qx0_DF,qy0_DF = 67, 133\n",
    "r_DF = 6\n",
    "geometry = (\n",
    "    (qx0_DF,qy0_DF),\n",
    "    r_DF\n",
    ")\n",
    "\n",
    "# Position detection\n",
    "dataset.position_detector(\n",
    "    mode = 'circular',\n",
    "    geometry = geometry,\n",
    "    figsize = (4,4)\n",
    ")\n",
    "\n",
    "# Compute image\n",
    "image_DF_01 = dataset.get_virtual_image(\n",
    "    mode = 'circle',\n",
    "    geometry = geometry,\n",
    "    name = 'virt_dark_field_01'\n",
    ")\n",
    "\n",
    "# Show\n",
    "show(\n",
    "    image_DF_01,\n",
    "    figsize = (4,4)\n",
    ")\n",
    "\n",
    "\n",
    "\n",
    "\n",
    "\n",
    "peaks_mask1 = bragg_peaks_masked.mask_in_R(np.invert(mask))\n",
    "\n",
    "bvm_c_mask_1 = peaks_mask1.histogram( mode='cal', sampling=sampling )\n",
    "\n",
    "show(bvm_c_mask_1,\n",
    "    # intensity_range='absolute',\n",
    "    # vmax=0.01\n",
    "    scaling='log')\n",
    "\n",
    "peaks_mask1.cal[mask_x0, mask_y0].data\n",
    "\n",
    "from scipy.spatial import distance\n",
    "\n",
    "len(peaks_mask1.cal[mask_x0, mask_y0].data)\n",
    "centre_pos = (peaks_mask1.cal[mask_x0, mask_y0].data[0][0], peaks_mask1.cal[mask_x0, mask_y0].data[0][1])\n",
    "distances = []\n",
    "for i in range(1, len(peaks_mask1.cal[mask_x0, mask_y0].data) - 1):\n",
    "    peak_= (peaks_mask1.cal[mask_x0, mask_y0].data[i][0], peaks_mask1.cal[mask_x0, mask_y0].data[i][1])\n",
    "    distances.append(distance.euclidean(centre_pos, peak_))\n",
    "\n",
    "distances\n",
    "\n",
    "1 / 0.415\n",
    "\n",
    "1 / 0.813\n",
    "\n",
    "#function to return the experimental powder diff pattern from a bragg vector map object\n",
    "from scipy.ndimage import gaussian_filter\n",
    "\n",
    "def return_powder_diff(\n",
    "    bragg_peak_obj,\n",
    "    scan_mask = None, \n",
    "    bragg_k_broadening  =0.005,\n",
    "    bragg_intensity_power = 1,\n",
    "    bragg_k_power = 1,\n",
    "    figsize = (10,4) ,\n",
    "    use_mask =1,\n",
    "    show_raw_data = 0\n",
    "    ):\n",
    "    if use_mask ==1 :\n",
    "        rxy_list = np.where(scan_mask== 1)\n",
    "        bigpl = np.concatenate(\n",
    "            [\n",
    "                bragg_peak_obj.get_vectors(\n",
    "                    rxy_list[0][i],\n",
    "                    rxy_list[1][i],\n",
    "                    center=True,\n",
    "                    ellipse=True,\n",
    "                    pixel=True,\n",
    "                    rotate=True,\n",
    "                ).data\n",
    "                for i in range(rxy_list[0].shape[0])\n",
    "                #for ry in ry_list\n",
    "            ]\n",
    "        )\n",
    "    else:\n",
    "        rx_list, ry_list =  range(bragg_peak_obj.shape[0]), range(bragg_peak_obj.shape[1])\n",
    "        # concatenate all peaks\n",
    "        bigpl = np.concatenate(\n",
    "            [\n",
    "                bragg_peak_obj.get_vectors(\n",
    "                    rx,\n",
    "                    ry,\n",
    "                    center=True,\n",
    "                    ellipse=True,\n",
    "                    pixel=True,\n",
    "                    rotate=True,\n",
    "                ).data\n",
    "                for rx in rx_list\n",
    "                for ry in ry_list\n",
    "            ]\n",
    "        )\n",
    "    # if use_mask ==1 :\n",
    "    #     rx_list, ry_list = np.where(scan_mask== 1)\n",
    "    \n",
    "    # else:\n",
    "    #     rx_list, ry_list =  range(bragg_peak_obj.shape[0]), range(bragg_peak_obj.shape[1])\n",
    "        \n",
    "    # # concatenate all peaks\n",
    "    # bigpl = np.concatenate(\n",
    "    #     [\n",
    "    #         bragg_peak_obj.get_vectors(\n",
    "    #             rx,\n",
    "    #             ry,\n",
    "    #             center=True,\n",
    "    #             ellipse=True,\n",
    "    #             pixel=True,\n",
    "    #             rotate=True,\n",
    "    #         ).data\n",
    "    #         for rx in rx_list\n",
    "    #         for ry in ry_list\n",
    "    #     ]\n",
    "    # )\n",
    "    \n",
    "    # get radial positions and intensity\n",
    "    qr = np.sqrt(bigpl[\"qx\"] ** 2 + bigpl[\"qy\"] ** 2)\n",
    "    int_meas = bigpl[\"intensity\"]\n",
    "    \n",
    "    # get discrete plot from structure factor amplitudes\n",
    "    k_min = qr.min()\n",
    "    k_max = qr.max()\n",
    "    k_step = bragg_peak_obj.calibration.get_Q_pixel_size() /2 #(qr.max() - qr.min())/ qr.shape[0]\n",
    "    k = np.arange(k_min, k_max + k_step, k_step)\n",
    "    k_num = k.shape[0]\n",
    "    int_exp = np.zeros_like(k)\n",
    "    k_px = (qr - k_min) / k_step\n",
    "    kf = np.floor(k_px).astype(\"int\")\n",
    "    dk = k_px - kf\n",
    "    \n",
    "    sub = np.logical_and(kf >= 0, kf < k_num)\n",
    "    int_exp = np.bincount(\n",
    "        np.floor(k_px[sub]).astype(\"int\"),\n",
    "        weights=(1 - dk[sub]) * int_meas[sub],\n",
    "        minlength=k_num,\n",
    "    )\n",
    "    sub = np.logical_and(k_px >= -1, k_px < k_num - 1)\n",
    "    int_exp += np.bincount(\n",
    "        np.floor(k_px[sub] + 1).astype(\"int\"),\n",
    "        weights=dk[sub] * int_meas[sub],\n",
    "        minlength=k_num,\n",
    "    )\n",
    "    \n",
    "    if bragg_k_broadening > 0.0:\n",
    "        int_exp = gaussian_filter(\n",
    "            int_exp, bragg_k_broadening / k_step, mode=\"constant\"\n",
    "        )\n",
    "    \n",
    "    int_exp_plot = (int_exp**bragg_intensity_power) * (k**bragg_k_power)\n",
    "    int_exp_plot /= np.max(int_exp_plot)\n",
    "    return(k, int_exp_plot)\n",
    "\n",
    "k_, int_ = return_powder_diff(bragg_peaks_masked, mask)\n",
    "\n",
    "plt.figure()\n",
    "plt.plot(k_, int_, 'r-') -->"
   ]
  },
  {
   "cell_type": "markdown",
   "id": "eee0cf1e-d33f-4ee6-a8b2-ec787731d2f4",
   "metadata": {},
   "source": [
    "## Applying calibrations to the Dataset"
   ]
  },
  {
   "cell_type": "code",
   "execution_count": null,
   "id": "265a3719-116a-4347-b2c8-694afd279796",
   "metadata": {},
   "outputs": [],
   "source": [
    "dataset.calibration"
   ]
  },
  {
   "cell_type": "code",
   "execution_count": null,
   "id": "30878223-6c52-467a-b72c-9d6584cc47a7",
   "metadata": {},
   "outputs": [],
   "source": [
    "# apply calibrations - variable origin\n",
    "dataset.calibration.set_qx0(qx0_fit)\n",
    "dataset.calibration.set_qy0(qy0_fit)\n",
    "dataset.calibrate()"
   ]
  },
  {
   "cell_type": "code",
   "execution_count": null,
   "id": "43d4c8dd-2cda-4e3d-866f-9e545d3f1273",
   "metadata": {},
   "outputs": [],
   "source": [
    "# Calculate a new mean diffraction pattern with the fitted de-scan\n",
    "im_align = dataset.get_virtual_diffraction(\n",
    "    method = 'mean',\n",
    "    shift_center = True,\n",
    ")"
   ]
  },
  {
   "cell_type": "code",
   "execution_count": null,
   "id": "dd313b92-201c-406c-9175-5cf0ac5bf0a8",
   "metadata": {},
   "outputs": [],
   "source": [
    "# Compare the two mean diffraction patterns:\n",
    "py4DSTEM.show(\n",
    "    # [\n",
    "        dataset.tree('dp_mean').data - im_align.data,\n",
    "        # im_align,\n",
    "    # ],\n",
    "    ticks = False,\n",
    "    # combine_images = True,\n",
    "    # figsize = (12,12),\n",
    "    # vmax = 1.0,\n",
    ")"
   ]
  },
  {
   "cell_type": "code",
   "execution_count": null,
   "id": "c740613c-409a-4eb2-9072-7fd18c2f70d2",
   "metadata": {},
   "outputs": [],
   "source": [
    "# apply elliptic calibrations\n",
    "dataset.calibration.set_p_ellipse(p_ellipse)\n",
    "dataset.calibrate()"
   ]
  },
  {
   "cell_type": "code",
   "execution_count": null,
   "id": "5cef1c73-5762-4bbc-901a-abb524f81ad9",
   "metadata": {},
   "outputs": [],
   "source": [
    "dataset.calibration"
   ]
  },
  {
   "cell_type": "markdown",
   "id": "f69e20ca-8079-4eb2-a9d7-d5e9ece38bed",
   "metadata": {},
   "source": [
    "## Polar Transform"
   ]
  },
  {
   "cell_type": "code",
   "execution_count": null,
   "id": "46df3fcd-53c3-43e3-b555-4f7c2c3c3ac7",
   "metadata": {},
   "outputs": [],
   "source": [
    "\n",
    "polardata = py4DSTEM.PolarDatacube(\n",
    "    dataset,\n",
    "    qmin = 0,\n",
    "    qmax = None,\n",
    "    qstep = 1.0,\n",
    "    n_annular = 360,\n",
    "    ellipse = True,\n",
    "   # two_fold_symmetry = True,\n",
    "    # mask = fitting_mask,\n",
    "    qscale = 1.0,\n",
    ")"
   ]
  },
  {
   "cell_type": "code",
   "execution_count": null,
   "id": "14f74292-dd08-4188-ac46-816ba97e7fdd",
   "metadata": {},
   "outputs": [],
   "source": [
    "# show polar transformation for different probe positions.\n",
    "# note the first few probe positions are massively shifted from the correct center!\n",
    "\n",
    "# x,y = 10,25\n",
    "x,y = 60,90\n",
    "# x,y = 19,49\n",
    "\n",
    "# Show pattern in cartesian + polar\n",
    "fig,ax = py4DSTEM.show( \n",
    "    [\n",
    "        # dataset.data[x,y],\n",
    "        gaussian_filter(dataset.data[x,y],1),\n",
    "        polardata.data[x,y],\n",
    "    ],\n",
    "    axsize = (4,4),\n",
    "    ticks = False,\n",
    "    returnfig = True,\n",
    "    cmap = 'turbo',\n",
    "    # vmax = 1,\n",
    "    #scaling = 'log',\n",
    ")"
   ]
  },
  {
   "cell_type": "code",
   "execution_count": null,
   "id": "61bf0ffe-e9d3-4f1f-85f0-d740afa7c405",
   "metadata": {},
   "outputs": [],
   "source": [
    "polardata.calculate_radial_statistics(\n",
    "    plot_results_mean = True,\n",
    "    # plot_results_var=True,\n",
    ")    "
   ]
  },
  {
   "cell_type": "code",
   "execution_count": null,
   "id": "2db4796d-0d2e-4905-ab8d-6e24acee9c0a",
   "metadata": {},
   "outputs": [],
   "source": [
    "#polardata.plot_radial_var_norm(\n",
    "#)"
   ]
  },
  {
   "cell_type": "code",
   "execution_count": null,
   "id": "779022ea-50b9-439b-8f44-3dd24b43534f",
   "metadata": {},
   "outputs": [],
   "source": [
    "show(polardata.data[x, y])"
   ]
  },
  {
   "cell_type": "code",
   "execution_count": null,
   "id": "c46e0ad1-6a58-42ee-b3f7-8b86fff2c519",
   "metadata": {},
   "outputs": [],
   "source": [
    "polardata.data[x, y]"
   ]
  },
  {
   "cell_type": "code",
   "execution_count": null,
   "id": "822ad240-e685-43c5-a1e4-5845bedee1b5",
   "metadata": {},
   "outputs": [],
   "source": [
    "local_radial_mean, local_radial_var = polardata.calculate_FEM_local(\n",
    "    use_median=False,\n",
    "    return_values=True,\n",
    ")"
   ]
  },
  {
   "cell_type": "code",
   "execution_count": null,
   "id": "91e462cd-9054-46cf-982e-e6fed3035dfe",
   "metadata": {},
   "outputs": [],
   "source": [
    "local_radial_var = hs.signals.Signal2D(local_radial_var)"
   ]
  },
  {
   "cell_type": "code",
   "execution_count": null,
   "id": "19b0a242-5bf3-498e-be77-25f640b41225",
   "metadata": {},
   "outputs": [],
   "source": [
    "local_radial_var = local_radial_var.transpose(signal_axes=1)"
   ]
  },
  {
   "cell_type": "code",
   "execution_count": null,
   "id": "bde0e6d2-f45c-422d-9421-aaa6ef73d333",
   "metadata": {},
   "outputs": [],
   "source": [
    "local_radial_var.plot()"
   ]
  },
  {
   "cell_type": "code",
   "execution_count": null,
   "id": "731553a5-076d-4126-a4f0-eecaaf519450",
   "metadata": {},
   "outputs": [],
   "source": []
  },
  {
   "cell_type": "code",
   "execution_count": null,
   "id": "643ce3a2-b365-4227-adc9-9f248b9c9ef6",
   "metadata": {},
   "outputs": [],
   "source": []
  },
  {
   "cell_type": "code",
   "execution_count": null,
   "id": "57f12080-d475-411f-b096-741b0ad9b556",
   "metadata": {},
   "outputs": [],
   "source": [
    "# py4DSTEM.io.save(os.path.join(save_path, f'{time_stamp}_polar_data.h5'), polardata)"
   ]
  },
  {
   "cell_type": "code",
   "execution_count": null,
   "id": "baeb4ee7-4257-4963-8a1e-64d0ef4a1738",
   "metadata": {},
   "outputs": [],
   "source": [
    "pixel_size_inv_Ang"
   ]
  },
  {
   "cell_type": "code",
   "execution_count": null,
   "id": "efec39c3-b690-4769-8c2f-20cd2d363024",
   "metadata": {},
   "outputs": [],
   "source": [
    "local_radial_var.axes_manager[-1].scale = pixel_size_inv_Ang\n",
    "local_radial_var.axes_manager[-1].units = '1/A'\n",
    "local_radial_var.axes_manager[-1].name = 'Scattering angle'\n",
    "local_radial_var"
   ]
  },
  {
   "cell_type": "code",
   "execution_count": null,
   "id": "a55fa5a9-ff9c-45d0-afbe-030aed6fc110",
   "metadata": {},
   "outputs": [],
   "source": [
    "local_radial_var.axes_manager"
   ]
  },
  {
   "cell_type": "code",
   "execution_count": null,
   "id": "522f0708-68d9-4154-b8fb-5db0cb0a148d",
   "metadata": {},
   "outputs": [],
   "source": [
    "local_radial_var.save(os.path.join(save_path, f'{time_stamp}_variance.hspy'))"
   ]
  },
  {
   "cell_type": "code",
   "execution_count": null,
   "id": "33dfae99-0442-41e8-8661-f7a6d6ecc8a3",
   "metadata": {},
   "outputs": [],
   "source": [
    "local_radial_var_sum = local_radial_var.sum()"
   ]
  },
  {
   "cell_type": "code",
   "execution_count": null,
   "id": "60e05bf1-eacd-4233-b0b2-b2ecf9d6e1bd",
   "metadata": {},
   "outputs": [],
   "source": [
    "local_radial_var_sum.plot()"
   ]
  },
  {
   "cell_type": "code",
   "execution_count": null,
   "id": "10f47aa8-4f79-4d43-ad54-73e7ae78c8fa",
   "metadata": {},
   "outputs": [],
   "source": [
    "peaks = find_peaks(local_radial_var_sum.data)\n",
    "peaks = pixel_size_inv_Ang * peaks[0]"
   ]
  },
  {
   "cell_type": "code",
   "execution_count": null,
   "id": "1e8383f4-ca4f-4e92-8619-03026efebadc",
   "metadata": {},
   "outputs": [],
   "source": [
    "peaks"
   ]
  },
  {
   "cell_type": "code",
   "execution_count": null,
   "id": "7f6366f6-3b2c-40c1-8e60-712b110feaeb",
   "metadata": {},
   "outputs": [],
   "source": [
    "local_radial_var_sum.data.shape"
   ]
  },
  {
   "cell_type": "code",
   "execution_count": null,
   "id": "fa737818-d8b6-46e4-8577-d5693a2bf7e1",
   "metadata": {},
   "outputs": [],
   "source": [
    "plt.figure()\n",
    "x_axis = pixel_size_inv_Ang * np.arange(local_radial_var_sum.data.shape[0])\n",
    "plt.plot(x_axis, local_radial_var_sum.data)\n",
    "\n",
    "for peak in peaks:\n",
    "    # print(peak)\n",
    "    plt.axvline(peak, ls=':', lw=0.5)\n",
    "fig = plt.gcf()\n",
    "fig.savefig(os.path.join(save_path, 'sum_variance_peaks.png'))"
   ]
  }
 ],
 "metadata": {
  "kernelspec": {
   "display_name": "Python 3.10 - EPSIC [DLS Conda]",
   "language": "python",
   "name": "conda-env-DLS_Conda-epsic3.10-kernel.json"
  },
  "language_info": {
   "codemirror_mode": {
    "name": "ipython",
    "version": 3
   },
   "file_extension": ".py",
   "mimetype": "text/x-python",
   "name": "python",
   "nbconvert_exporter": "python",
   "pygments_lexer": "ipython3",
   "version": "3.10.13"
  }
 },
 "nbformat": 4,
 "nbformat_minor": 5
}
