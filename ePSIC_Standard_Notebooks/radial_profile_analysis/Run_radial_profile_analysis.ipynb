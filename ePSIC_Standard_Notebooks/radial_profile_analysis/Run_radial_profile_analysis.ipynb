{
 "cells": [
  {
   "cell_type": "markdown",
   "id": "f159455a-76eb-42c9-8ccd-de7d858904b1",
   "metadata": {
    "editable": true,
    "slideshow": {
     "slide_type": ""
    },
    "tags": []
   },
   "source": [
    "# Atomic structure analysis with radial (azimuthal) average & variance profiles\n",
    "### Jinseok Ryu (jinseok.ryu@diamond.ac.uk)\n",
    "Only compatible with the ePSIC data processig workflow  \n",
    "Recommended to run this notebook using Python 3.10 EPSIC kernel on the jupyterhub of Diamond Light Source  \n",
    "Otherwise, it is highly probable that it will not work properly  \n",
    "[Required Python packages]  \n",
    "scipy, numpy, matplotlib, py4DSTEM, hyperspy, drca (optional for NMF, https://github.com/jinseuk56/drca)"
   ]
  },
  {
   "cell_type": "code",
   "execution_count": null,
   "id": "87293612-4029-443a-9b6e-78440ecb6355",
   "metadata": {
    "editable": true,
    "slideshow": {
     "slide_type": ""
    },
    "tags": []
   },
   "outputs": [],
   "source": [
    "import sys\n",
    "sys.path.append('/dls/science/groups/e02/Ryu/RYU_at_ePSIC/massive_radial_analysis')\n",
    "\n",
    "from radial_profile_analysis import *"
   ]
  },
  {
   "cell_type": "code",
   "execution_count": null,
   "id": "ec6ec9ec-25b0-45c2-a7c0-0a50c0d550ab",
   "metadata": {
    "editable": true,
    "slideshow": {
     "slide_type": ""
    },
    "tags": []
   },
   "outputs": [],
   "source": [
    "# load data\n",
    "base_dir = '/dls/e02/data/2024/mgXXXXX-1/processing/Merlin/'\n",
    "subfolders = [''] # subfolder names you want to load and compare\n",
    "\n",
    "profile_length = 360 # limit the profile size\n",
    "num_load = 100 # limit the number of data for every subfolder (select files randomly)\n",
    "\n",
    "include_key = [] # keyword for screening (to only include the specified data)\n",
    "exclude_key = [] # keyword for screening (to exclude poor quality data)\n",
    "\n",
    "run_analysis = radial_profile_analysis(base_dir, subfolders, \n",
    "                                       profile_length, num_load, \n",
    "                                       include_key, exclude_key, verbose=True)"
   ]
  },
  {
   "cell_type": "code",
   "execution_count": null,
   "id": "72183487-1c7b-44ff-8920-4886d77ac379",
   "metadata": {
    "editable": true,
    "slideshow": {
     "slide_type": ""
    },
    "tags": []
   },
   "outputs": [],
   "source": [
    "# Transformation quality check (center beam alignment)\n",
    "# If there are any data of poor quality, you can exclude them in the cell above (using 'exclude_key')\n",
    "# crop=[top, bottom, left, right] -> img[top:bottom, left:right]\n",
    "run_analysis.center_beam_alignment_check(crop=[220, -150, 220, -150])"
   ]
  },
  {
   "cell_type": "code",
   "execution_count": null,
   "id": "a8d093ad-0478-4acb-a7f4-8a6c7e25340f",
   "metadata": {
    "editable": true,
    "slideshow": {
     "slide_type": ""
    },
    "tags": []
   },
   "outputs": [],
   "source": [
    "# Bright-field image\n",
    "run_analysis.intensity_integration_image()"
   ]
  },
  {
   "cell_type": "code",
   "execution_count": null,
   "id": "4c9279f2-7658-4e1e-ae3b-1b0976e2ed7b",
   "metadata": {
    "editable": true,
    "slideshow": {
     "slide_type": ""
    },
    "tags": []
   },
   "outputs": [],
   "source": [
    "# Specify the scattering vector range\n",
    "# Simulate diffraction patterns (XRD) from CIF (optional])\n",
    "str_path = ['/dls/science/groups/e02/Ryu/RYU_at_ePSIC/massive_radial_analysis/structure_file/structure_file_YC/Li2O.cif',\n",
    "           '/dls/science/groups/e02/Ryu/RYU_at_ePSIC/massive_radial_analysis/structure_file/structure_file_YC/Li3P.cif',\n",
    "           '/dls/science/groups/e02/Ryu/RYU_at_ePSIC/massive_radial_analysis/structure_file/structure_file_YC/LiP.cif'] # structure paths to compare\n",
    "\n",
    "from_unit = 0.1 # unit: 1/angstrom, it must be equal to or greater than zero\n",
    "to_unit = 1.0 # unit: 1/angstrom, it must be smaller than the maximum scattering vector\n",
    "run_analysis.basic_setup(str_path, from_unit, to_unit, broadening=0.01) # broadening -> used to simulate diffraction patterns"
   ]
  },
  {
   "cell_type": "code",
   "execution_count": null,
   "id": "206c6e24-2355-49c4-877d-25b126fc500d",
   "metadata": {
    "editable": true,
    "slideshow": {
     "slide_type": ""
    },
    "tags": []
   },
   "outputs": [],
   "source": [
    "# Sum of radial variance and average profiles\n",
    "# profile_type: \"mean\" or \"variance\"\n",
    "# str_name=[\"structure_name_1\", \"structure_name_2\"]\n",
    "run_analysis.sum_radial_profile(str_name=[\"Li2O\"], \n",
    "                                profile_type=\"variance\")"
   ]
  },
  {
   "cell_type": "code",
   "execution_count": null,
   "id": "c9a66142-8e79-4cf2-b746-59a721da37f0",
   "metadata": {
    "editable": true,
    "slideshow": {
     "slide_type": ""
    },
    "tags": []
   },
   "outputs": [],
   "source": [
    "# NMF with normalization (rescale every profile from 0 to 1)\n",
    "# Please refer to Scikit-learn, 'nmf' or 'https://github.com/jinseuk56/drca'\n",
    "# profile_type: \"mean\" or \"variance\"\n",
    "num_comp = 5\n",
    "run_analysis.NMF_decompose(num_comp, \n",
    "                           max_normalize=False, \n",
    "                           rescale_0to1=True, \n",
    "                           profile_type=\"variance\", \n",
    "                           verbose=True)"
   ]
  },
  {
   "cell_type": "code",
   "execution_count": null,
   "id": "80ca6fe1-9392-4f3d-9cdd-027fd0e7bb44",
   "metadata": {
    "editable": true,
    "slideshow": {
     "slide_type": ""
    },
    "tags": []
   },
   "outputs": [],
   "source": [
    "# NMF - loading vectors and their coefficient maps\n",
    "run_analysis.NMF_result()"
   ]
  },
  {
   "cell_type": "code",
   "execution_count": null,
   "id": "b326b14d-1f4f-4179-8b7a-84f9ca92eac0",
   "metadata": {
    "editable": true,
    "slideshow": {
     "slide_type": ""
    },
    "tags": []
   },
   "outputs": [],
   "source": [
    "# NMF - show the pixels with high coefficients for each loading vector and the averaged profiles for those pixels\n",
    "# str_name=[\"structure_name_1\", \"structure_name_2\"]\n",
    "# percentile_threshold -> if 90, only the pixels with the 10% highest coefficients remain\n",
    "run_analysis.NMF_comparison(str_name=[\"Li2O\"], \n",
    "                            percentile_threshold=90)"
   ]
  },
  {
   "cell_type": "code",
   "execution_count": null,
   "id": "f1a0b90e-be8d-4ba9-8382-57a8679bc3e4",
   "metadata": {
    "editable": true,
    "slideshow": {
     "slide_type": ""
    },
    "tags": []
   },
   "outputs": [],
   "source": [
    "# Peak detection\n",
    "# Please refer to SciPy 'find_peaks' for details\n",
    "# scattering vector range -> [peak_position-half_width, peak_position+half_width]\n",
    "half_width = 0.01\n",
    "run_analysis.scattering_range_of_interest(profile_type=\"variance\",\n",
    "                                          str_name=[\"Li2O\"],\n",
    "                                         fill_width=half_width,\n",
    "                                         prominence=0.001,\n",
    "                                         height=None,\n",
    "                                         width=None,\n",
    "                                         distance=None,\n",
    "                                         threshold=None)"
   ]
  },
  {
   "cell_type": "code",
   "execution_count": null,
   "id": "a32b42ec-3308-4c46-befc-4cceeba6bb4b",
   "metadata": {
    "editable": true,
    "slideshow": {
     "slide_type": ""
    },
    "tags": []
   },
   "outputs": [],
   "source": [
    "# Variance maps for the specified scattering vector range\n",
    "# Average and standard deviation of variances for the specified scattering vector range\n",
    "peak_selected = 0.62\n",
    "run_analysis.variance_map(sv_range=[peak_selected-half_width, peak_selected+half_width])"
   ]
  },
  {
   "cell_type": "code",
   "execution_count": null,
   "id": "85371c78-05cd-4977-a8e1-531ecb60f474",
   "metadata": {
    "editable": true,
    "slideshow": {
     "slide_type": ""
    },
    "tags": []
   },
   "outputs": [],
   "source": [
    "# Boolean map (the pixels with higher variances than the absolute threshold)\n",
    "run_analysis.high_variance_map(abs_threshold=0.03)"
   ]
  },
  {
   "cell_type": "code",
   "execution_count": null,
   "id": "30cb7048-2b18-4f74-93cd-2a4e194e2b7d",
   "metadata": {},
   "outputs": [],
   "source": [
    "# Calculate the cross correlation between radial profiles and a simulated diffraction pattern\n",
    "# Please refer to Numpy, 'correlate'\n",
    "run_analysis.Xcorrel(str_name=\"Li2O\", profile_type=\"mean\")"
   ]
  },
  {
   "cell_type": "code",
   "execution_count": null,
   "id": "e39f4780-ddd6-4527-a2aa-1fcc4814431d",
   "metadata": {},
   "outputs": [],
   "source": [
    "# Show the pixels with high cross correlation values and low shifts (lags)\n",
    "run_analysis.high_Xcorr(value_threshold=0.5, shift_threshold=0.5)"
   ]
  },
  {
   "cell_type": "code",
   "execution_count": null,
   "id": "cadb154f-a69d-4220-a9d2-393241805d9f",
   "metadata": {
    "editable": true,
    "slideshow": {
     "slide_type": ""
    },
    "tags": []
   },
   "outputs": [],
   "source": [
    "# Summary and saving\n",
    "run_analysis.summary_save(save=False,\n",
    "                          obtain_dp=True, # obtain the mean and max diffraction pattern for \n",
    "                          log_scale_dp=True)"
   ]
  }
 ],
 "metadata": {
  "kernelspec": {
   "display_name": "Python 3.10 - EPSIC [DLS Conda]",
   "language": "python",
   "name": "conda-env-DLS_Conda-epsic3.10-kernel.json"
  },
  "language_info": {
   "codemirror_mode": {
    "name": "ipython",
    "version": 3
   },
   "file_extension": ".py",
   "mimetype": "text/x-python",
   "name": "python",
   "nbconvert_exporter": "python",
   "pygments_lexer": "ipython3",
   "version": "3.10.13"
  }
 },
 "nbformat": 4,
 "nbformat_minor": 5
}
