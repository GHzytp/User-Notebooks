{
 "cells": [
  {
   "cell_type": "code",
   "execution_count": null,
   "id": "2e96530f-33df-49bc-8d11-698e6aa9a979",
   "metadata": {},
   "outputs": [],
   "source": [
    "import hyperspy.api as hs\n",
    "import numpy as np\n",
    "import matplotlib.pyplot as plt\n",
    "import os\n",
    "import glob\n",
    "import subprocess\n",
    "\n",
    "script_path = \"/~/correct_256.py\"\n",
    "\n",
    "base_path = '/~/Merlin/subfolder'\n",
    "dir_paths = glob.glob(base_path+\"/*\")\n",
    "dir_paths.sort()\n",
    "print(*dir_paths, sep=\"\\n\")"
   ]
  },
  {
   "cell_type": "code",
   "execution_count": null,
   "id": "d38a35e6-5bc3-4a03-aade-e00068bf76ea",
   "metadata": {},
   "outputs": [],
   "source": [
    "bash_script_path = os.path.join(base_path, 'cluster_submit.sh')\n",
    "with open(bash_script_path, 'w') as f:\n",
    "    f.write(\"#!/usr/bin/env bash\\n\")\n",
    "    f.write(\"#SBATCH --partition=cs04r\\n\")\n",
    "    f.write(\"#SBATCH --job-name=hspy_change\\n\")\n",
    "    f.write(\"#SBATCH --nodes=1\\n\")\n",
    "    f.write(\"#SBATCH --ntasks-per-node=4\\n\")\n",
    "    f.write(\"#SBATCH --cpus-per-task=1\\n\")\n",
    "    f.write(\"#SBATCH --time=12:00:00\\n\")\n",
    "    f.write(\"#SBATCH --mem=0G\\n\")\n",
    "    f.write(\"#SBATCH --output=%s/%%j.out\\n\"%base_path)\n",
    "    f.write(\"#SBATCH --error=%s/%%j.error\\n\\n\"%base_path)\n",
    "    \n",
    "    f.write(\"module load python/epsic3.10\\n\")\n",
    "    f.write(f'python {script_path} {base_path}')\n",
    "\n",
    "sshProcess = subprocess.Popen(['ssh',\n",
    "                               '-tt',\n",
    "                               'wilson'],\n",
    "                               stdin=subprocess.PIPE, \n",
    "                               stdout = subprocess.PIPE,\n",
    "                               universal_newlines=True,\n",
    "                               bufsize=0)\n",
    "sshProcess.stdin.write(\"echo END\\n\")\n",
    "sshProcess.stdin.write(\"sbatch \"+bash_script_path+\"\\n\")\n",
    "sshProcess.stdin.write(\"uptime\\n\")\n",
    "sshProcess.stdin.write(\"logout\\n\")\n",
    "sshProcess.stdin.close()"
   ]
  }
 ],
 "metadata": {
  "kernelspec": {
   "display_name": "Python 3.10 - EPSIC [DLS Conda]",
   "language": "python",
   "name": "conda-env-DLS_Conda-epsic3.10-kernel.json"
  },
  "language_info": {
   "codemirror_mode": {
    "name": "ipython",
    "version": 3
   },
   "file_extension": ".py",
   "mimetype": "text/x-python",
   "name": "python",
   "nbconvert_exporter": "python",
   "pygments_lexer": "ipython3",
   "version": "3.10.13"
  },
  "widgets": {
   "application/vnd.jupyter.widget-state+json": {
    "state": {},
    "version_major": 2,
    "version_minor": 0
   }
  }
 },
 "nbformat": 4,
 "nbformat_minor": 5
}
