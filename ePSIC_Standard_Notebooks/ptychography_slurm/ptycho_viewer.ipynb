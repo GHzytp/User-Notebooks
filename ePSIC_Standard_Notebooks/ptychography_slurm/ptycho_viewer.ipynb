{
 "cells": [
  {
   "cell_type": "markdown",
   "id": "8314c7c1-0dfc-4938-be11-f34761c3f418",
   "metadata": {},
   "source": [
    "# Notebook to visualise the ptychography result\n",
    "Created by Jinseok Ryu (jinseok.ryu@diamond.ac.uk)"
   ]
  },
  {
   "cell_type": "code",
   "execution_count": null,
   "id": "db662820-74d6-4dbe-8bf0-c1ba6dde1b61",
   "metadata": {},
   "outputs": [],
   "source": [
    "import os\n",
    "import glob\n",
    "import scipy.ndimage as ndimage\n",
    "import numpy as np\n",
    "import hyperspy.api as hs\n",
    "import matplotlib.pyplot as plt\n",
    "import tifffile\n",
    "import h5py as h5\n",
    "import sys"
   ]
  },
  {
   "cell_type": "markdown",
   "id": "cfe970c6-8aea-40f7-a651-0e972f7004f4",
   "metadata": {},
   "source": [
    "# Load data"
   ]
  },
  {
   "cell_type": "code",
   "execution_count": null,
   "id": "4fdccc58-c2d8-40fe-9f04-5f61c0e4df91",
   "metadata": {},
   "outputs": [],
   "source": [
    "img_adr = ''\n",
    "meta_adr = img_adr[:-3]+'json'\n",
    "print(img_adr)\n",
    "print(meta_adr)\n",
    "data_name = img_adr.split(\"/\")[-1].split('.')[0]\n",
    "print(data_name)"
   ]
  },
  {
   "cell_type": "code",
   "execution_count": null,
   "id": "de285c7a-8da1-4a59-9095-19ea6a21f8fe",
   "metadata": {},
   "outputs": [],
   "source": [
    "try:\n",
    "    with h5.File(img_adr, 'r') as f:\n",
    "        img = f[\"entry_1\"]['process_1']['output_1']['object'][:]\n",
    "        probe_img = f[\"entry_1\"]['process_1']['output_1']['probe'][:]\n",
    "        R_pixel_size = f['/entry_1/process_1/common_1/dx'][0][0]\n",
    "\n",
    "        img = np.squeeze(img)\n",
    "        print(img.shape)\n",
    "        probe_img = np.squeeze(probe_img)\n",
    "        print(probe_img.shape)\n",
    "\n",
    "        if len(probe_img.shape) == 4:\n",
    "            probe_img = np.sum(probe_img, axis=0)\n",
    "        elif len(probe_img.shape) == 5:\n",
    "            probe_img = np.sum(probe_img, axis=0)\n",
    "            probe_img = probe_img[:, -1]\n",
    "        else:\n",
    "            probe_img = probe_img\n",
    "        \n",
    "        probe_img = probe_img[-1]\n",
    "        print(probe_img.shape)\n",
    "        \n",
    "    with open(meta_adr, 'r') as f:\n",
    "        metadata = json.load(f)\n",
    "        HT = metadata['process']['common']['source']['energy'][0]\n",
    "        defocus_exp = metadata['experiment']['optics']['lens']['defocus'][0]\n",
    "        scan_step = metadata['process']['common']['scan']['dR'][0]\n",
    "        Ry_extent_px = metadata['process']['common']['scan']['N'][0]\n",
    "        Rx_extent_px = metadata['process']['common']['scan']['N'][1]\n",
    "        Ry_extent = Ry_extent_px * scan_step\n",
    "        Rx_extent = Rx_extent_px * scan_step\n",
    "        rotation = metadata['process']['common']['scan']['rotation']\n",
    "        print(Ry_extent, Rx_extent, scan_step)\n",
    "\n",
    "    package = \"ptyrex\"\n",
    "    ptyrex_flag = True\n",
    "\n",
    "except:\n",
    "    img = hs.load(img_adr)\n",
    "    Ry_extent = eval(img.metadata[\"Ry_extent\"])\n",
    "    Rx_extent = eval(img.metadata[\"Rx_extent\"])\n",
    "    R_pixel_size = eval(img.metadata[\"R_pixel_size\"])\n",
    "    print(Ry_extent, Rx_extent, R_pixel_size)\n",
    "\n",
    "    package = img.metadata[\"package\"]\n",
    "    recon_type = img.metadata[\"reconstruction_type\"]\n",
    "    print(package, recon_type)\n",
    "\n",
    "    img = img.data\n",
    "    print(img.shape)\n",
    "    print(img.dtype)\n",
    "    print(np.min(img), np.max(img))\n",
    "\n",
    "    ptyrex_flag = False"
   ]
  },
  {
   "cell_type": "markdown",
   "id": "a9410d8f-ab24-424f-b508-82e507e459fc",
   "metadata": {},
   "source": [
    "# Object"
   ]
  },
  {
   "cell_type": "code",
   "execution_count": null,
   "id": "2a8239e2-548e-40d6-8cb8-c23406e30305",
   "metadata": {},
   "outputs": [],
   "source": [
    "Rx_limit_ind = int(np.around(Rx_extent/R_pixel_size))\n",
    "Ry_limit_ind = int(np.around(Ry_extent/R_pixel_size))\n",
    "print(Rx_limit_ind, Ry_limit_ind)\n",
    "\n",
    "rotation = False # correct the scan rotation\n",
    "if rotation:\n",
    "    img = ndimage.rotate(img, angle=rotation, axes=(-2, -1), reshape=False)\n",
    "\n",
    "correct_result = True # cropping\n",
    "\n",
    "if package == \"py4dstem\" or package == \"ptyrex\":\n",
    "    center = True # center cropping\n",
    "else:\n",
    "    center = False\n",
    "\n",
    "if center:\n",
    "    yc_ind = int(np.around(img.shape[-2]/2))\n",
    "    xc_ind = int(np.around(img.shape[-1]/2))\n",
    "\n",
    "    top_ind = yc_ind - int(np.around(Ry_limit_ind/2))\n",
    "    left_ind = xc_ind - int(np.around(Rx_limit_ind/2))"
   ]
  },
  {
   "cell_type": "code",
   "execution_count": null,
   "id": "8076f690-0937-4a43-a97a-106481074138",
   "metadata": {},
   "outputs": [],
   "source": [
    "%matplotlib widget\n",
    "# default -> result of the last iteration\n",
    "\n",
    "if len(img.shape) == 4:\n",
    "    iter_selected = -1\n",
    "    if img.dtype == \"complex64\" or img.dtype == \"complex128\":\n",
    "        result_slice = np.angle(img[iter_selected])\n",
    "    else:\n",
    "        result_slice = img[iter_selected].copy()\n",
    "\n",
    "    if correct_result:\n",
    "        if center:\n",
    "            result_slice = result_slice[:, top_ind:top_ind+Ry_limit_ind, left_ind:left_ind+Rx_limit_ind]\n",
    "        else:\n",
    "            result_slice = result_slice[:, :Ry_limit_ind, :Rx_limit_ind]\n",
    "\n",
    "elif len(img.shape) == 3:\n",
    "    if img.dtype == \"complex64\" or img.dtype == \"complex128\":\n",
    "        result_slice = np.angle(img)\n",
    "    else:\n",
    "        result_slice = img.copy()\n",
    "\n",
    "    if correct_result:\n",
    "        if center:\n",
    "            result_slice = result_slice[:, top_ind:top_ind+Ry_limit_ind, left_ind:left_ind+Rx_limit_ind]\n",
    "        else:\n",
    "            result_slice = result_slice[:, :Ry_limit_ind, :Rx_limit_ind]\n",
    "\n",
    "else:\n",
    "    if img.dtype == \"complex64\" or img.dtype == \"complex128\":\n",
    "        result_slice = np.angle(img)\n",
    "    else:\n",
    "        result_slice = img.copy()\n",
    "\n",
    "    if correct_result:\n",
    "        if center:\n",
    "            result_slice = result_slice[top_ind:top_ind+Ry_limit_ind, left_ind:left_ind+Rx_limit_ind]\n",
    "        else:\n",
    "            result_slice = result_slice[Ry_limit_ind, :Rx_limit_ind]\n",
    "\n",
    "result_slice = hs.signals.Signal2D(result_slice)\n",
    "result_slice.axes_manager[-1].scale = R_pixel_size\n",
    "result_slice.axes_manager[-1].unit = 'Å'\n",
    "result_slice.axes_manager[-2].scale = R_pixel_size\n",
    "result_slice.axes_manager[-2].unit = 'Å'\n",
    "result_slice.plot(cmap=\"inferno\")"
   ]
  },
  {
   "cell_type": "code",
   "execution_count": null,
   "id": "dd63f1c8-934e-4d7a-8af0-433ce7a29943",
   "metadata": {},
   "outputs": [],
   "source": [
    "%matplotlib inline\n",
    "plt.close(\"all\")\n",
    "if len(result_slice.data.shape) == 4:\n",
    "    result_slice.sum(axis=(0, 1)).plot(cmap=\"inferno\")\n",
    "\n",
    "elif len(result_slice.data.shape) == 3:\n",
    "    result_slice.sum(axis=0).plot(cmap=\"inferno\")\n",
    "\n",
    "else:\n",
    "    result_slice.plot(cmap=\"inferno\")  "
   ]
  },
  {
   "cell_type": "code",
   "execution_count": null,
   "id": "ce1ee8e2-0c4d-4c52-a654-aecc29188b84",
   "metadata": {},
   "outputs": [],
   "source": [
    "tifffile.imwrite(data_name[:-20]+'_object.tif', result_slice.data)"
   ]
  },
  {
   "cell_type": "markdown",
   "id": "f3344207-7601-40de-b1ea-9ca340b39e61",
   "metadata": {},
   "source": [
    "# Probe"
   ]
  },
  {
   "cell_type": "code",
   "execution_count": null,
   "id": "9867b8ba-df55-45dd-b43c-71de96ae1779",
   "metadata": {},
   "outputs": [],
   "source": [
    "if package=='abtem_legacy':\n",
    "    probe_adr = img_adr[:-10]+\"probe.hspy\"\n",
    "    probe_img = hs.load(probe_adr).data\n",
    "    print(probe_img.shape)\n",
    "    print(probe_img.dtype)\n",
    "    if len(probe_img.shape) == 4:\n",
    "        probe_img = probe_img[-1, 0]\n",
    "    elif len(probe_img.shape) == 3:\n",
    "        probe_img = probe_img[0]\n",
    "    probe_save = img_adr[:-10]+\"probe.tif\"\n",
    "    \n",
    "elif package=='py4dstem':\n",
    "    probe_adr = img_adr[:-10]+\"probe.hspy\"\n",
    "    probe_img = hs.load(probe_adr).data\n",
    "    print(probe_img.shape)\n",
    "    print(probe_img.dtype)\n",
    "    if len(probe_img.shape) == 4:\n",
    "        probe_img = np.sum(probe_img, axis=1)\n",
    "        probe_img = probe_img[-1]\n",
    "    elif len(probe_img.shape) == 3:\n",
    "        probe_img = np.sum(probe_img, axis=0)\n",
    "    probe_save = img_adr[:-10]+\"probe.tif\"\n",
    "\n",
    "else:\n",
    "    print(probe_img.shape)\n",
    "    print(probe_img.dtype)\n",
    "    probe_save = img_adr[:-4]+\"_probe.tif\"\n",
    "    \n",
    "print(\"final shape\")\n",
    "print(probe_img.shape)"
   ]
  },
  {
   "cell_type": "code",
   "execution_count": null,
   "id": "9362a90f-5a3b-4bc4-8d1e-595c366ad503",
   "metadata": {},
   "outputs": [],
   "source": [
    "%matplotlib widget\n",
    "result_probe = np.abs(probe_img)\n",
    "print(result_probe.shape)\n",
    "\n",
    "result_probe = hs.signals.Signal2D(result_probe)\n",
    "result_probe.plot(cmap=\"inferno\")"
   ]
  },
  {
   "cell_type": "code",
   "execution_count": null,
   "id": "33deac1f-098c-461c-a88c-41bd2693f0ed",
   "metadata": {},
   "outputs": [],
   "source": [
    "tifffile.imwrite(probe_save, result_probe.data)"
   ]
  },
  {
   "cell_type": "markdown",
   "id": "5630845a-e393-42d2-9349-9b1a86be4d2d",
   "metadata": {},
   "source": [
    "# Depth view"
   ]
  },
  {
   "cell_type": "code",
   "execution_count": null,
   "id": "53af8bce-607b-45bb-92a6-a86cfd4b454f",
   "metadata": {},
   "outputs": [],
   "source": [
    "%matplotlib inline\n",
    "sx, sy = 80, 320\n",
    "ex, ey = 160, 320\n",
    "try:\n",
    "    slope = (ey-sy) / (ex-sx)\n",
    "    b = sy - slope*sx\n",
    "    x_point = np.arange(sx, ex, 1)\n",
    "    y_point = x_point * slope + b\n",
    "except:\n",
    "    y_point = np.arange(sy, ey, 1)\n",
    "    x_point = np.full_like(y_point, sx)\n",
    "\n",
    "x_point = x_point.astype(np.int16)\n",
    "y_point = y_point.astype(np.int16)\n",
    "\n",
    "fig, ax = plt.subplots(1, 2, figsize=(12, 6))\n",
    "ax[0].imshow(np.sum(result_show.data, axis=0), cmap=\"gray\")\n",
    "ax[0].plot(x_point, y_point, 'r-')\n",
    "\n",
    "depth_profile = []\n",
    "for i in range(len(x_point)):\n",
    "    depth_profile.append(result_show.data[:, y_point[i], x_point[i]])\n",
    "depth_profile = np.asarray(depth_profile)\n",
    "print(depth_profile.shape)\n",
    "\n",
    "ax[1].imshow(depth_profile.T, cmap='inferno', aspect='auto')\n",
    "ax[1].axis(\"off\")\n",
    "\n",
    "fig.tight_layout()\n",
    "plt.show()"
   ]
  }
 ],
 "metadata": {
  "kernelspec": {
   "display_name": "Python 3.10 - EPSIC [DLS Conda]",
   "language": "python",
   "name": "conda-env-DLS_Conda-epsic3.10-kernel.json"
  },
  "language_info": {
   "codemirror_mode": {
    "name": "ipython",
    "version": 3
   },
   "file_extension": ".py",
   "mimetype": "text/x-python",
   "name": "python",
   "nbconvert_exporter": "python",
   "pygments_lexer": "ipython3",
   "version": "3.10.13"
  },
  "widgets": {
   "application/vnd.jupyter.widget-state+json": {
    "state": {},
    "version_major": 2,
    "version_minor": 0
   }
  }
 },
 "nbformat": 4,
 "nbformat_minor": 5
}
