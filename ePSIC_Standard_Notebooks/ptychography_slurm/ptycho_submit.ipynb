{
 "cells": [
  {
   "cell_type": "markdown",
   "id": "ce34129f-8931-4681-8ce3-d00dc3219f86",
   "metadata": {},
   "source": [
    "# Notebook to submit a slurm job for ptychography\n",
    "## PtyREX / py4DSTEM / abTEM\n",
    "### singleslice / mixed-state / multislice / mixed-state multislice\n",
    "### Optimised for 4DSTEM data acquired using Merlin-Medipix detector (E02)\n",
    "Created by Jinseok Ryu (jinseok.ryu@diamond.ac.uk)"
   ]
  },
  {
   "cell_type": "code",
   "execution_count": null,
   "id": "dd98c353-98b0-41c6-ae5b-85c5df6e1e81",
   "metadata": {
    "tags": []
   },
   "outputs": [],
   "source": [
    "import sys\n",
    "sys.path.append('/~/User-Notebooks/ePSIC_Standard_Notebooks/ptychography_slurm/')\n",
    "\n",
    "import tifffile\n",
    "\n",
    "from ptycho_slurm import ptycho_submit"
   ]
  },
  {
   "cell_type": "code",
   "execution_count": null,
   "id": "7692638c-fcef-4a9b-bf0a-9ec4988dc63f",
   "metadata": {
    "tags": []
   },
   "outputs": [],
   "source": [
    "data_path = '/'\n",
    "meta_path = data_path[:-10]+\".hdf\" # when meta_path=None, this will be the path of the metadata file\n",
    "mask_path = '/~/User-Notebooks/ePSIC_Standard_Notebooks/ptychography_slurm/mask/29042024_12bitmask.h5'\n",
    "\n",
    "run = ptycho_submit(data_path, meta_path=None, mask_path=mask_path, save_dir=None)"
   ]
  },
  {
   "cell_type": "code",
   "execution_count": null,
   "id": "be15a6ca-09e6-4dc3-9399-0da61e1b1e3b",
   "metadata": {
    "tags": []
   },
   "outputs": [],
   "source": [
    "# load data (.hdf5, .dm4 or .hspy)\n",
    "run.data_load()"
   ]
  },
  {
   "cell_type": "code",
   "execution_count": null,
   "id": "9a19aade-8765-4eb0-8430-e3a473c08704",
   "metadata": {
    "tags": []
   },
   "outputs": [],
   "source": [
    "# limit the scan region (square shape)\n",
    "run.scan_region_crop(24, 27, 64, crop_R=False) # y position, x position, width"
   ]
  },
  {
   "cell_type": "code",
   "execution_count": null,
   "id": "4921c753-02dd-4455-a445-3cfd306d5b25",
   "metadata": {
    "tags": []
   },
   "outputs": [],
   "source": [
    "# limit the reciprocal region (square shape)\n",
    "run.DP_region_crop(160, 105, 300, crop_Q=True) # y position, x position, width"
   ]
  },
  {
   "cell_type": "code",
   "execution_count": null,
   "id": "ac682de5-1c25-45a2-b8e6-a9cff307a154",
   "metadata": {
    "tags": []
   },
   "outputs": [],
   "source": [
    "run.binning(binsize=1) # binning the reciprocal dimensions\n",
    "run.fill_cross(fill=False) # fill the cross dead zone"
   ]
  },
  {
   "cell_type": "code",
   "execution_count": null,
   "id": "ef75ba6d-a021-40f3-b7f5-bd0947311d30",
   "metadata": {
    "tags": []
   },
   "outputs": [],
   "source": [
    "# py4DSTEM - get_probe_size\n",
    "run.disk_detect(delete_stack=False, th_lower=0.01, th_upper=0.55, reload=False)"
   ]
  },
  {
   "cell_type": "code",
   "execution_count": null,
   "id": "b2cf5a62-8009-43e4-99d1-e6493dfc8914",
   "metadata": {
    "tags": []
   },
   "outputs": [],
   "source": [
    "# py4DSTEM - get virtual BF & ADF STEM images\n",
    "run.virtual_STEM()"
   ]
  },
  {
   "cell_type": "code",
   "execution_count": null,
   "id": "8b168f2c-dfe0-4e6e-96c0-2593c93863ac",
   "metadata": {},
   "outputs": [],
   "source": [
    "tifffile.imwrite(run.save_dir+\"/\"+run.data_name+\"_vBF.tif\", run.dataset.tree('bright_field')[:, :])\n",
    "tifffile.imwrite(run.save_dir+\"/\"+run.data_name+\"_vADF.tif\", run.dataset.tree('dark_field')[:, :])"
   ]
  },
  {
   "cell_type": "code",
   "execution_count": null,
   "id": "ce612afb-7dd6-4ffd-af93-7019a6ed756c",
   "metadata": {
    "scrolled": true,
    "tags": []
   },
   "outputs": [],
   "source": [
    "# py4DSTEM - get CoMx, CoMy, iDPC\n",
    "run.DPC(low_pass=None, high_pass=0.1)"
   ]
  },
  {
   "cell_type": "code",
   "execution_count": null,
   "id": "d2ab7ef1-886b-4027-b8a3-67a0ce522be3",
   "metadata": {
    "tags": []
   },
   "outputs": [],
   "source": [
    "tifffile.imwrite(run.save_dir+\"/\"+run.data_name+\"_iDPC.tif\", run.dpc_cor.object_phase)"
   ]
  },
  {
   "cell_type": "code",
   "execution_count": null,
   "id": "916cc11e-d723-4b36-b839-99b74ff550fa",
   "metadata": {
    "tags": []
   },
   "outputs": [],
   "source": [
    "# py4DSTEM - parallax\n",
    "run.parallax()"
   ]
  },
  {
   "cell_type": "code",
   "execution_count": null,
   "id": "f8f1c0a4-0718-415c-bb80-e33d82471d12",
   "metadata": {},
   "outputs": [],
   "source": [
    "tifffile.imwrite(run.save_dir+\"/\"+run.data_name+\"_parallax.tif\", run.parallax._recon_phase_corrected)"
   ]
  },
  {
   "cell_type": "code",
   "execution_count": null,
   "id": "ccd88177-899c-496b-9335-818c623445b8",
   "metadata": {
    "tags": []
   },
   "outputs": [],
   "source": [
    "'''\n",
    "script_path=None\n",
    "package='py4dstem' # 'ptyrex'\n",
    "ptycho_type='mixed-state-multislice'\n",
    "num_iteration=30\n",
    "num_probe=6\n",
    "num_slice=10\n",
    "slice_thickness=20\n",
    "alpha=0.5\n",
    "beta=0.5\n",
    "reconstruction_parameter=1.0\n",
    "shift_radius=0.5\n",
    "shift_trial=3\n",
    "max_batch_size=256\n",
    "tv_denoise=False\n",
    "'''\n",
    "\n",
    "run.prepare_submit( package='py4dstem',\n",
    "                    ptycho_type='mixed-state-multislice',\n",
    "                    num_iteration=30,\n",
    "                    num_probe=6, # mixed-state\n",
    "                    num_slice=10,\n",
    "                    slice_thickness=40, # Angstrom\n",
    "                    alpha=0.5, # PtyREX - weight parameter for object update\n",
    "                    beta=0.5, # PtyREX - weight parameter for probe update\n",
    "                    reconstruction_parameter=1.0, # py4DSTEM - gradient descent update parameter\n",
    "                    shift_radius=0.5, # scan position correction (distance)\n",
    "                    shift_trial=3, # scan psition correction (number of trials)\n",
    "                    max_batch_size=128, # py4DSTEM - batch size\n",
    "                    tv_denoise=False,) # py4DSTEM - total variation"
   ]
  },
  {
   "cell_type": "code",
   "execution_count": null,
   "id": "3eadf94d-c446-47bb-90c8-1ffe5f5b9a17",
   "metadata": {
    "tags": []
   },
   "outputs": [],
   "source": [
    "run.submit_job()"
   ]
  }
 ],
 "metadata": {
  "kernelspec": {
   "display_name": "Python 3.10 - EPSIC [DLS Conda]",
   "language": "python",
   "name": "conda-env-DLS_Conda-epsic3.10-kernel.json"
  },
  "language_info": {
   "codemirror_mode": {
    "name": "ipython",
    "version": 3
   },
   "file_extension": ".py",
   "mimetype": "text/x-python",
   "name": "python",
   "nbconvert_exporter": "python",
   "pygments_lexer": "ipython3",
   "version": "3.10.13"
  },
  "widgets": {
   "application/vnd.jupyter.widget-state+json": {
    "state": {},
    "version_major": 2,
    "version_minor": 0
   }
  }
 },
 "nbformat": 4,
 "nbformat_minor": 5
}
