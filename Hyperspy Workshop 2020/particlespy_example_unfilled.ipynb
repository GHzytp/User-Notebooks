{
 "cells": [
  {
   "cell_type": "markdown",
   "metadata": {
    "slideshow": {
     "slide_type": "slide"
    }
   },
   "source": [
    "# Introduction to using ParticleSpy"
   ]
  },
  {
   "cell_type": "markdown",
   "metadata": {
    "slideshow": {
     "slide_type": "-"
    }
   },
   "source": [
    "This is an example notebook for performing particle analysis using ParticleSpy.\n",
    "\n",
    "This notebook takes a HAADF image of nanoparticles, allows the user to determine the best segmentation method and then performs analysis, producing a plot of particle areas."
   ]
  },
  {
   "cell_type": "markdown",
   "metadata": {
    "slideshow": {
     "slide_type": "slide"
    }
   },
   "source": [
    "Below, we load an image using Hyperspy."
   ]
  },
  {
   "cell_type": "code",
   "execution_count": null,
   "metadata": {
    "scrolled": true,
    "slideshow": {
     "slide_type": "-"
    }
   },
   "outputs": [],
   "source": [
    "import hyperspy.api as hs\n",
    "import ParticleSpy.api as ps\n",
    "\n",
    "filename = \"data/SiO2 HAADF Image.hspy\"\n",
    "haadf = hs.load(filename)\n",
    "\n",
    "%matplotlib inline\n",
    "haadf.plot()"
   ]
  },
  {
   "cell_type": "markdown",
   "metadata": {
    "slideshow": {
     "slide_type": "slide"
    }
   },
   "source": [
    "Next, we can examine the image and determine the optimum segmentation procedure using the segmentation GUI. Experiment with changing the threshold algorithm and the application of watershedding to obtain the optimum labels. Once happy, click \"Get Params\" to print the current parameters."
   ]
  },
  {
   "cell_type": "code",
   "execution_count": null,
   "metadata": {
    "slideshow": {
     "slide_type": "-"
    }
   },
   "outputs": [],
   "source": [
    "ps."
   ]
  },
  {
   "cell_type": "markdown",
   "metadata": {
    "slideshow": {
     "slide_type": "slide"
    }
   },
   "source": [
    "Next, we use the parameters saved when last pressing Update in the GUI to construct a parameter dictionary and use this to perform the segmentation."
   ]
  },
  {
   "cell_type": "code",
   "execution_count": null,
   "metadata": {
    "slideshow": {
     "slide_type": "-"
    }
   },
   "outputs": [],
   "source": [
    "params = \n",
    "params.\n",
    "params.\n",
    "particles = "
   ]
  },
  {
   "cell_type": "markdown",
   "metadata": {
    "slideshow": {
     "slide_type": "slide"
    }
   },
   "source": [
    "Let's interrogate the particle data a little bit. From an initial image we get a number of particle properties calculated automatically."
   ]
  },
  {
   "cell_type": "code",
   "execution_count": null,
   "metadata": {},
   "outputs": [],
   "source": [
    "print()\n",
    "print()"
   ]
  },
  {
   "cell_type": "markdown",
   "metadata": {
    "slideshow": {
     "slide_type": "slide"
    }
   },
   "source": [
    "It is then possible to plot a histogram of particle area."
   ]
  },
  {
   "cell_type": "code",
   "execution_count": null,
   "metadata": {
    "slideshow": {
     "slide_type": "-"
    }
   },
   "outputs": [],
   "source": [
    "particles."
   ]
  },
  {
   "cell_type": "markdown",
   "metadata": {},
   "source": [
    "It is also possible to plot a scatter plot of two properties. In this instance, plotting 'intensity' vs area."
   ]
  },
  {
   "cell_type": "code",
   "execution_count": null,
   "metadata": {},
   "outputs": [],
   "source": [
    "particles."
   ]
  },
  {
   "cell_type": "markdown",
   "metadata": {},
   "source": [
    "Properties are one of the key parts of ParticleSpy. Not only can you plot them, it's possible to cluster different particles based on their properties. For example, clustering of the SiO2 particles based on both area and 'intensity':"
   ]
  },
  {
   "cell_type": "code",
   "execution_count": null,
   "metadata": {},
   "outputs": [],
   "source": [
    "particles_clustered = particles.\n",
    "ps."
   ]
  },
  {
   "cell_type": "markdown",
   "metadata": {
    "slideshow": {
     "slide_type": "slide"
    }
   },
   "source": [
    "## ParticleSpy with EDS data"
   ]
  },
  {
   "cell_type": "markdown",
   "metadata": {
    "slideshow": {
     "slide_type": "-"
    }
   },
   "source": [
    "If you have EDS data collected simultaneously with an image, it is possible to extract maps, spectra and the composition from each segmented particle. Firstly, load the EDS spectrum image."
   ]
  },
  {
   "cell_type": "code",
   "execution_count": null,
   "metadata": {
    "slideshow": {
     "slide_type": "-"
    }
   },
   "outputs": [],
   "source": [
    "eds_filename = \"data/SiO2 EDS Spectrum Image.hspy\"\n",
    "eds = hs.load(eds_filename)"
   ]
  },
  {
   "cell_type": "markdown",
   "metadata": {
    "slideshow": {
     "slide_type": "slide"
    }
   },
   "source": [
    "Next, put the HAADF image and EDS spectrum image together in a list to make one acquisition."
   ]
  },
  {
   "cell_type": "code",
   "execution_count": null,
   "metadata": {
    "slideshow": {
     "slide_type": "-"
    }
   },
   "outputs": [],
   "source": [
    "ac = [haadf,eds]"
   ]
  },
  {
   "cell_type": "markdown",
   "metadata": {
    "slideshow": {
     "slide_type": "slide"
    }
   },
   "source": [
    "At this point, we need to set the parameters for the EDS analysis. This can be done by taking our previously used parameters object adding parameters with generate_eds()."
   ]
  },
  {
   "cell_type": "code",
   "execution_count": null,
   "metadata": {
    "slideshow": {
     "slide_type": "-"
    }
   },
   "outputs": [],
   "source": [
    "params."
   ]
  },
  {
   "cell_type": "markdown",
   "metadata": {
    "slideshow": {
     "slide_type": "slide"
    }
   },
   "source": [
    "Now, we need to run ParticleAnalysis again in order to get the accompanying EDS data."
   ]
  },
  {
   "cell_type": "code",
   "execution_count": null,
   "metadata": {
    "slideshow": {
     "slide_type": "-"
    }
   },
   "outputs": [],
   "source": [
    "particles2 = ps.ParticleAnalysis(ac,params)"
   ]
  },
  {
   "cell_type": "markdown",
   "metadata": {
    "slideshow": {
     "slide_type": "slide"
    }
   },
   "source": [
    "The extracted maps of each element can be accessed from the particle list from maps['element']."
   ]
  },
  {
   "cell_type": "code",
   "execution_count": null,
   "metadata": {
    "slideshow": {
     "slide_type": "-"
    }
   },
   "outputs": [],
   "source": [
    "particles2.list[0].maps['Si'].as_signal2D([0,1]).plot()"
   ]
  },
  {
   "cell_type": "markdown",
   "metadata": {
    "slideshow": {
     "slide_type": "slide"
    }
   },
   "source": [
    "The composition of each particle can be accessed from the particle list using list[particle].composition."
   ]
  },
  {
   "cell_type": "code",
   "execution_count": null,
   "metadata": {
    "slideshow": {
     "slide_type": "-"
    }
   },
   "outputs": [],
   "source": [
    "particles2.list[0].composition"
   ]
  },
  {
   "cell_type": "markdown",
   "metadata": {},
   "source": [
    "We can plot a radial profile of the particle intensity from both the image and our elemental maps."
   ]
  },
  {
   "cell_type": "code",
   "execution_count": null,
   "metadata": {},
   "outputs": [],
   "source": [
    "rp = ps."
   ]
  },
  {
   "cell_type": "code",
   "execution_count": null,
   "metadata": {},
   "outputs": [],
   "source": [
    "rp2 = ps."
   ]
  },
  {
   "cell_type": "markdown",
   "metadata": {},
   "source": [
    "## ParticleSpy with EELS data"
   ]
  },
  {
   "cell_type": "markdown",
   "metadata": {},
   "source": [
    "ParticleSpy does not automatically process EELS data other than to store a sum spectrum for each particle. This gives us an opportunity to explore adding properties to particles though, woohoo! Let's start by loading EELS data for new particles."
   ]
  },
  {
   "cell_type": "code",
   "execution_count": null,
   "metadata": {},
   "outputs": [],
   "source": [
    "ac2 = [hs.load(r'C:\\Users\\qzo13262\\Desktop\\Hyperspy Workshop\\data/ADF Image.dm4'),hs.load(r'C:\\Users\\qzo13262\\Desktop\\Hyperspy Workshop\\data/EELS Spectrum Image (high-loss).dm4'),hs.load(r'C:\\Users\\qzo13262\\Desktop\\Hyperspy Workshop\\data/EELS Spectrum Image (low-loss).dm4')]"
   ]
  },
  {
   "cell_type": "markdown",
   "metadata": {},
   "source": [
    "For this dataset it is difficult to use automated segmentation routines to segment the particles. Therefore, we're going to load a manually created mask."
   ]
  },
  {
   "cell_type": "code",
   "execution_count": null,
   "metadata": {},
   "outputs": [],
   "source": [
    "mask = hs.load(r'C:\\Users\\qzo13262\\Desktop\\Hyperspy Workshop\\data/EELS mask.tif')"
   ]
  },
  {
   "cell_type": "code",
   "execution_count": null,
   "metadata": {},
   "outputs": [],
   "source": [
    "mask.plot()"
   ]
  },
  {
   "cell_type": "markdown",
   "metadata": {},
   "source": [
    "Now, the loaded binary mask can be given as the mask argument in ParticleAnalysis."
   ]
  },
  {
   "cell_type": "code",
   "execution_count": null,
   "metadata": {},
   "outputs": [],
   "source": [
    "particles3 = ps.ParticleAnalysis(ac2,params,mask=)"
   ]
  },
  {
   "cell_type": "code",
   "execution_count": null,
   "metadata": {},
   "outputs": [],
   "source": [
    "particles3.list[0].spectrum['EELS-HL'].plot()"
   ]
  },
  {
   "cell_type": "markdown",
   "metadata": {},
   "source": [
    "We can now write a function to analyse the EELS spectrum of each particle and add certain properties from this spectrum to each particle. I have written a function that fits Gaussians to the white lines in the Co L edge, in a similar manner to the end of the EELS tutorial. At the end of the function, we'll add some of the results of the fit as particle properties."
   ]
  },
  {
   "cell_type": "code",
   "execution_count": null,
   "metadata": {},
   "outputs": [],
   "source": [
    "def co_eels_analysis(p):\n",
    "    p.spectrum['EELS-LL'].align_zero_loss_peak(also_align=[p.spectrum['EELS-HL']])\n",
    "    p.spectrum['EELS-HL'].crop_signal1D(750.0,850.0)\n",
    "    spec = p.spectrum['EELS-HL'].remove_background(signal_range=(750.0,780.0),fast=False)\n",
    "    m = spec.create_model(ll=p.spectrum['EELS-LL'], auto_background=False)\n",
    "    m.set_signal_range((775.0,810.0))\n",
    "    g1 = hs.model.components1D.GaussianHF()\n",
    "    m.append(g1)\n",
    "    m.fit_component(g1,(780.0,790.0))\n",
    "    g2 = hs.model.components1D.GaussianHF()\n",
    "    m.append(g2)\n",
    "    m.fit_component(g2,(792.0,802.0))\n",
    "    m.plot(plot_components=True)\n",
    "    g3 = hs.model.components1D.HeavisideStep()\n",
    "    m.append(g3)\n",
    "    g3.n.value = g1.centre.value\n",
    "    g3.n.bmin = g1.centre.value - 0.5\n",
    "    g3.n.bmax = g1.centre.value + 0.5\n",
    "    g3.n.bounded = True\n",
    "    g4 = hs.model.components1D.HeavisideStep()\n",
    "    m.append(g4)\n",
    "    g4.n.value = g2.centre.value\n",
    "    g4.n.bmin = g2.centre.value - 0.5\n",
    "    g4.n.bmax = g2.centre.value + 0.5\n",
    "    g4.n.bounded = True\n",
    "    m.multifit()\n",
    "    \n",
    "    g1_g2_ratio = (g1.height.value*abs(g1.fwhm.value))/(g2.height.value*abs(g2.fwhm.value))\n",
    "    p.\n",
    "    g1_centre = g1.centre.value\n",
    "    p.\n",
    "    g1_g2_distance = g2.centre.value-g1.centre.value\n",
    "    p."
   ]
  },
  {
   "cell_type": "markdown",
   "metadata": {},
   "source": [
    "The next step is to iteratively use this function on each particle."
   ]
  },
  {
   "cell_type": "code",
   "execution_count": null,
   "metadata": {},
   "outputs": [],
   "source": [
    "for p in particles3.list:\n",
    "    co_eels_analysis(p)"
   ]
  },
  {
   "cell_type": "markdown",
   "metadata": {},
   "source": [
    "It's now possible to use the plotting functions to plot the new properties from the EELS data."
   ]
  },
  {
   "cell_type": "code",
   "execution_count": null,
   "metadata": {},
   "outputs": [],
   "source": [
    "particles3.plot()"
   ]
  },
  {
   "cell_type": "code",
   "execution_count": null,
   "metadata": {},
   "outputs": [],
   "source": []
  }
 ],
 "metadata": {
  "celltoolbar": "Raw Cell Format",
  "kernelspec": {
   "display_name": "ParticleSpy dev",
   "language": "python",
   "name": "pspy-dev"
  },
  "language_info": {
   "codemirror_mode": {
    "name": "ipython",
    "version": 3
   },
   "file_extension": ".py",
   "mimetype": "text/x-python",
   "name": "python",
   "nbconvert_exporter": "python",
   "pygments_lexer": "ipython3",
   "version": "3.7.4"
  }
 },
 "nbformat": 4,
 "nbformat_minor": 2
}
